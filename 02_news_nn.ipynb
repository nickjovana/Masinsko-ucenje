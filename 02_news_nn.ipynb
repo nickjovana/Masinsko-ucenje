{
 "cells": [
  {
   "cell_type": "code",
   "execution_count": 1,
   "metadata": {},
   "outputs": [],
   "source": [
    "import numpy as np\n",
    "import pandas as pd\n",
    "from sklearn import model_selection\n",
    "from sklearn import metrics\n",
    "from sklearn import feature_extraction\n",
    "from sklearn import linear_model\n",
    "from sklearn import multiclass\n",
    "from sklearn import svm\n",
    "from sklearn import neighbors\n",
    "from sklearn import naive_bayes\n",
    "from sklearn import decomposition\n",
    "from sklearn.model_selection import train_test_split\n",
    "import sklearn.preprocessing\n",
    "\n",
    "from keras.models import Sequential\n",
    "from keras.layers import Dense, Dropout, Embedding, Conv1D, MaxPool1D, GlobalMaxPool1D, Activation, SpatialDropout1D, LSTM, SimpleRNN\n",
    "from keras.optimizers import Adam, SGD, RMSprop\n",
    "from keras import losses, optimizers\n",
    "from keras import preprocessing\n",
    "from keras.utils import to_categorical\n",
    "from keras.losses import CategoricalCrossentropy, BinaryCrossentropy\n",
    "\n",
    "from matplotlib import pyplot as plt\n",
    "\n",
    "import tensorflow as tf"
   ]
  },
  {
   "cell_type": "markdown",
   "metadata": {},
   "source": [
    "Izvršićemo klasifikaciju podataka neurnoskim mrežama za različit broj kategorija (2, 10, 36). Učitaćemo podatke i odraditi vektorizaciju, a zatim podeliti na podatke na trening, test i validacione skupove. Isprobavali smo različite vrednosti za parametre modela (units, epochs, batch_size, learning_rate) kao i broj slojeva i za ove vrednosti smo dobili najbolje moguće modele za naše podatke."
   ]
  },
  {
   "cell_type": "markdown",
   "metadata": {},
   "source": [
    "Funkcija <i>GetData</i> će nam služiti za učitavanje podataka u zavisnosti od broja kategorija."
   ]
  },
  {
   "cell_type": "code",
   "execution_count": 2,
   "metadata": {},
   "outputs": [],
   "source": [
    "def GetData(num_of_categories, categories):\n",
    "    news = pd.read_csv('data/vesti.csv')\n",
    "    if num_of_categories == 36:\n",
    "        X = news['text']\n",
    "        y = news['category']\n",
    "    else:\n",
    "        news = news[news.category.isin(categories)]\n",
    "        X = news['text']\n",
    "        y = news['category']\n",
    "        \n",
    "    return (X, y)"
   ]
  },
  {
   "cell_type": "markdown",
   "metadata": {},
   "source": [
    "Funkcija <i>TransformData</i> izršava vektorizaciju nad skupom X i prevodi kategoričke vrednosti skupa y u indikatorske promenljive."
   ]
  },
  {
   "cell_type": "code",
   "execution_count": 3,
   "metadata": {},
   "outputs": [],
   "source": [
    "def TransformData(X, y):\n",
    "    vectorizer = feature_extraction.text.CountVectorizer(min_df=0)\n",
    "    vectorizer.fit(X.values.astype('U'))\n",
    "\n",
    "    X_transformed = vectorizer.transform(X.values.astype('U'))\n",
    "\n",
    "    y_transformed = pd.get_dummies(y).values\n",
    "    \n",
    "    return (X_transformed, y_transformed)"
   ]
  },
  {
   "cell_type": "markdown",
   "metadata": {},
   "source": [
    "Funkcija <i>TrainTestValidationSplit</i> deli podatke na trening, validacioni (validation size: 0.2) i test (test size: 0.2) skup sa stratifikacijom po y skupu."
   ]
  },
  {
   "cell_type": "code",
   "execution_count": 4,
   "metadata": {},
   "outputs": [],
   "source": [
    "def TrainTestValidationSplit(X, y):\n",
    "    X_train_validation, X_test, y_train_validation, y_test = train_test_split(X, y, test_size = 0.2, stratify = y, random_state = 4)\n",
    "    X_train, X_validation, y_train, y_validation = train_test_split(X_train_validation, y_train_validation, test_size = 0.2, stratify = y_train_validation, random_state = 4)\n",
    "    \n",
    "    return (X_train, X_validation, X_test, y_train, y_validation, y_test)"
   ]
  },
  {
   "cell_type": "markdown",
   "metadata": {},
   "source": [
    "Funkcija <i>EvaluateModel</i> će služiti za evaluaciju podataka na test skupu i vizualizaciju dobijenih vrednosti funkcije greške i tačnosti."
   ]
  },
  {
   "cell_type": "code",
   "execution_count": 5,
   "metadata": {},
   "outputs": [],
   "source": [
    "def EvaluateModel(model, X_test, y_test, history):\n",
    "    score = model.evaluate(X_test, y_test)\n",
    "    print('Test loss: ', score[0])\n",
    "    print('Test accuracy: ', score[1])\n",
    "    \n",
    "    epochs = history.epoch\n",
    "    \n",
    "    loss = history.history['loss']\n",
    "    validation_loss = history.history['val_loss']\n",
    "    \n",
    "    accuracy = history.history['accuracy']\n",
    "    validation_accuracy = history.history['val_accuracy']\n",
    "    \n",
    "    plt.figure(figsize=(12,8))\n",
    "    plt.title('Loss')\n",
    "    plt.xlabel('epochs')\n",
    "    plt.ylabel('loss')\n",
    "    plt.plot(epochs, loss, c='red', label = 'training')\n",
    "    plt.plot(epochs, validation_loss, c='orange', label='validation')\n",
    "    plt.legend(loc = 'best')\n",
    "    plt.show()\n",
    "    \n",
    "    plt.figure(figsize=(12,8))\n",
    "    plt.title('Accuracy')\n",
    "    plt.xlabel('epochs')\n",
    "    plt.ylabel('accuracy')\n",
    "    plt.plot(epochs, accuracy, c='red', label = 'training')\n",
    "    plt.plot(epochs, validation_accuracy, c = 'orange', label = 'validation')\n",
    "    plt.legend(loc = 'best')\n",
    "    plt.show()"
   ]
  },
  {
   "cell_type": "markdown",
   "metadata": {},
   "source": [
    "### Klasifikacija za 2 kategorije"
   ]
  },
  {
   "cell_type": "markdown",
   "metadata": {},
   "source": [
    "Učitavamo podatke za dve kategorije koje imaju najveći broj članaka u skupu."
   ]
  },
  {
   "cell_type": "code",
   "execution_count": 6,
   "metadata": {},
   "outputs": [
    {
     "name": "stdout",
     "output_type": "stream",
     "text": [
      "(50281,)\n",
      "(50281,)\n"
     ]
    }
   ],
   "source": [
    "categories2 = ['POLITICS', 'WELLNESS']\n",
    "X2, y2 = GetData(2, categories2)\n",
    "print(X2.shape)\n",
    "print(y2.shape)"
   ]
  },
  {
   "cell_type": "markdown",
   "metadata": {},
   "source": [
    "Transformišemo podatke i delimo ih na skupove za trening, test i validaciju."
   ]
  },
  {
   "cell_type": "code",
   "execution_count": 7,
   "metadata": {},
   "outputs": [],
   "source": [
    "X2_transformed, y2_transformed = TransformData(X2, y2)"
   ]
  },
  {
   "cell_type": "code",
   "execution_count": 8,
   "metadata": {},
   "outputs": [
    {
     "name": "stdout",
     "output_type": "stream",
     "text": [
      "(50281, 42262)\n",
      "(50281, 2)\n"
     ]
    }
   ],
   "source": [
    "print(X2_transformed.shape)\n",
    "print(y2_transformed.shape)"
   ]
  },
  {
   "cell_type": "code",
   "execution_count": 9,
   "metadata": {},
   "outputs": [],
   "source": [
    "X2_train, X2_validation, X2_test, y2_train, y2_validation, y2_test = TrainTestValidationSplit(X2_transformed, y2_transformed)"
   ]
  },
  {
   "cell_type": "code",
   "execution_count": 10,
   "metadata": {},
   "outputs": [
    {
     "name": "stdout",
     "output_type": "stream",
     "text": [
      "(32179, 42262)\n",
      "(10057, 42262)\n"
     ]
    }
   ],
   "source": [
    "print(X2_train.shape)\n",
    "print(X2_test.shape)"
   ]
  },
  {
   "cell_type": "code",
   "execution_count": 11,
   "metadata": {},
   "outputs": [
    {
     "name": "stdout",
     "output_type": "stream",
     "text": [
      "(32179, 2)\n",
      "(10057, 2)\n"
     ]
    }
   ],
   "source": [
    "print(y2_train.shape)\n",
    "print(y2_test.shape)"
   ]
  },
  {
   "cell_type": "code",
   "execution_count": 12,
   "metadata": {},
   "outputs": [
    {
     "name": "stdout",
     "output_type": "stream",
     "text": [
      "(8045, 42262)\n",
      "(8045, 42262)\n"
     ]
    }
   ],
   "source": [
    "print(X2_validation.shape)\n",
    "print(X2_validation.shape)"
   ]
  },
  {
   "cell_type": "markdown",
   "metadata": {},
   "source": [
    "Kreiramo model i zatim prikazujemo rezultate."
   ]
  },
  {
   "cell_type": "code",
   "execution_count": 13,
   "metadata": {},
   "outputs": [
    {
     "name": "stdout",
     "output_type": "stream",
     "text": [
      "Model: \"sequential\"\n",
      "_________________________________________________________________\n",
      "Layer (type)                 Output Shape              Param #   \n",
      "=================================================================\n",
      "dense (Dense)                (None, 150)               6339450   \n",
      "_________________________________________________________________\n",
      "dropout (Dropout)            (None, 150)               0         \n",
      "_________________________________________________________________\n",
      "dense_1 (Dense)              (None, 100)               15100     \n",
      "_________________________________________________________________\n",
      "dropout_1 (Dropout)          (None, 100)               0         \n",
      "_________________________________________________________________\n",
      "dense_2 (Dense)              (None, 50)                5050      \n",
      "_________________________________________________________________\n",
      "dropout_2 (Dropout)          (None, 50)                0         \n",
      "_________________________________________________________________\n",
      "dense_3 (Dense)              (None, 2)                 102       \n",
      "=================================================================\n",
      "Total params: 6,359,702\n",
      "Trainable params: 6,359,702\n",
      "Non-trainable params: 0\n",
      "_________________________________________________________________\n"
     ]
    }
   ],
   "source": [
    "model2 = Sequential()\n",
    "model2.add(Dense(units = 150, input_dim = X2_train.shape[1], activation = 'relu'))\n",
    "model2.add(Dropout(0.5))\n",
    "model2.add(Dense(units = 100, activation = 'relu'))\n",
    "model2.add(Dropout(0.5))\n",
    "model2.add(Dense(units = 50, activation = 'relu'))\n",
    "model2.add(Dropout(0.5))\n",
    "model2.add(Dense(2, activation = 'softmax'))\n",
    "\n",
    "model2.compile(optimizer = Adam(learning_rate = 0.0001), loss = CategoricalCrossentropy(), metrics = ['accuracy'])\n",
    "model2.summary()"
   ]
  },
  {
   "cell_type": "code",
   "execution_count": 14,
   "metadata": {},
   "outputs": [
    {
     "name": "stdout",
     "output_type": "stream",
     "text": [
      "Epoch 1/15\n",
      "252/252 [==============================] - 16s 64ms/step - loss: 0.5002 - accuracy: 0.7434 - val_loss: 0.1860 - val_accuracy: 0.9715\n",
      "Epoch 2/15\n",
      "252/252 [==============================] - 15s 59ms/step - loss: 0.1208 - accuracy: 0.9726 - val_loss: 0.0610 - val_accuracy: 0.9804\n",
      "Epoch 3/15\n",
      "252/252 [==============================] - 15s 60ms/step - loss: 0.0499 - accuracy: 0.9883 - val_loss: 0.0540 - val_accuracy: 0.9831\n",
      "Epoch 4/15\n",
      "252/252 [==============================] - 13s 52ms/step - loss: 0.0301 - accuracy: 0.9928 - val_loss: 0.0553 - val_accuracy: 0.9838\n",
      "Epoch 5/15\n",
      "252/252 [==============================] - 16s 63ms/step - loss: 0.0181 - accuracy: 0.9956 - val_loss: 0.0584 - val_accuracy: 0.9840\n",
      "Epoch 6/15\n",
      "252/252 [==============================] - 16s 63ms/step - loss: 0.0114 - accuracy: 0.9976 - val_loss: 0.0623 - val_accuracy: 0.9838\n",
      "Epoch 7/15\n",
      "252/252 [==============================] - 14s 56ms/step - loss: 0.0081 - accuracy: 0.9983 - val_loss: 0.0670 - val_accuracy: 0.9836\n",
      "Epoch 8/15\n",
      "252/252 [==============================] - 13s 52ms/step - loss: 0.0050 - accuracy: 0.9992 - val_loss: 0.0712 - val_accuracy: 0.9842\n",
      "Epoch 9/15\n",
      "252/252 [==============================] - 15s 58ms/step - loss: 0.0036 - accuracy: 0.9994 - val_loss: 0.0764 - val_accuracy: 0.9840\n",
      "Epoch 10/15\n",
      "252/252 [==============================] - 13s 53ms/step - loss: 0.0026 - accuracy: 0.9996 - val_loss: 0.0814 - val_accuracy: 0.9838\n",
      "Epoch 11/15\n",
      "252/252 [==============================] - 14s 55ms/step - loss: 0.0020 - accuracy: 0.9995 - val_loss: 0.0854 - val_accuracy: 0.9833\n",
      "Epoch 12/15\n",
      "252/252 [==============================] - 13s 53ms/step - loss: 0.0015 - accuracy: 0.9997 - val_loss: 0.0893 - val_accuracy: 0.9837\n",
      "Epoch 13/15\n",
      "252/252 [==============================] - 13s 54ms/step - loss: 0.0016 - accuracy: 0.9996 - val_loss: 0.0923 - val_accuracy: 0.9841\n",
      "Epoch 14/15\n",
      "252/252 [==============================] - 13s 53ms/step - loss: 8.9423e-04 - accuracy: 0.9998 - val_loss: 0.0957 - val_accuracy: 0.9838\n",
      "Epoch 15/15\n",
      "252/252 [==============================] - 14s 54ms/step - loss: 8.7713e-04 - accuracy: 0.9999 - val_loss: 0.0994 - val_accuracy: 0.9836\n"
     ]
    }
   ],
   "source": [
    "history2 = model2.fit(X2_train, y2_train, epochs=15, batch_size=128, validation_data=(X2_validation, y2_validation))"
   ]
  },
  {
   "cell_type": "code",
   "execution_count": 15,
   "metadata": {},
   "outputs": [
    {
     "name": "stdout",
     "output_type": "stream",
     "text": [
      "315/315 [==============================] - 0s 2ms/step - loss: 0.1016 - accuracy: 0.9816\n",
      "Test loss:  0.1015961617231369\n",
      "Test accuracy:  0.9816048741340637\n"
     ]
    },
    {
     "data": {
      "image/png": "[encoded data removed]",
      "text/plain": [
       "<Figure size 864x576 with 1 Axes>"
      ]
     },
     "metadata": {
      "needs_background": "light"
     },
     "output_type": "display_data"
    },
    {
     "data": {
      "image/png": "[encoded data removed]",
      "text/plain": [
       "<Figure size 864x576 with 1 Axes>"
      ]
     },
     "metadata": {
      "needs_background": "light"
     },
     "output_type": "display_data"
    }
   ],
   "source": [
    "EvaluateModel(model2, X2_test, y2_test, history2)"
   ]
  },
  {
   "cell_type": "markdown",
   "metadata": {},
   "source": [
    "### Klasifikacija za 10 kategorija"
   ]
  },
  {
   "cell_type": "markdown",
   "metadata": {},
   "source": [
    "Ponovićemo postupak kao za klasifikaciju za 2 kategorije samo uz drugačiji model. Koristili smo 10 kategorija koje smo koristili i u svsci knn_and_bayes10.ipynb."
   ]
  },
  {
   "cell_type": "code",
   "execution_count": 16,
   "metadata": {},
   "outputs": [],
   "source": [
    "categories10 = ['DIVORCE', 'WEDDINGS', 'STYLE AND BEAUTY', 'QUEER VOICES', 'POLITICS', 'HOME & LIVING', 'TRAVEL', 'WORLD NEWS', 'SPORTS', 'ENTERTAINMENT']\n",
    "X10, y10 = GetData(10, categories10)"
   ]
  },
  {
   "cell_type": "code",
   "execution_count": 17,
   "metadata": {},
   "outputs": [
    {
     "name": "stdout",
     "output_type": "stream",
     "text": [
      "(100100,)\n",
      "(100100,)\n"
     ]
    }
   ],
   "source": [
    "print(X10.shape)\n",
    "print(y10.shape)"
   ]
  },
  {
   "cell_type": "code",
   "execution_count": 18,
   "metadata": {},
   "outputs": [],
   "source": [
    "X10_transformed, y10_transformed = TransformData(X10, y10)"
   ]
  },
  {
   "cell_type": "code",
   "execution_count": 19,
   "metadata": {},
   "outputs": [
    {
     "name": "stdout",
     "output_type": "stream",
     "text": [
      "(100100, 70788)\n",
      "(100100, 10)\n"
     ]
    }
   ],
   "source": [
    "print(X10_transformed.shape)\n",
    "print(y10_transformed.shape)"
   ]
  },
  {
   "cell_type": "code",
   "execution_count": 20,
   "metadata": {},
   "outputs": [],
   "source": [
    "X10_train, X10_validation, X10_test, y10_train, y10_validation, y10_test = TrainTestValidationSplit(X10_transformed, y10_transformed)"
   ]
  },
  {
   "cell_type": "code",
   "execution_count": 21,
   "metadata": {},
   "outputs": [
    {
     "name": "stdout",
     "output_type": "stream",
     "text": [
      "(64064, 70788)\n",
      "(20020, 70788)\n"
     ]
    }
   ],
   "source": [
    "print(X10_train.shape)\n",
    "print(X10_test.shape)"
   ]
  },
  {
   "cell_type": "code",
   "execution_count": 22,
   "metadata": {},
   "outputs": [
    {
     "name": "stdout",
     "output_type": "stream",
     "text": [
      "(64064, 10)\n",
      "(20020, 10)\n"
     ]
    }
   ],
   "source": [
    "print(y10_train.shape)\n",
    "print(y10_test.shape)"
   ]
  },
  {
   "cell_type": "code",
   "execution_count": 23,
   "metadata": {},
   "outputs": [
    {
     "name": "stdout",
     "output_type": "stream",
     "text": [
      "(16016, 70788)\n",
      "(16016, 70788)\n"
     ]
    }
   ],
   "source": [
    "print(X10_validation.shape)\n",
    "print(X10_validation.shape)"
   ]
  },
  {
   "cell_type": "code",
   "execution_count": 24,
   "metadata": {},
   "outputs": [
    {
     "name": "stdout",
     "output_type": "stream",
     "text": [
      "Model: \"sequential_1\"\n",
      "_________________________________________________________________\n",
      "Layer (type)                 Output Shape              Param #   \n",
      "=================================================================\n",
      "dense_4 (Dense)              (None, 200)               14157800  \n",
      "_________________________________________________________________\n",
      "dropout_3 (Dropout)          (None, 200)               0         \n",
      "_________________________________________________________________\n",
      "dense_5 (Dense)              (None, 120)               24120     \n",
      "_________________________________________________________________\n",
      "dropout_4 (Dropout)          (None, 120)               0         \n",
      "_________________________________________________________________\n",
      "dense_6 (Dense)              (None, 80)                9680      \n",
      "_________________________________________________________________\n",
      "dropout_5 (Dropout)          (None, 80)                0         \n",
      "_________________________________________________________________\n",
      "dense_7 (Dense)              (None, 30)                2430      \n",
      "_________________________________________________________________\n",
      "dropout_6 (Dropout)          (None, 30)                0         \n",
      "_________________________________________________________________\n",
      "dense_8 (Dense)              (None, 10)                310       \n",
      "=================================================================\n",
      "Total params: 14,194,340\n",
      "Trainable params: 14,194,340\n",
      "Non-trainable params: 0\n",
      "_________________________________________________________________\n"
     ]
    }
   ],
   "source": [
    "model10 = Sequential()\n",
    "model10.add(Dense(units = 200, input_dim = X10_train.shape[1], activation = 'relu'))\n",
    "model10.add(Dropout(0.5))\n",
    "model10.add(Dense(units = 120, activation = 'relu'))\n",
    "model10.add(Dropout(0.5))\n",
    "model10.add(Dense(units = 80, activation = 'relu'))\n",
    "model10.add(Dropout(0.5))\n",
    "model10.add(Dense(units = 30, activation = 'relu'))\n",
    "model10.add(Dropout(0.5))\n",
    "model10.add(Dense(10, activation = 'softmax'))\n",
    "\n",
    "model10.compile(optimizer = Adam(learning_rate = 0.0001), loss = CategoricalCrossentropy(), metrics = ['accuracy'])\n",
    "model10.summary()"
   ]
  },
  {
   "cell_type": "code",
   "execution_count": 25,
   "metadata": {},
   "outputs": [
    {
     "name": "stdout",
     "output_type": "stream",
     "text": [
      "Epoch 1/8\n",
      "501/501 [==============================] - 51s 101ms/step - loss: 1.9973 - accuracy: 0.2931 - val_loss: 1.5748 - val_accuracy: 0.5220\n",
      "Epoch 2/8\n",
      "501/501 [==============================] - 51s 101ms/step - loss: 1.4319 - accuracy: 0.5271 - val_loss: 1.0028 - val_accuracy: 0.6557\n",
      "Epoch 3/8\n",
      "501/501 [==============================] - 53s 106ms/step - loss: 1.0594 - accuracy: 0.6396 - val_loss: 0.8120 - val_accuracy: 0.7160\n",
      "Epoch 4/8\n",
      "501/501 [==============================] - 55s 110ms/step - loss: 0.8685 - accuracy: 0.6991 - val_loss: 0.7094 - val_accuracy: 0.7433\n",
      "Epoch 5/8\n",
      "501/501 [==============================] - 53s 105ms/step - loss: 0.7427 - accuracy: 0.7377 - val_loss: 0.6499 - val_accuracy: 0.7865\n",
      "Epoch 6/8\n",
      "501/501 [==============================] - 57s 114ms/step - loss: 0.6309 - accuracy: 0.7775 - val_loss: 0.6047 - val_accuracy: 0.8069\n",
      "Epoch 7/8\n",
      "501/501 [==============================] - 61s 121ms/step - loss: 0.5508 - accuracy: 0.8071 - val_loss: 0.5883 - val_accuracy: 0.8216\n",
      "Epoch 8/8\n",
      "501/501 [==============================] - 60s 120ms/step - loss: 0.4852 - accuracy: 0.8285 - val_loss: 0.5832 - val_accuracy: 0.8279\n"
     ]
    }
   ],
   "source": [
    "history10 = model10.fit(X10_train, y10_train, epochs=8, batch_size=128, validation_data=(X10_validation, y10_validation))"
   ]
  },
  {
   "cell_type": "code",
   "execution_count": 26,
   "metadata": {},
   "outputs": [
    {
     "name": "stdout",
     "output_type": "stream",
     "text": [
      "626/626 [==============================] - 1s 2ms/step - loss: 0.5655 - accuracy: 0.8279\n",
      "Test loss:  0.5655071139335632\n",
      "Test accuracy:  0.8278721570968628\n"
     ]
    },
    {
     "data": {
      "image/png": "[encoded data removed]",
      "text/plain": [
       "<Figure size 864x576 with 1 Axes>"
      ]
     },
     "metadata": {
      "needs_background": "light"
     },
     "output_type": "display_data"
    },
    {
     "data": {
      "image/png": "[encoded data removed]",
      "text/plain": [
       "<Figure size 864x576 with 1 Axes>"
      ]
     },
     "metadata": {
      "needs_background": "light"
     },
     "output_type": "display_data"
    }
   ],
   "source": [
    "EvaluateModel(model10, X10_test, y10_test, history10)"
   ]
  },
  {
   "cell_type": "markdown",
   "metadata": {},
   "source": [
    "### Klasifikacija za 36 kategorija"
   ]
  },
  {
   "cell_type": "code",
   "execution_count": 27,
   "metadata": {},
   "outputs": [
    {
     "name": "stdout",
     "output_type": "stream",
     "text": [
      "(198627,)\n",
      "(198627,)\n"
     ]
    }
   ],
   "source": [
    "X, y = GetData(36, [])\n",
    "print(X.shape)\n",
    "print(y.shape)"
   ]
  },
  {
   "cell_type": "code",
   "execution_count": 28,
   "metadata": {},
   "outputs": [],
   "source": [
    "X_transformed, y_transformed = TransformData(X, y)"
   ]
  },
  {
   "cell_type": "code",
   "execution_count": 29,
   "metadata": {},
   "outputs": [
    {
     "name": "stdout",
     "output_type": "stream",
     "text": [
      "(198627, 110570)\n",
      "(198627, 36)\n"
     ]
    }
   ],
   "source": [
    "print(X_transformed.shape)\n",
    "print(y_transformed.shape)"
   ]
  },
  {
   "cell_type": "code",
   "execution_count": 30,
   "metadata": {},
   "outputs": [],
   "source": [
    "X_train, X_validation, X_test, y_train, y_validation, y_test = TrainTestValidationSplit(X_transformed, y_transformed)"
   ]
  },
  {
   "cell_type": "code",
   "execution_count": 31,
   "metadata": {},
   "outputs": [
    {
     "name": "stdout",
     "output_type": "stream",
     "text": [
      "(127120, 110570)\n",
      "(39726, 110570)\n"
     ]
    }
   ],
   "source": [
    "print(X_train.shape)\n",
    "print(X_test.shape)"
   ]
  },
  {
   "cell_type": "code",
   "execution_count": 32,
   "metadata": {},
   "outputs": [
    {
     "name": "stdout",
     "output_type": "stream",
     "text": [
      "(127120, 36)\n",
      "(39726, 36)\n"
     ]
    }
   ],
   "source": [
    "print(y_train.shape)\n",
    "print(y_test.shape)"
   ]
  },
  {
   "cell_type": "code",
   "execution_count": 33,
   "metadata": {},
   "outputs": [
    {
     "name": "stdout",
     "output_type": "stream",
     "text": [
      "(31781, 110570)\n",
      "(31781, 110570)\n"
     ]
    }
   ],
   "source": [
    "print(X_validation.shape)\n",
    "print(X_validation.shape)"
   ]
  },
  {
   "cell_type": "code",
   "execution_count": 34,
   "metadata": {},
   "outputs": [
    {
     "name": "stdout",
     "output_type": "stream",
     "text": [
      "Model: \"sequential_2\"\n",
      "_________________________________________________________________\n",
      "Layer (type)                 Output Shape              Param #   \n",
      "=================================================================\n",
      "dense_9 (Dense)              (None, 200)               22114200  \n",
      "_________________________________________________________________\n",
      "dropout_7 (Dropout)          (None, 200)               0         \n",
      "_________________________________________________________________\n",
      "dense_10 (Dense)             (None, 150)               30150     \n",
      "_________________________________________________________________\n",
      "dropout_8 (Dropout)          (None, 150)               0         \n",
      "_________________________________________________________________\n",
      "dense_11 (Dense)             (None, 100)               15100     \n",
      "_________________________________________________________________\n",
      "dropout_9 (Dropout)          (None, 100)               0         \n",
      "_________________________________________________________________\n",
      "dense_12 (Dense)             (None, 60)                6060      \n",
      "_________________________________________________________________\n",
      "dropout_10 (Dropout)         (None, 60)                0         \n",
      "_________________________________________________________________\n",
      "dense_13 (Dense)             (None, 36)                2196      \n",
      "=================================================================\n",
      "Total params: 22,167,706\n",
      "Trainable params: 22,167,706\n",
      "Non-trainable params: 0\n",
      "_________________________________________________________________\n"
     ]
    }
   ],
   "source": [
    "model = Sequential()\n",
    "model.add(Dense(units = 200, input_dim = X_train.shape[1], activation = 'relu'))\n",
    "model.add(Dropout(0.5))\n",
    "model.add(Dense(units = 150, activation = 'relu'))\n",
    "model.add(Dropout(0.5))\n",
    "model.add(Dense(units = 100, activation = 'relu'))\n",
    "model.add(Dropout(0.5))\n",
    "model.add(Dense(units = 60, activation = 'relu'))\n",
    "model.add(Dropout(0.5))\n",
    "model.add(Dense(36, activation = 'softmax'))\n",
    "\n",
    "model.compile(optimizer = Adam(learning_rate=0.0001), loss = CategoricalCrossentropy(), metrics = ['accuracy'])\n",
    "model.summary()"
   ]
  },
  {
   "cell_type": "code",
   "execution_count": 35,
   "metadata": {},
   "outputs": [
    {
     "name": "stdout",
     "output_type": "stream",
     "text": [
      "Epoch 1/10\n",
      "994/994 [==============================] - 151s 152ms/step - loss: 3.0577 - accuracy: 0.1913 - val_loss: 2.5503 - val_accuracy: 0.3374\n",
      "Epoch 2/10\n",
      "994/994 [==============================] - 153s 154ms/step - loss: 2.4565 - accuracy: 0.3581 - val_loss: 2.1263 - val_accuracy: 0.4463\n",
      "Epoch 3/10\n",
      "994/994 [==============================] - 150s 151ms/step - loss: 2.1184 - accuracy: 0.4400 - val_loss: 1.8728 - val_accuracy: 0.5223\n",
      "Epoch 4/10\n",
      "994/994 [==============================] - 169s 170ms/step - loss: 1.8627 - accuracy: 0.5003 - val_loss: 1.6895 - val_accuracy: 0.5647\n",
      "Epoch 5/10\n",
      "994/994 [==============================] - 157s 157ms/step - loss: 1.6662 - accuracy: 0.5427 - val_loss: 1.5851 - val_accuracy: 0.5966\n",
      "Epoch 6/10\n",
      "994/994 [==============================] - 148s 149ms/step - loss: 1.5052 - accuracy: 0.5778 - val_loss: 1.5250 - val_accuracy: 0.6191\n",
      "Epoch 7/10\n",
      "994/994 [==============================] - 150s 151ms/step - loss: 1.3800 - accuracy: 0.6074 - val_loss: 1.4870 - val_accuracy: 0.6330\n",
      "Epoch 8/10\n",
      "994/994 [==============================] - 148s 149ms/step - loss: 1.2660 - accuracy: 0.6356 - val_loss: 1.4723 - val_accuracy: 0.6446\n",
      "Epoch 9/10\n",
      "994/994 [==============================] - 151s 152ms/step - loss: 1.1729 - accuracy: 0.6593 - val_loss: 1.4700 - val_accuracy: 0.6521\n",
      "Epoch 10/10\n",
      "994/994 [==============================] - 151s 152ms/step - loss: 1.0883 - accuracy: 0.6807 - val_loss: 1.4864 - val_accuracy: 0.6587\n"
     ]
    }
   ],
   "source": [
    "history = model.fit(X_train, y_train, epochs=10, batch_size=128, validation_data=(X_validation, y_validation))"
   ]
  },
  {
   "cell_type": "code",
   "execution_count": 36,
   "metadata": {},
   "outputs": [
    {
     "name": "stdout",
     "output_type": "stream",
     "text": [
      "1242/1242 [==============================] - 2s 2ms/step - loss: 1.4908 - accuracy: 0.6579\n",
      "Test loss:  1.4908291101455688\n",
      "Test accuracy:  0.6579318046569824\n"
     ]
    },
    {
     "data": {
      "image/png": "[encoded data removed]",
      "text/plain": [
       "<Figure size 864x576 with 1 Axes>"
      ]
     },
     "metadata": {
      "needs_background": "light"
     },
     "output_type": "display_data"
    },
    {
     "data": {
      "image/png": "[encoded data removed]",
      "text/plain": [
       "<Figure size 864x576 with 1 Axes>"
      ]
     },
     "metadata": {
      "needs_background": "light"
     },
     "output_type": "display_data"
    }
   ],
   "source": [
    "EvaluateModel(model, X_test, y_test, history)"
   ]
  }
 ],
 "metadata": {
  "kernelspec": {
   "display_name": "Python 3",
   "language": "python",
   "name": "python3"
  },
  "language_info": {
   "codemirror_mode": {
    "name": "ipython",
    "version": 3
   },
   "file_extension": ".py",
   "mimetype": "text/x-python",
   "name": "python",
   "nbconvert_exporter": "python",
   "pygments_lexer": "ipython3",
   "version": "3.8.5"
  }
 },
 "nbformat": 4,
 "nbformat_minor": 4
}
