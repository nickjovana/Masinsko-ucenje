{
 "cells": [
  {
   "cell_type": "code",
   "execution_count": 1,
   "metadata": {},
   "outputs": [],
   "source": [
    "import numpy as np\n",
    "import pandas as pd\n",
    "from sklearn import model_selection\n",
    "from sklearn import metrics\n",
    "from sklearn import feature_extraction\n",
    "from sklearn import linear_model\n",
    "from sklearn import multiclass\n",
    "from sklearn import svm\n",
    "from sklearn import neighbors\n",
    "from sklearn import naive_bayes\n",
    "from sklearn import decomposition\n",
    "from sklearn.model_selection import train_test_split\n",
    "import sklearn.preprocessing\n",
    "\n",
    "from keras.models import Sequential\n",
    "from keras.layers import Dense, Dropout, Embedding, Conv1D, MaxPool1D, GlobalMaxPool1D, Activation, SpatialDropout1D, LSTM, SimpleRNN\n",
    "from keras.optimizers import Adam, SGD, RMSprop\n",
    "from keras import losses, optimizers\n",
    "from keras import preprocessing\n",
    "from keras.utils import to_categorical\n",
    "from keras.losses import CategoricalCrossentropy, BinaryCrossentropy\n",
    "from keras.callbacks import EarlyStopping\n",
    "\n",
    "from matplotlib import pyplot as plt\n",
    "\n",
    "import tensorflow as tf"
   ]
  },
  {
   "cell_type": "markdown",
   "metadata": {},
   "source": [
    "Izvršićemo klasifikaciju podataka neurnoskim mrežama za različit broj kategorija (2, 10, 36). Učitaćemo podatke i odraditi vektorizaciju, a zatim podeliti na podatke na trening, test i validacione skupove. Isprobavali smo različite vrednosti za parametre modela (units, epochs, batch_size, learning_rate) kao i broj slojeva i za ove vrednosti smo dobili najbolje moguće modele za naše podatke."
   ]
  },
  {
   "cell_type": "markdown",
   "metadata": {},
   "source": [
    "Funkcija <i>GetData</i> će nam služiti za učitavanje podataka u zavisnosti od broja kategorija."
   ]
  },
  {
   "cell_type": "code",
   "execution_count": 2,
   "metadata": {},
   "outputs": [],
   "source": [
    "def GetData(num_of_categories, categories):\n",
    "    news = pd.read_csv('data/vesti.csv')\n",
    "    if num_of_categories == 36:\n",
    "        X = news['text']\n",
    "        y = news['category']\n",
    "    else:\n",
    "        news = news[news.category.isin(categories)]\n",
    "        X = news['text']\n",
    "        y = news['category']\n",
    "        \n",
    "    return (X, y)"
   ]
  },
  {
   "cell_type": "markdown",
   "metadata": {},
   "source": [
    "Funkcija <i>TransformData</i> izršava vektorizaciju nad skupom X i prevodi kategoričke vrednosti skupa y u indikatorske promenljive."
   ]
  },
  {
   "cell_type": "code",
   "execution_count": 3,
   "metadata": {},
   "outputs": [],
   "source": [
    "def TransformData(X, y):\n",
    "    vectorizer = feature_extraction.text.CountVectorizer(min_df=0)\n",
    "    vectorizer.fit(X.values.astype('U'))\n",
    "\n",
    "    X_transformed = vectorizer.transform(X.values.astype('U'))\n",
    "\n",
    "    y_transformed = pd.get_dummies(y).values\n",
    "    \n",
    "    return (X_transformed, y_transformed)"
   ]
  },
  {
   "cell_type": "markdown",
   "metadata": {},
   "source": [
    "Funkcija <i>TrainTestValidationSplit</i> deli podatke na trening, validacioni (validation size: 0.2) i test (test size: 0.2) skup sa stratifikacijom po y skupu."
   ]
  },
  {
   "cell_type": "code",
   "execution_count": 4,
   "metadata": {},
   "outputs": [],
   "source": [
    "def TrainTestValidationSplit(X, y):\n",
    "    X_train_validation, X_test, y_train_validation, y_test = train_test_split(X, y, test_size = 0.2, stratify = y, random_state = 4)\n",
    "    X_train, X_validation, y_train, y_validation = train_test_split(X_train_validation, y_train_validation, test_size = 0.2, stratify = y_train_validation, random_state = 4)\n",
    "    \n",
    "    return (X_train, X_validation, X_test, y_train, y_validation, y_test)"
   ]
  },
  {
   "cell_type": "markdown",
   "metadata": {},
   "source": [
    "Funkcija <i>EvaluateModel</i> će služiti za evaluaciju podataka na test skupu i vizualizaciju dobijenih vrednosti funkcije greške i tačnosti."
   ]
  },
  {
   "cell_type": "code",
   "execution_count": 5,
   "metadata": {},
   "outputs": [],
   "source": [
    "def EvaluateModel(model, X_test, y_test, history):\n",
    "    score = model.evaluate(X_test, y_test)\n",
    "    print('Test loss: ', score[0])\n",
    "    print('Test accuracy: ', score[1])\n",
    "    \n",
    "    epochs = history.epoch\n",
    "    \n",
    "    loss = history.history['loss']\n",
    "    validation_loss = history.history['val_loss']\n",
    "    \n",
    "    accuracy = history.history['accuracy']\n",
    "    validation_accuracy = history.history['val_accuracy']\n",
    "    \n",
    "    plt.figure(figsize=(12,8))\n",
    "    plt.title('Loss')\n",
    "    plt.xlabel('epochs')\n",
    "    plt.ylabel('loss')\n",
    "    plt.plot(epochs, loss, c='red', label = 'training')\n",
    "    plt.plot(epochs, validation_loss, c='orange', label='validation')\n",
    "    plt.legend(loc = 'best')\n",
    "    plt.show()\n",
    "    \n",
    "    plt.figure(figsize=(12,8))\n",
    "    plt.title('Accuracy')\n",
    "    plt.xlabel('epochs')\n",
    "    plt.ylabel('accuracy')\n",
    "    plt.plot(epochs, accuracy, c='red', label = 'training')\n",
    "    plt.plot(epochs, validation_accuracy, c = 'orange', label = 'validation')\n",
    "    plt.legend(loc = 'best')\n",
    "    plt.show()"
   ]
  },
  {
   "cell_type": "markdown",
   "metadata": {},
   "source": [
    "### Klasifikacija za 2 kategorije"
   ]
  },
  {
   "cell_type": "markdown",
   "metadata": {},
   "source": [
    "Učitavamo podatke za dve kategorije koje imaju najveći broj članaka u skupu."
   ]
  },
  {
   "cell_type": "code",
   "execution_count": 6,
   "metadata": {},
   "outputs": [
    {
     "name": "stdout",
     "output_type": "stream",
     "text": [
      "(50281,)\n",
      "(50281,)\n"
     ]
    }
   ],
   "source": [
    "categories2 = ['POLITICS', 'WELLNESS']\n",
    "X2, y2 = GetData(2, categories2)\n",
    "print(X2.shape)\n",
    "print(y2.shape)"
   ]
  },
  {
   "cell_type": "markdown",
   "metadata": {},
   "source": [
    "Transformišemo podatke i delimo ih na skupove za trening, test i validaciju."
   ]
  },
  {
   "cell_type": "code",
   "execution_count": 7,
   "metadata": {},
   "outputs": [],
   "source": [
    "X2_transformed, y2_transformed = TransformData(X2, y2)"
   ]
  },
  {
   "cell_type": "code",
   "execution_count": 8,
   "metadata": {},
   "outputs": [
    {
     "name": "stdout",
     "output_type": "stream",
     "text": [
      "(50281, 42262)\n",
      "(50281, 2)\n"
     ]
    }
   ],
   "source": [
    "print(X2_transformed.shape)\n",
    "print(y2_transformed.shape)"
   ]
  },
  {
   "cell_type": "code",
   "execution_count": 9,
   "metadata": {},
   "outputs": [],
   "source": [
    "X2_train, X2_validation, X2_test, y2_train, y2_validation, y2_test = TrainTestValidationSplit(X2_transformed, y2_transformed)"
   ]
  },
  {
   "cell_type": "code",
   "execution_count": 10,
   "metadata": {},
   "outputs": [
    {
     "name": "stdout",
     "output_type": "stream",
     "text": [
      "(32179, 42262)\n",
      "(10057, 42262)\n"
     ]
    }
   ],
   "source": [
    "print(X2_train.shape)\n",
    "print(X2_test.shape)"
   ]
  },
  {
   "cell_type": "code",
   "execution_count": 11,
   "metadata": {},
   "outputs": [
    {
     "name": "stdout",
     "output_type": "stream",
     "text": [
      "(32179, 2)\n",
      "(10057, 2)\n"
     ]
    }
   ],
   "source": [
    "print(y2_train.shape)\n",
    "print(y2_test.shape)"
   ]
  },
  {
   "cell_type": "code",
   "execution_count": 12,
   "metadata": {},
   "outputs": [
    {
     "name": "stdout",
     "output_type": "stream",
     "text": [
      "(8045, 42262)\n",
      "(8045, 42262)\n"
     ]
    }
   ],
   "source": [
    "print(X2_validation.shape)\n",
    "print(X2_validation.shape)"
   ]
  },
  {
   "cell_type": "markdown",
   "metadata": {},
   "source": [
    "Kreiramo model i zatim prikazujemo rezultate."
   ]
  },
  {
   "cell_type": "code",
   "execution_count": 13,
   "metadata": {},
   "outputs": [
    {
     "name": "stdout",
     "output_type": "stream",
     "text": [
      "Model: \"sequential\"\n",
      "_________________________________________________________________\n",
      "Layer (type)                 Output Shape              Param #   \n",
      "=================================================================\n",
      "dense (Dense)                (None, 150)               6339450   \n",
      "_________________________________________________________________\n",
      "dropout (Dropout)            (None, 150)               0         \n",
      "_________________________________________________________________\n",
      "dense_1 (Dense)              (None, 100)               15100     \n",
      "_________________________________________________________________\n",
      "dropout_1 (Dropout)          (None, 100)               0         \n",
      "_________________________________________________________________\n",
      "dense_2 (Dense)              (None, 50)                5050      \n",
      "_________________________________________________________________\n",
      "dropout_2 (Dropout)          (None, 50)                0         \n",
      "_________________________________________________________________\n",
      "dense_3 (Dense)              (None, 2)                 102       \n",
      "=================================================================\n",
      "Total params: 6,359,702\n",
      "Trainable params: 6,359,702\n",
      "Non-trainable params: 0\n",
      "_________________________________________________________________\n"
     ]
    }
   ],
   "source": [
    "callback2 = EarlyStopping(monitor=\"val_loss\", patience=2)\n",
    "model2 = Sequential()\n",
    "model2.add(Dense(units = 150, input_dim = X2_train.shape[1], activation = 'relu'))\n",
    "model2.add(Dropout(0.5))\n",
    "model2.add(Dense(units = 100, activation = 'relu'))\n",
    "model2.add(Dropout(0.5))\n",
    "model2.add(Dense(units = 50, activation = 'relu'))\n",
    "model2.add(Dropout(0.5))\n",
    "model2.add(Dense(2, activation = 'softmax'))\n",
    "\n",
    "model2.compile(optimizer = Adam(learning_rate = 0.0001), loss = CategoricalCrossentropy(), metrics = ['accuracy'])\n",
    "model2.summary()"
   ]
  },
  {
   "cell_type": "code",
   "execution_count": 14,
   "metadata": {},
   "outputs": [
    {
     "name": "stdout",
     "output_type": "stream",
     "text": [
      "Epoch 1/15\n",
      "252/252 [==============================] - 11s 43ms/step - loss: 0.4968 - accuracy: 0.7397 - val_loss: 0.1790 - val_accuracy: 0.9722\n",
      "Epoch 2/15\n",
      "252/252 [==============================] - 10s 42ms/step - loss: 0.1137 - accuracy: 0.9753 - val_loss: 0.0589 - val_accuracy: 0.9825\n",
      "Epoch 3/15\n",
      "252/252 [==============================] - 10s 41ms/step - loss: 0.0485 - accuracy: 0.9878 - val_loss: 0.0553 - val_accuracy: 0.9833\n",
      "Epoch 4/15\n",
      "252/252 [==============================] - 10s 41ms/step - loss: 0.0287 - accuracy: 0.9928 - val_loss: 0.0568 - val_accuracy: 0.9833\n",
      "Epoch 5/15\n",
      "252/252 [==============================] - 11s 42ms/step - loss: 0.0173 - accuracy: 0.9961 - val_loss: 0.0615 - val_accuracy: 0.9821\n"
     ]
    }
   ],
   "source": [
    "history2 = model2.fit(X2_train, y2_train, epochs=15, batch_size=128, validation_data=(X2_validation, y2_validation), callbacks=[callback2])"
   ]
  },
  {
   "cell_type": "code",
   "execution_count": 15,
   "metadata": {},
   "outputs": [
    {
     "name": "stdout",
     "output_type": "stream",
     "text": [
      "315/315 [==============================] - 0s 905us/step - loss: 0.0613 - accuracy: 0.9824\n",
      "Test loss:  0.061320360749959946\n",
      "Test accuracy:  0.9824002981185913\n"
     ]
    },
    {
     "data": {
      "image/png": "[encoded data removed]",
      "text/plain": [
       "<Figure size 864x576 with 1 Axes>"
      ]
     },
     "metadata": {
      "needs_background": "light"
     },
     "output_type": "display_data"
    },
    {
     "data": {
      "image/png": "[encoded data removed]",
      "text/plain": [
       "<Figure size 864x576 with 1 Axes>"
      ]
     },
     "metadata": {
      "needs_background": "light"
     },
     "output_type": "display_data"
    }
   ],
   "source": [
    "EvaluateModel(model2, X2_test, y2_test, history2)"
   ]
  },
  {
   "cell_type": "code",
   "execution_count": 48,
   "metadata": {},
   "outputs": [
    {
     "name": "stdout",
     "output_type": "stream",
     "text": [
      "              precision    recall  f1-score   support\n",
      "\n",
      "           0       0.99      0.98      0.99      6515\n",
      "           1       0.97      0.98      0.98      3542\n",
      "\n",
      "    accuracy                           0.98     10057\n",
      "   macro avg       0.98      0.98      0.98     10057\n",
      "weighted avg       0.98      0.98      0.98     10057\n",
      "\n",
      "[[6407  108]\n",
      " [  69 3473]]\n"
     ]
    }
   ],
   "source": [
    "p = model2.predict_classes(X2_test, verbose=0)\n",
    "print(metrics.classification_report(np.argmax(y2_test, axis=1), p))\n",
    "print(metrics.confusion_matrix(np.argmax(y2_test, axis=1), p))"
   ]
  },
  {
   "cell_type": "markdown",
   "metadata": {},
   "source": [
    "### Klasifikacija za 10 kategorija"
   ]
  },
  {
   "cell_type": "markdown",
   "metadata": {},
   "source": [
    "Ponovićemo postupak kao za klasifikaciju za 2 kategorije samo uz drugačiji model. Koristili smo 10 kategorija koje smo koristili i u svsci knn_and_bayes10.ipynb."
   ]
  },
  {
   "cell_type": "code",
   "execution_count": 16,
   "metadata": {},
   "outputs": [],
   "source": [
    "categories10 = ['DIVORCE', 'WEDDINGS', 'STYLE AND BEAUTY', 'QUEER VOICES', 'POLITICS', 'HOME & LIVING', 'TRAVEL', 'WORLD NEWS', 'SPORTS', 'ENTERTAINMENT']\n",
    "X10, y10 = GetData(10, categories10)"
   ]
  },
  {
   "cell_type": "code",
   "execution_count": 17,
   "metadata": {},
   "outputs": [
    {
     "name": "stdout",
     "output_type": "stream",
     "text": [
      "(100100,)\n",
      "(100100,)\n"
     ]
    }
   ],
   "source": [
    "print(X10.shape)\n",
    "print(y10.shape)"
   ]
  },
  {
   "cell_type": "code",
   "execution_count": 18,
   "metadata": {},
   "outputs": [],
   "source": [
    "X10_transformed, y10_transformed = TransformData(X10, y10)"
   ]
  },
  {
   "cell_type": "code",
   "execution_count": 19,
   "metadata": {},
   "outputs": [
    {
     "name": "stdout",
     "output_type": "stream",
     "text": [
      "(100100, 70788)\n",
      "(100100, 10)\n"
     ]
    }
   ],
   "source": [
    "print(X10_transformed.shape)\n",
    "print(y10_transformed.shape)"
   ]
  },
  {
   "cell_type": "code",
   "execution_count": 20,
   "metadata": {},
   "outputs": [],
   "source": [
    "X10_train, X10_validation, X10_test, y10_train, y10_validation, y10_test = TrainTestValidationSplit(X10_transformed, y10_transformed)"
   ]
  },
  {
   "cell_type": "code",
   "execution_count": 21,
   "metadata": {},
   "outputs": [
    {
     "name": "stdout",
     "output_type": "stream",
     "text": [
      "(64064, 70788)\n",
      "(20020, 70788)\n"
     ]
    }
   ],
   "source": [
    "print(X10_train.shape)\n",
    "print(X10_test.shape)"
   ]
  },
  {
   "cell_type": "code",
   "execution_count": 22,
   "metadata": {},
   "outputs": [
    {
     "name": "stdout",
     "output_type": "stream",
     "text": [
      "(64064, 10)\n",
      "(20020, 10)\n"
     ]
    }
   ],
   "source": [
    "print(y10_train.shape)\n",
    "print(y10_test.shape)"
   ]
  },
  {
   "cell_type": "code",
   "execution_count": 23,
   "metadata": {},
   "outputs": [
    {
     "name": "stdout",
     "output_type": "stream",
     "text": [
      "(16016, 70788)\n",
      "(16016, 70788)\n"
     ]
    }
   ],
   "source": [
    "print(X10_validation.shape)\n",
    "print(X10_validation.shape)"
   ]
  },
  {
   "cell_type": "code",
   "execution_count": 24,
   "metadata": {},
   "outputs": [
    {
     "name": "stdout",
     "output_type": "stream",
     "text": [
      "Model: \"sequential_1\"\n",
      "_________________________________________________________________\n",
      "Layer (type)                 Output Shape              Param #   \n",
      "=================================================================\n",
      "dense_4 (Dense)              (None, 200)               14157800  \n",
      "_________________________________________________________________\n",
      "dropout_3 (Dropout)          (None, 200)               0         \n",
      "_________________________________________________________________\n",
      "dense_5 (Dense)              (None, 120)               24120     \n",
      "_________________________________________________________________\n",
      "dropout_4 (Dropout)          (None, 120)               0         \n",
      "_________________________________________________________________\n",
      "dense_6 (Dense)              (None, 80)                9680      \n",
      "_________________________________________________________________\n",
      "dropout_5 (Dropout)          (None, 80)                0         \n",
      "_________________________________________________________________\n",
      "dense_7 (Dense)              (None, 30)                2430      \n",
      "_________________________________________________________________\n",
      "dropout_6 (Dropout)          (None, 30)                0         \n",
      "_________________________________________________________________\n",
      "dense_8 (Dense)              (None, 10)                310       \n",
      "=================================================================\n",
      "Total params: 14,194,340\n",
      "Trainable params: 14,194,340\n",
      "Non-trainable params: 0\n",
      "_________________________________________________________________\n"
     ]
    }
   ],
   "source": [
    "callback10 = EarlyStopping(monitor=\"val_loss\", patience=2)\n",
    "model10 = Sequential()\n",
    "model10.add(Dense(units = 200, input_dim = X10_train.shape[1], activation = 'relu'))\n",
    "model10.add(Dropout(0.5))\n",
    "model10.add(Dense(units = 120, activation = 'relu'))\n",
    "model10.add(Dropout(0.5))\n",
    "model10.add(Dense(units = 80, activation = 'relu'))\n",
    "model10.add(Dropout(0.5))\n",
    "model10.add(Dense(units = 30, activation = 'relu'))\n",
    "model10.add(Dropout(0.5))\n",
    "model10.add(Dense(10, activation = 'softmax'))\n",
    "\n",
    "model10.compile(optimizer = Adam(learning_rate = 0.0001), loss = CategoricalCrossentropy(), metrics = ['accuracy'])\n",
    "model10.summary()"
   ]
  },
  {
   "cell_type": "code",
   "execution_count": 25,
   "metadata": {},
   "outputs": [
    {
     "name": "stdout",
     "output_type": "stream",
     "text": [
      "Epoch 1/8\n",
      "501/501 [==============================] - 42s 84ms/step - loss: 1.9395 - accuracy: 0.3282 - val_loss: 1.5425 - val_accuracy: 0.5406\n",
      "Epoch 2/8\n",
      "501/501 [==============================] - 43s 85ms/step - loss: 1.4257 - accuracy: 0.5216 - val_loss: 1.0652 - val_accuracy: 0.6375\n",
      "Epoch 3/8\n",
      "501/501 [==============================] - 47s 95ms/step - loss: 1.1104 - accuracy: 0.6181 - val_loss: 0.8740 - val_accuracy: 0.7203\n",
      "Epoch 4/8\n",
      "501/501 [==============================] - 57s 115ms/step - loss: 0.9273 - accuracy: 0.6837 - val_loss: 0.7906 - val_accuracy: 0.7547\n",
      "Epoch 5/8\n",
      "501/501 [==============================] - 51s 101ms/step - loss: 0.7928 - accuracy: 0.7315 - val_loss: 0.7347 - val_accuracy: 0.7780\n",
      "Epoch 6/8\n",
      "501/501 [==============================] - 51s 103ms/step - loss: 0.6842 - accuracy: 0.7662 - val_loss: 0.6873 - val_accuracy: 0.7916\n",
      "Epoch 7/8\n",
      "501/501 [==============================] - 48s 96ms/step - loss: 0.5964 - accuracy: 0.7924 - val_loss: 0.6674 - val_accuracy: 0.7943\n",
      "Epoch 8/8\n",
      "501/501 [==============================] - 49s 99ms/step - loss: 0.5290 - accuracy: 0.8144 - val_loss: 0.6644 - val_accuracy: 0.7969\n"
     ]
    }
   ],
   "source": [
    "history10 = model10.fit(X10_train, y10_train, epochs=8, batch_size=128, validation_data=(X10_validation, y10_validation), callbacks=[callback10])"
   ]
  },
  {
   "cell_type": "code",
   "execution_count": 26,
   "metadata": {},
   "outputs": [
    {
     "name": "stdout",
     "output_type": "stream",
     "text": [
      "626/626 [==============================] - 1s 1ms/step - loss: 0.6589 - accuracy: 0.7988\n",
      "Test loss:  0.6588755249977112\n",
      "Test accuracy:  0.7988011837005615\n"
     ]
    },
    {
     "data": {
      "image/png": "[encoded data removed]",
      "text/plain": [
       "<Figure size 864x576 with 1 Axes>"
      ]
     },
     "metadata": {
      "needs_background": "light"
     },
     "output_type": "display_data"
    },
    {
     "data": {
      "image/png": "[encoded data removed]",
      "text/plain": [
       "<Figure size 864x576 with 1 Axes>"
      ]
     },
     "metadata": {
      "needs_background": "light"
     },
     "output_type": "display_data"
    }
   ],
   "source": [
    "EvaluateModel(model10, X10_test, y10_test, history10)"
   ]
  },
  {
   "cell_type": "code",
   "execution_count": 47,
   "metadata": {},
   "outputs": [
    {
     "name": "stdout",
     "output_type": "stream",
     "text": [
      "              precision    recall  f1-score   support\n",
      "\n",
      "           0       0.81      0.04      0.08       682\n",
      "           1       0.88      0.90      0.89      3204\n",
      "           2       0.18      0.00      0.01       813\n",
      "           3       0.91      0.93      0.92      6514\n",
      "           4       0.34      0.84      0.49      1259\n",
      "           5       0.75      0.78      0.77       976\n",
      "           6       0.89      0.93      0.91      2207\n",
      "           7       0.91      0.91      0.91      1967\n",
      "           8       0.50      0.01      0.01       717\n",
      "           9       0.81      0.80      0.81      1681\n",
      "\n",
      "    accuracy                           0.80     20020\n",
      "   macro avg       0.70      0.61      0.58     20020\n",
      "weighted avg       0.80      0.80      0.77     20020\n",
      "\n",
      "[[  30   28    8   22  535   26   17    9    0    7]\n",
      " [   0 2878    1  131   75   35   39   26    1   18]\n",
      " [   0   17    4    9  656   24   62   35    1    5]\n",
      " [   0   84    1 6065   37   73    8   22    1  223]\n",
      " [   0   77    0   48 1058   45   14    6    0   11]\n",
      " [   0   52    0   82   51  761   12    9    0    9]\n",
      " [   1   44    0   18   46   11 2049   33    2    3]\n",
      " [   0   30    0   26   24   12   44 1794    0   37]\n",
      " [   5   26    8    9  567   14   64   15    5    4]\n",
      " [   1   37    0  236   22   10    2   25    0 1348]]\n"
     ]
    }
   ],
   "source": [
    "p10 = model10.predict_classes(X10_test, verbose=0)\n",
    "print(metrics.classification_report(np.argmax(y10_test, axis=1), p10))\n",
    "print(metrics.confusion_matrix(np.argmax(y10_test, axis=1), p10))"
   ]
  },
  {
   "cell_type": "markdown",
   "metadata": {},
   "source": [
    "### Klasifikacija za 36 kategorija"
   ]
  },
  {
   "cell_type": "code",
   "execution_count": 27,
   "metadata": {},
   "outputs": [
    {
     "name": "stdout",
     "output_type": "stream",
     "text": [
      "(198627,)\n",
      "(198627,)\n"
     ]
    }
   ],
   "source": [
    "X, y = GetData(36, [])\n",
    "print(X.shape)\n",
    "print(y.shape)"
   ]
  },
  {
   "cell_type": "code",
   "execution_count": 28,
   "metadata": {},
   "outputs": [],
   "source": [
    "X_transformed, y_transformed = TransformData(X, y)"
   ]
  },
  {
   "cell_type": "code",
   "execution_count": 29,
   "metadata": {},
   "outputs": [
    {
     "name": "stdout",
     "output_type": "stream",
     "text": [
      "(198627, 110570)\n",
      "(198627, 36)\n"
     ]
    }
   ],
   "source": [
    "print(X_transformed.shape)\n",
    "print(y_transformed.shape)"
   ]
  },
  {
   "cell_type": "code",
   "execution_count": 30,
   "metadata": {},
   "outputs": [],
   "source": [
    "X_train, X_validation, X_test, y_train, y_validation, y_test = TrainTestValidationSplit(X_transformed, y_transformed)"
   ]
  },
  {
   "cell_type": "code",
   "execution_count": 31,
   "metadata": {},
   "outputs": [
    {
     "name": "stdout",
     "output_type": "stream",
     "text": [
      "(127120, 110570)\n",
      "(39726, 110570)\n"
     ]
    }
   ],
   "source": [
    "print(X_train.shape)\n",
    "print(X_test.shape)"
   ]
  },
  {
   "cell_type": "code",
   "execution_count": 32,
   "metadata": {},
   "outputs": [
    {
     "name": "stdout",
     "output_type": "stream",
     "text": [
      "(127120, 36)\n",
      "(39726, 36)\n"
     ]
    }
   ],
   "source": [
    "print(y_train.shape)\n",
    "print(y_test.shape)"
   ]
  },
  {
   "cell_type": "code",
   "execution_count": 33,
   "metadata": {},
   "outputs": [
    {
     "name": "stdout",
     "output_type": "stream",
     "text": [
      "(31781, 110570)\n",
      "(31781, 110570)\n"
     ]
    }
   ],
   "source": [
    "print(X_validation.shape)\n",
    "print(X_validation.shape)"
   ]
  },
  {
   "cell_type": "code",
   "execution_count": 34,
   "metadata": {},
   "outputs": [
    {
     "name": "stdout",
     "output_type": "stream",
     "text": [
      "Model: \"sequential_2\"\n",
      "_________________________________________________________________\n",
      "Layer (type)                 Output Shape              Param #   \n",
      "=================================================================\n",
      "dense_9 (Dense)              (None, 200)               22114200  \n",
      "_________________________________________________________________\n",
      "dropout_7 (Dropout)          (None, 200)               0         \n",
      "_________________________________________________________________\n",
      "dense_10 (Dense)             (None, 150)               30150     \n",
      "_________________________________________________________________\n",
      "dropout_8 (Dropout)          (None, 150)               0         \n",
      "_________________________________________________________________\n",
      "dense_11 (Dense)             (None, 100)               15100     \n",
      "_________________________________________________________________\n",
      "dropout_9 (Dropout)          (None, 100)               0         \n",
      "_________________________________________________________________\n",
      "dense_12 (Dense)             (None, 60)                6060      \n",
      "_________________________________________________________________\n",
      "dropout_10 (Dropout)         (None, 60)                0         \n",
      "_________________________________________________________________\n",
      "dense_13 (Dense)             (None, 36)                2196      \n",
      "=================================================================\n",
      "Total params: 22,167,706\n",
      "Trainable params: 22,167,706\n",
      "Non-trainable params: 0\n",
      "_________________________________________________________________\n"
     ]
    }
   ],
   "source": [
    "callback = EarlyStopping(monitor=\"val_loss\", patience=2)\n",
    "model = Sequential()\n",
    "model.add(Dense(units = 200, input_dim = X_train.shape[1], activation = 'relu'))\n",
    "model.add(Dropout(0.5))\n",
    "model.add(Dense(units = 150, activation = 'relu'))\n",
    "model.add(Dropout(0.5))\n",
    "model.add(Dense(units = 100, activation = 'relu'))\n",
    "model.add(Dropout(0.5))\n",
    "model.add(Dense(units = 60, activation = 'relu'))\n",
    "model.add(Dropout(0.5))\n",
    "model.add(Dense(36, activation = 'softmax'))\n",
    "\n",
    "model.compile(optimizer = Adam(learning_rate=0.0001), loss = CategoricalCrossentropy(), metrics = ['accuracy'])\n",
    "model.summary()"
   ]
  },
  {
   "cell_type": "code",
   "execution_count": 35,
   "metadata": {},
   "outputs": [
    {
     "name": "stdout",
     "output_type": "stream",
     "text": [
      "Epoch 1/10\n",
      "994/994 [==============================] - 174s 175ms/step - loss: 3.0705 - accuracy: 0.1874 - val_loss: 2.4975 - val_accuracy: 0.3579\n",
      "Epoch 2/10\n",
      "994/994 [==============================] - 195s 196ms/step - loss: 2.4335 - accuracy: 0.3687 - val_loss: 2.0656 - val_accuracy: 0.4818\n",
      "Epoch 3/10\n",
      "994/994 [==============================] - 173s 174ms/step - loss: 2.0854 - accuracy: 0.4500 - val_loss: 1.8309 - val_accuracy: 0.5243\n",
      "Epoch 4/10\n",
      "994/994 [==============================] - 167s 168ms/step - loss: 1.8578 - accuracy: 0.4961 - val_loss: 1.7014 - val_accuracy: 0.5629\n",
      "Epoch 5/10\n",
      "994/994 [==============================] - 168s 169ms/step - loss: 1.6757 - accuracy: 0.5322 - val_loss: 1.6161 - val_accuracy: 0.5905\n",
      "Epoch 6/10\n",
      "994/994 [==============================] - 129s 130ms/step - loss: 1.5282 - accuracy: 0.5661 - val_loss: 1.5670 - val_accuracy: 0.6061\n",
      "Epoch 7/10\n",
      "994/994 [==============================] - 127s 128ms/step - loss: 1.4037 - accuracy: 0.5919 - val_loss: 1.5373 - val_accuracy: 0.6146\n",
      "Epoch 8/10\n",
      "994/994 [==============================] - 231s 233ms/step - loss: 1.2966 - accuracy: 0.6158 - val_loss: 1.5345 - val_accuracy: 0.6202\n",
      "Epoch 9/10\n",
      "994/994 [==============================] - 295s 296ms/step - loss: 1.2069 - accuracy: 0.6366 - val_loss: 1.5332 - val_accuracy: 0.6286\n",
      "Epoch 10/10\n",
      "994/994 [==============================] - 277s 278ms/step - loss: 1.1232 - accuracy: 0.6582 - val_loss: 1.5438 - val_accuracy: 0.6338\n"
     ]
    }
   ],
   "source": [
    "history = model.fit(X_train, y_train, epochs=10, batch_size=128, validation_data=(X_validation, y_validation), callbacks=[callback])"
   ]
  },
  {
   "cell_type": "code",
   "execution_count": 36,
   "metadata": {},
   "outputs": [
    {
     "name": "stdout",
     "output_type": "stream",
     "text": [
      "1242/1242 [==============================] - 6s 5ms/step - loss: 1.5477 - accuracy: 0.6337\n",
      "Test loss:  1.5476986169815063\n",
      "Test accuracy:  0.6336907744407654\n"
     ]
    },
    {
     "data": {
      "image/png": "[encoded data removed]",
      "text/plain": [
       "<Figure size 864x576 with 1 Axes>"
      ]
     },
     "metadata": {
      "needs_background": "light"
     },
     "output_type": "display_data"
    },
    {
     "data": {
      "image/png": "[encoded data removed]",
      "text/plain": [
       "<Figure size 864x576 with 1 Axes>"
      ]
     },
     "metadata": {
      "needs_background": "light"
     },
     "output_type": "display_data"
    }
   ],
   "source": [
    "EvaluateModel(model, X_test, y_test, history)"
   ]
  },
  {
   "cell_type": "code",
   "execution_count": 45,
   "metadata": {},
   "outputs": [
    {
     "name": "stdout",
     "output_type": "stream",
     "text": [
      "              precision    recall  f1-score   support\n",
      "\n",
      "           0       0.73      0.64      0.68       766\n",
      "           1       0.56      0.45      0.50       902\n",
      "           2       0.29      0.63      0.40      1182\n",
      "           3       0.00      0.00      0.00       229\n",
      "           4       0.54      0.53      0.54      1020\n",
      "           5       0.29      0.47      0.36       679\n",
      "           6       0.77      0.71      0.74       682\n",
      "           7       0.00      0.00      0.00       200\n",
      "           8       0.74      0.79      0.77      3204\n",
      "           9       0.00      0.00      0.00       249\n",
      "          10       0.91      0.04      0.07       280\n",
      "          11       0.65      0.88      0.75      1242\n",
      "          12       0.12      0.00      0.01       279\n",
      "          13       0.30      0.16      0.21       522\n",
      "          14       0.21      0.06      0.10      1332\n",
      "          15       0.77      0.81      0.79       814\n",
      "          16       0.34      0.09      0.14       688\n",
      "          17       0.00      0.00      0.00       225\n",
      "          18       0.00      0.00      0.00       562\n",
      "          19       0.16      0.10      0.13       340\n",
      "          20       0.48      0.80      0.60      1718\n",
      "          21       0.20      0.00      0.01       776\n",
      "          22       0.73      0.88      0.80      6514\n",
      "          23       0.76      0.81      0.78      1259\n",
      "          24       0.68      0.21      0.32       509\n",
      "          25       0.38      0.40      0.39       435\n",
      "          26       0.51      0.74      0.60       976\n",
      "          27       0.86      0.88      0.87      2207\n",
      "          28       0.06      0.00      0.00       418\n",
      "          29       0.21      0.03      0.06       404\n",
      "          30       0.82      0.85      0.83      1967\n",
      "          31       0.77      0.76      0.76       717\n",
      "          32       0.17      0.05      0.08       534\n",
      "          33       0.62      0.85      0.72      3542\n",
      "          34       0.53      0.14      0.22       672\n",
      "          35       0.72      0.72      0.72      1681\n",
      "\n",
      "    accuracy                           0.63     39726\n",
      "   macro avg       0.44      0.40      0.39     39726\n",
      "weighted avg       0.59      0.63      0.59     39726\n",
      "\n",
      "[[ 487    4    4 ...    6    2    9]\n",
      " [  11  403   35 ...   13    5    5]\n",
      " [   1    4  745 ...   90    1   20]\n",
      " ...\n",
      " [   1    2   78 ... 3028    4    7]\n",
      " [   7   16   99 ...   73   91    4]\n",
      " [   2    8   40 ...   21    0 1211]]\n"
     ]
    }
   ],
   "source": [
    "p = model.predict_classes(X_test, verbose=0)\n",
    "print(metrics.classification_report(np.argmax(y_test, axis=1), p))\n",
    "print(metrics.confusion_matrix(np.argmax(y_test, axis=1), p))"
   ]
  }
 ],
 "metadata": {
  "kernelspec": {
   "display_name": "Python 3",
   "language": "python",
   "name": "python3"
  },
  "language_info": {
   "codemirror_mode": {
    "name": "ipython",
    "version": 3
   },
   "file_extension": ".py",
   "mimetype": "text/x-python",
   "name": "python",
   "nbconvert_exporter": "python",
   "pygments_lexer": "ipython3",
   "version": "3.8.5"
  }
 },
 "nbformat": 4,
 "nbformat_minor": 4
}
