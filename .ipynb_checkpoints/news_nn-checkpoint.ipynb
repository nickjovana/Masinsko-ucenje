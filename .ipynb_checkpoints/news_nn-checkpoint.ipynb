{
 "cells": [
  {
   "cell_type": "code",
   "execution_count": 64,
   "metadata": {},
   "outputs": [],
   "source": [
    "import numpy as np\n",
    "import pandas as pd\n",
    "from sklearn import model_selection\n",
    "from sklearn import metrics\n",
    "from sklearn import feature_extraction\n",
    "from sklearn import linear_model\n",
    "from sklearn import multiclass\n",
    "from sklearn import svm\n",
    "from sklearn import neighbors\n",
    "from sklearn import naive_bayes\n",
    "from sklearn import decomposition\n",
    "import sklearn.preprocessing\n",
    "\n",
    "from keras.models import Sequential\n",
    "from keras.layers import Dense, Dropout, Embedding, Conv1D, MaxPool1D, GlobalMaxPool1D, Activation, SpatialDropout1D, LSTM, SimpleRNN\n",
    "from keras.optimizers import Adam, SGD, RMSprop\n",
    "from keras import losses, optimizers\n",
    "from keras import preprocessing\n",
    "from keras.utils import to_categorical\n",
    "\n",
    "from matplotlib import pyplot as plt\n",
    "\n",
    "import tensorflow as tf"
   ]
  },
  {
   "cell_type": "code",
   "execution_count": 2,
   "metadata": {},
   "outputs": [],
   "source": [
    "news = pd.read_csv('vesti.csv')"
   ]
  },
  {
   "cell_type": "code",
   "execution_count": 3,
   "metadata": {},
   "outputs": [],
   "source": [
    "X = news['text']\n",
    "y = news['category']"
   ]
  },
  {
   "cell_type": "code",
   "execution_count": 4,
   "metadata": {},
   "outputs": [
    {
     "data": {
      "text/plain": [
       "CountVectorizer(min_df=0)"
      ]
     },
     "execution_count": 4,
     "metadata": {},
     "output_type": "execute_result"
    }
   ],
   "source": [
    "vectorizer = feature_extraction.text.CountVectorizer(min_df=0)\n",
    "vectorizer.fit(X.values.astype('U'))"
   ]
  },
  {
   "cell_type": "code",
   "execution_count": 5,
   "metadata": {},
   "outputs": [],
   "source": [
    "X_transformed = vectorizer.transform(X.values.astype('U'))"
   ]
  },
  {
   "cell_type": "code",
   "execution_count": 6,
   "metadata": {},
   "outputs": [
    {
     "data": {
      "text/plain": [
       "(165699, 98467)"
      ]
     },
     "execution_count": 6,
     "metadata": {},
     "output_type": "execute_result"
    }
   ],
   "source": [
    "X_transformed.shape"
   ]
  },
  {
   "cell_type": "code",
   "execution_count": 7,
   "metadata": {},
   "outputs": [
    {
     "data": {
      "text/plain": [
       "LabelEncoder()"
      ]
     },
     "execution_count": 7,
     "metadata": {},
     "output_type": "execute_result"
    }
   ],
   "source": [
    "le = sklearn.preprocessing.LabelEncoder()\n",
    "le.fit(y)\n",
    "y = le.transform(y)\n",
    "y_transformed = pd.get_dummies(y).values\n",
    "y_transformed"
   ]
  },
  {
   "cell_type": "code",
   "execution_count": 8,
   "metadata": {},
   "outputs": [],
   "source": []
  },
  {
   "cell_type": "code",
   "execution_count": 10,
   "metadata": {},
   "outputs": [
    {
     "data": {
      "text/plain": [
       "array([[0, 0, 0, ..., 0, 1, 0],\n",
       "       [0, 0, 0, ..., 0, 0, 0],\n",
       "       [0, 0, 1, ..., 0, 0, 0],\n",
       "       ...,\n",
       "       [1, 0, 0, ..., 0, 0, 0],\n",
       "       [0, 0, 0, ..., 0, 0, 0],\n",
       "       [0, 0, 0, ..., 0, 0, 0]], dtype=uint8)"
      ]
     },
     "execution_count": 10,
     "metadata": {},
     "output_type": "execute_result"
    }
   ],
   "source": []
  },
  {
   "cell_type": "code",
   "execution_count": 11,
   "metadata": {},
   "outputs": [],
   "source": [
    "X_train_validation, X_test, y_train_validation, y_test = model_selection.\\\n",
    "    train_test_split(X_transformed, y_transformed, test_size = 0.2, stratify = y, random_state = 4)\n",
    "X_train, X_validation, y_train, y_validation = model_selection.\\\n",
    "    train_test_split(X_train_validation, y_train_validation, test_size = 0.2, stratify = y_train_validation, random_state = 4)"
   ]
  },
  {
   "cell_type": "code",
   "execution_count": 12,
   "metadata": {},
   "outputs": [
    {
     "data": {
      "text/plain": [
       "(106047, 98467)"
      ]
     },
     "execution_count": 12,
     "metadata": {},
     "output_type": "execute_result"
    }
   ],
   "source": [
    "X_train.shape"
   ]
  },
  {
   "cell_type": "code",
   "execution_count": 13,
   "metadata": {},
   "outputs": [
    {
     "data": {
      "text/plain": [
       "(106047, 37)"
      ]
     },
     "execution_count": 13,
     "metadata": {},
     "output_type": "execute_result"
    }
   ],
   "source": [
    "y_train.shape"
   ]
  },
  {
   "cell_type": "code",
   "execution_count": 14,
   "metadata": {},
   "outputs": [
    {
     "data": {
      "text/plain": [
       "(26512, 98467)"
      ]
     },
     "execution_count": 14,
     "metadata": {},
     "output_type": "execute_result"
    }
   ],
   "source": [
    "X_validation.shape"
   ]
  },
  {
   "cell_type": "code",
   "execution_count": 18,
   "metadata": {},
   "outputs": [
    {
     "name": "stdout",
     "output_type": "stream",
     "text": [
      "Model: \"sequential_3\"\n",
      "_________________________________________________________________\n",
      "Layer (type)                 Output Shape              Param #   \n",
      "=================================================================\n",
      "dense_15 (Dense)             (None, 200)               19693600  \n",
      "_________________________________________________________________\n",
      "dropout_12 (Dropout)         (None, 200)               0         \n",
      "_________________________________________________________________\n",
      "dense_16 (Dense)             (None, 150)               30150     \n",
      "_________________________________________________________________\n",
      "dropout_13 (Dropout)         (None, 150)               0         \n",
      "_________________________________________________________________\n",
      "dense_17 (Dense)             (None, 100)               15100     \n",
      "_________________________________________________________________\n",
      "dropout_14 (Dropout)         (None, 100)               0         \n",
      "_________________________________________________________________\n",
      "dense_18 (Dense)             (None, 60)                6060      \n",
      "_________________________________________________________________\n",
      "dropout_15 (Dropout)         (None, 60)                0         \n",
      "_________________________________________________________________\n",
      "dense_19 (Dense)             (None, 37)                2257      \n",
      "=================================================================\n",
      "Total params: 19,747,167\n",
      "Trainable params: 19,747,167\n",
      "Non-trainable params: 0\n",
      "_________________________________________________________________\n"
     ]
    }
   ],
   "source": [
    "model = Sequential()\n",
    "model.add(Dense(units = 200, input_dim = X_train.shape[1], activation = 'relu'))\n",
    "model.add(Dropout(0.5))\n",
    "model.add(Dense(units = 150, activation = 'relu'))\n",
    "model.add(Dropout(0.5))\n",
    "model.add(Dense(units = 100, activation = 'relu'))\n",
    "model.add(Dropout(0.5))\n",
    "model.add(Dense(units = 60, activation = 'relu'))\n",
    "model.add(Dropout(0.5))\n",
    "model.add(Dense(37, activation = 'softmax'))\n",
    "model.compile(optimizers.Adam(learning_rate=0.001), loss=losses.CategoricalCrossentropy(), metrics=['accuracy'])\n",
    "model.summary()"
   ]
  },
  {
   "cell_type": "code",
   "execution_count": 19,
   "metadata": {},
   "outputs": [
    {
     "name": "stdout",
     "output_type": "stream",
     "text": [
      "Epoch 1/10\n",
      "829/829 [==============================] - 104s 125ms/step - loss: 2.4438 - accuracy: 0.3587 - val_loss: 1.7103 - val_accuracy: 0.5315\n",
      "Epoch 2/10\n",
      "829/829 [==============================] - 99s 120ms/step - loss: 1.7365 - accuracy: 0.5258 - val_loss: 1.4933 - val_accuracy: 0.5996\n",
      "Epoch 3/10\n",
      "829/829 [==============================] - 97s 117ms/step - loss: 1.4294 - accuracy: 0.5990 - val_loss: 1.4197 - val_accuracy: 0.6219\n",
      "Epoch 4/10\n",
      "829/829 [==============================] - 96s 116ms/step - loss: 1.2435 - accuracy: 0.6438 - val_loss: 1.4115 - val_accuracy: 0.6345\n",
      "Epoch 5/10\n",
      "829/829 [==============================] - 99s 119ms/step - loss: 1.1005 - accuracy: 0.6784 - val_loss: 1.4232 - val_accuracy: 0.6471\n",
      "Epoch 6/10\n",
      "829/829 [==============================] - 98s 118ms/step - loss: 1.0019 - accuracy: 0.7048 - val_loss: 1.4547 - val_accuracy: 0.6591\n",
      "Epoch 7/10\n",
      "829/829 [==============================] - 98s 118ms/step - loss: 0.9208 - accuracy: 0.7305 - val_loss: 1.4494 - val_accuracy: 0.6681\n",
      "Epoch 8/10\n",
      "829/829 [==============================] - 98s 118ms/step - loss: 0.8464 - accuracy: 0.7502 - val_loss: 1.4881 - val_accuracy: 0.6710\n",
      "Epoch 9/10\n",
      "829/829 [==============================] - 97s 117ms/step - loss: 0.7988 - accuracy: 0.7670 - val_loss: 1.5487 - val_accuracy: 0.6709\n",
      "Epoch 10/10\n",
      "829/829 [==============================] - 95s 115ms/step - loss: 0.7459 - accuracy: 0.7835 - val_loss: 1.5791 - val_accuracy: 0.6757\n"
     ]
    }
   ],
   "source": [
    "history = model.fit(X_train, y_train, epochs=10, batch_size=128, validation_data=(X_validation, y_validation), verbose=1)"
   ]
  },
  {
   "cell_type": "code",
   "execution_count": 22,
   "metadata": {},
   "outputs": [
    {
     "name": "stdout",
     "output_type": "stream",
     "text": [
      "1036/1036 [==============================] - 1s 1ms/step - loss: 1.5700 - accuracy: 0.6760\n",
      "Test loss: 1.5700339078903198\n",
      "Test accuracy: 0.6759505271911621\n"
     ]
    }
   ],
   "source": [
    "score = model.evaluate(X_test, y_test)\n",
    "print('Test loss:', score[0])\n",
    "print('Test accuracy:', score[1])"
   ]
  },
  {
   "cell_type": "code",
   "execution_count": 23,
   "metadata": {},
   "outputs": [
    {
     "data": {
      "image/png": "[encoded data removed]",
      "text/plain": [
       "<Figure size 432x288 with 1 Axes>"
      ]
     },
     "metadata": {
      "needs_background": "light"
     },
     "output_type": "display_data"
    }
   ],
   "source": [
    "epochs = history.epoch\n",
    "\n",
    "loss = history.history['loss']\n",
    "validation_loss = history.history['val_loss']\n",
    "\n",
    "plt.title('Loss')\n",
    "plt.xlabel('Epochs')\n",
    "plt.ylabel('loss')\n",
    "plt.plot(epochs, loss, c='red', label = 'training')\n",
    "plt.plot(epochs, validation_loss, c='orange', label='validation')\n",
    "plt.legend(loc = 'best')\n",
    "plt.show()"
   ]
  },
  {
   "cell_type": "code",
   "execution_count": 24,
   "metadata": {},
   "outputs": [
    {
     "data": {
      "image/png": "[encoded data removed]",
      "text/plain": [
       "<Figure size 432x288 with 1 Axes>"
      ]
     },
     "metadata": {
      "needs_background": "light"
     },
     "output_type": "display_data"
    }
   ],
   "source": [
    "acc = history.history['accuracy']\n",
    "validation_acc = history.history['val_accuracy']\n",
    "\n",
    "plt.title('Accuracy')\n",
    "plt.xlabel('epochs')\n",
    "plt.ylabel('acccuracy')\n",
    "plt.plot(epochs, acc, c='red', label = 'training')\n",
    "plt.plot(epochs, validation_acc, c = 'orange', label = 'validation')\n",
    "plt.legend(loc = 'best')\n",
    "plt.show()"
   ]
  },
  {
   "cell_type": "code",
   "execution_count": 178,
   "metadata": {},
   "outputs": [
    {
     "name": "stdout",
     "output_type": "stream",
     "text": [
      "Model: \"sequential_36\"\n",
      "_________________________________________________________________\n",
      "Layer (type)                 Output Shape              Param #   \n",
      "=================================================================\n",
      "dense_77 (Dense)             (None, 200)               19693600  \n",
      "_________________________________________________________________\n",
      "dense_78 (Dense)             (None, 150)               30150     \n",
      "_________________________________________________________________\n",
      "dense_79 (Dense)             (None, 37)                5587      \n",
      "=================================================================\n",
      "Total params: 19,729,337\n",
      "Trainable params: 19,729,337\n",
      "Non-trainable params: 0\n",
      "_________________________________________________________________\n",
      "Epoch 1/10\n",
      "829/829 [==============================] - 96s 115ms/step - loss: 0.2959 - accuracy: 0.9241 - val_loss: 1.6791 - val_accuracy: 0.7123\n",
      "Epoch 2/10\n",
      "829/829 [==============================] - 96s 116ms/step - loss: 0.2704 - accuracy: 0.9303 - val_loss: 1.7245 - val_accuracy: 0.7104\n",
      "Epoch 3/10\n",
      "829/829 [==============================] - 97s 117ms/step - loss: 0.2464 - accuracy: 0.9378 - val_loss: 1.7802 - val_accuracy: 0.7122\n",
      "Epoch 4/10\n",
      "829/829 [==============================] - 97s 117ms/step - loss: 0.2333 - accuracy: 0.9408 - val_loss: 1.7863 - val_accuracy: 0.7085\n",
      "Epoch 5/10\n",
      "829/829 [==============================] - 97s 117ms/step - loss: 0.2172 - accuracy: 0.9447 - val_loss: 1.8214 - val_accuracy: 0.7113\n",
      "Epoch 6/10\n",
      "829/829 [==============================] - 97s 118ms/step - loss: 0.2000 - accuracy: 0.9494 - val_loss: 1.8882 - val_accuracy: 0.7118\n",
      "Epoch 7/10\n",
      "829/829 [==============================] - 97s 117ms/step - loss: 0.1918 - accuracy: 0.9513 - val_loss: 1.9018 - val_accuracy: 0.7139\n",
      "Epoch 8/10\n",
      "829/829 [==============================] - 97s 117ms/step - loss: 0.1792 - accuracy: 0.9547 - val_loss: 1.9361 - val_accuracy: 0.7094\n",
      "Epoch 9/10\n",
      "829/829 [==============================] - 97s 117ms/step - loss: 0.1722 - accuracy: 0.9566 - val_loss: 1.9733 - val_accuracy: 0.7130\n",
      "Epoch 10/10\n",
      "829/829 [==============================] - 97s 117ms/step - loss: 0.1618 - accuracy: 0.9585 - val_loss: 1.9891 - val_accuracy: 0.7100\n"
     ]
    }
   ],
   "source": [
    "model1 = Sequential()\n",
    "model1.add(Dense(units = 200, input_dim = X_train.shape[1], activation = 'relu'))\n",
    "model1.add(Dense(units = 150, activation = 'relu'))\n",
    "model1.add(Dense(37, activation = 'softmax'))\n",
    "model1.compile(optimizers.Adam(learning_rate=0.0001), loss=losses.CategoricalCrossentropy(), metrics=['accuracy'])\n",
    "model1.summary()\n",
    "history = model.fit(X_train, y_train, epochs=10, batch_size=128, validation_data=(X_validation, y_validation))"
   ]
  },
  {
   "cell_type": "code",
   "execution_count": 182,
   "metadata": {},
   "outputs": [
    {
     "name": "stdout",
     "output_type": "stream",
     "text": [
      "1036/1036 [==============================] - 1s 1ms/step - loss: 3.6143 - accuracy: 0.0258\n",
      "Test loss: 3.6142539978027344\n",
      "Test accuracy: 0.025769462808966637\n"
     ]
    }
   ],
   "source": [
    "score = model1.evaluate(X_test, y_test)\n",
    "print('Test loss:', score[0])\n",
    "print('Test accuracy:', score[1])"
   ]
  },
  {
   "cell_type": "code",
   "execution_count": 180,
   "metadata": {},
   "outputs": [
    {
     "data": {
      "image/png": "[encoded data removed]",
      "text/plain": [
       "<Figure size 432x288 with 1 Axes>"
      ]
     },
     "metadata": {
      "needs_background": "light"
     },
     "output_type": "display_data"
    }
   ],
   "source": [
    "epochs = history.epoch\n",
    "\n",
    "loss = history.history['loss']\n",
    "validation_loss = history.history['val_loss']\n",
    "\n",
    "plt.title('Loss')\n",
    "plt.xlabel('Epochs')\n",
    "plt.ylabel('loss')\n",
    "plt.plot(epochs, loss, c='red', label = 'training')\n",
    "plt.plot(epochs, validation_loss, c='orange', label='validation')\n",
    "plt.legend(loc = 'best')\n",
    "plt.show()"
   ]
  },
  {
   "cell_type": "code",
   "execution_count": 181,
   "metadata": {},
   "outputs": [
    {
     "data": {
      "image/png": "[encoded data removed]",
      "text/plain": [
       "<Figure size 432x288 with 1 Axes>"
      ]
     },
     "metadata": {
      "needs_background": "light"
     },
     "output_type": "display_data"
    }
   ],
   "source": [
    "acc = history.history['accuracy']\n",
    "validation_acc = history.history['val_accuracy']\n",
    "\n",
    "plt.title('Accuracy')\n",
    "plt.xlabel('epochs')\n",
    "plt.ylabel('acccuracy')\n",
    "plt.plot(epochs, acc, c='red', label = 'training')\n",
    "plt.plot(epochs, validation_acc, c = 'orange', label = 'validation')\n",
    "plt.legend(loc = 'best')\n",
    "plt.show()"
   ]
  },
  {
   "cell_type": "code",
   "execution_count": 26,
   "metadata": {},
   "outputs": [],
   "source": [
    "categories = ['POLITICS', 'ENTERTAINMENT']\n",
    "news = news[news.kategorija.isin(categories)]"
   ]
  },
  {
   "cell_type": "code",
   "execution_count": 27,
   "metadata": {},
   "outputs": [
    {
     "data": {
      "text/html": [
       "<div>\n",
       "<style scoped>\n",
       "    .dataframe tbody tr th:only-of-type {\n",
       "        vertical-align: middle;\n",
       "    }\n",
       "\n",
       "    .dataframe tbody tr th {\n",
       "        vertical-align: top;\n",
       "    }\n",
       "\n",
       "    .dataframe thead th {\n",
       "        text-align: right;\n",
       "    }\n",
       "</style>\n",
       "<table border=\"1\" class=\"dataframe\">\n",
       "  <thead>\n",
       "    <tr style=\"text-align: right;\">\n",
       "      <th></th>\n",
       "      <th>Unnamed: 0</th>\n",
       "      <th>tekst</th>\n",
       "      <th>kategorija</th>\n",
       "    </tr>\n",
       "  </thead>\n",
       "  <tbody>\n",
       "    <tr>\n",
       "      <th>10</th>\n",
       "      <td>26210</td>\n",
       "      <td>wannacry ransomware attack raise alarm bell ci...</td>\n",
       "      <td>POLITICS</td>\n",
       "    </tr>\n",
       "    <tr>\n",
       "      <th>11</th>\n",
       "      <td>20973</td>\n",
       "      <td>walk dead reportedly cancel comiccon press eve...</td>\n",
       "      <td>ENTERTAINMENT</td>\n",
       "    </tr>\n",
       "    <tr>\n",
       "      <th>12</th>\n",
       "      <td>26939</td>\n",
       "      <td>voter fraud executive order trump fraud democr...</td>\n",
       "      <td>POLITICS</td>\n",
       "    </tr>\n",
       "    <tr>\n",
       "      <th>20</th>\n",
       "      <td>10318</td>\n",
       "      <td>hide democrat see big gain gubernatorial race ...</td>\n",
       "      <td>POLITICS</td>\n",
       "    </tr>\n",
       "    <tr>\n",
       "      <th>23</th>\n",
       "      <td>46537</td>\n",
       "      <td>walk dead show comic wont end way thought fina...</td>\n",
       "      <td>ENTERTAINMENT</td>\n",
       "    </tr>\n",
       "  </tbody>\n",
       "</table>\n",
       "</div>"
      ],
      "text/plain": [
       "    Unnamed: 0                                              tekst  \\\n",
       "10       26210  wannacry ransomware attack raise alarm bell ci...   \n",
       "11       20973  walk dead reportedly cancel comiccon press eve...   \n",
       "12       26939  voter fraud executive order trump fraud democr...   \n",
       "20       10318  hide democrat see big gain gubernatorial race ...   \n",
       "23       46537  walk dead show comic wont end way thought fina...   \n",
       "\n",
       "       kategorija  \n",
       "10       POLITICS  \n",
       "11  ENTERTAINMENT  \n",
       "12       POLITICS  \n",
       "20       POLITICS  \n",
       "23  ENTERTAINMENT  "
      ]
     },
     "execution_count": 27,
     "metadata": {},
     "output_type": "execute_result"
    }
   ],
   "source": [
    "news.head()"
   ]
  },
  {
   "cell_type": "code",
   "execution_count": 28,
   "metadata": {},
   "outputs": [],
   "source": [
    "X2 = news['tekst']\n",
    "y2 = news['kategorija']"
   ]
  },
  {
   "cell_type": "code",
   "execution_count": 29,
   "metadata": {},
   "outputs": [
    {
     "data": {
      "text/plain": [
       "(44187, 36241)"
      ]
     },
     "execution_count": 29,
     "metadata": {},
     "output_type": "execute_result"
    }
   ],
   "source": [
    "vectorizer.fit(X2.values.astype('U'))\n",
    "X2_transformed = vectorizer.transform(X2.values.astype('U'))\n",
    "X2_transformed.shape"
   ]
  },
  {
   "cell_type": "code",
   "execution_count": 33,
   "metadata": {},
   "outputs": [
    {
     "data": {
      "text/plain": [
       "(44187,)"
      ]
     },
     "execution_count": 33,
     "metadata": {},
     "output_type": "execute_result"
    }
   ],
   "source": [
    "le = sklearn.preprocessing.LabelEncoder()\n",
    "le.fit(y2)\n",
    "y2_transformed = le.transform(y2)\n",
    "y2_transformed.shape"
   ]
  },
  {
   "cell_type": "code",
   "execution_count": 35,
   "metadata": {},
   "outputs": [
    {
     "data": {
      "text/plain": [
       "array([[0, 1],\n",
       "       [1, 0],\n",
       "       [0, 1],\n",
       "       ...,\n",
       "       [0, 1],\n",
       "       [1, 0],\n",
       "       [1, 0]], dtype=uint8)"
      ]
     },
     "execution_count": 35,
     "metadata": {},
     "output_type": "execute_result"
    }
   ],
   "source": [
    "y2_transformed = pd.get_dummies(y2_transformed).values\n",
    "y2_transformed"
   ]
  },
  {
   "cell_type": "code",
   "execution_count": 36,
   "metadata": {},
   "outputs": [],
   "source": [
    "X2_train_validation, X2_test, y2_train_validation, y2_test = model_selection.\\\n",
    "    train_test_split(X2_transformed, y2_transformed, test_size = 0.2, stratify = y2_transformed, random_state = 4)\n",
    "X2_train, X2_validation, y2_train, y2_validation = model_selection.\\\n",
    "    train_test_split(X2_train_validation, y2_train_validation, test_size = 0.2, stratify = y2_train_validation, random_state = 4)"
   ]
  },
  {
   "cell_type": "code",
   "execution_count": 37,
   "metadata": {},
   "outputs": [
    {
     "data": {
      "text/plain": [
       "(28279, 36241)"
      ]
     },
     "execution_count": 37,
     "metadata": {},
     "output_type": "execute_result"
    }
   ],
   "source": [
    "X2_train.shape"
   ]
  },
  {
   "cell_type": "code",
   "execution_count": 38,
   "metadata": {},
   "outputs": [
    {
     "data": {
      "text/plain": [
       "(7070, 36241)"
      ]
     },
     "execution_count": 38,
     "metadata": {},
     "output_type": "execute_result"
    }
   ],
   "source": [
    "X2_validation.shape"
   ]
  },
  {
   "cell_type": "code",
   "execution_count": 39,
   "metadata": {},
   "outputs": [
    {
     "data": {
      "text/plain": [
       "(28279, 2)"
      ]
     },
     "execution_count": 39,
     "metadata": {},
     "output_type": "execute_result"
    }
   ],
   "source": [
    "y2_train.shape"
   ]
  },
  {
   "cell_type": "code",
   "execution_count": 108,
   "metadata": {},
   "outputs": [
    {
     "name": "stdout",
     "output_type": "stream",
     "text": [
      "Model: \"sequential_27\"\n",
      "_________________________________________________________________\n",
      "Layer (type)                 Output Shape              Param #   \n",
      "=================================================================\n",
      "dense_48 (Dense)             (None, 200)               7248400   \n",
      "_________________________________________________________________\n",
      "dropout_33 (Dropout)         (None, 200)               0         \n",
      "_________________________________________________________________\n",
      "dense_49 (Dense)             (None, 120)               24120     \n",
      "_________________________________________________________________\n",
      "dropout_34 (Dropout)         (None, 120)               0         \n",
      "_________________________________________________________________\n",
      "dense_50 (Dense)             (None, 2)                 242       \n",
      "=================================================================\n",
      "Total params: 7,272,762\n",
      "Trainable params: 7,272,762\n",
      "Non-trainable params: 0\n",
      "_________________________________________________________________\n"
     ]
    }
   ],
   "source": [
    "model2 = Sequential()\n",
    "model2.add(Dense(units = 200, input_dim = X2_train.shape[1], activation = 'relu'))\n",
    "model2.add(Dropout(0.5))\n",
    "model2.add(Dense(units = 120, activation = 'relu'))\n",
    "model2.add(Dropout(0.5))\n",
    "model2.add(Dense(2, activation = 'softmax'))\n",
    "model2.compile(optimizers.Adam(learning_rate=0.0001), loss=losses.CategoricalCrossentropy(), metrics=['accuracy'])\n",
    "model2.summary()"
   ]
  },
  {
   "cell_type": "code",
   "execution_count": 109,
   "metadata": {},
   "outputs": [
    {
     "name": "stdout",
     "output_type": "stream",
     "text": [
      "Epoch 1/10\n",
      "221/221 [==============================] - 14s 65ms/step - loss: 0.4917 - accuracy: 0.7573 - val_loss: 0.2116 - val_accuracy: 0.9621\n",
      "Epoch 2/10\n",
      "221/221 [==============================] - 12s 56ms/step - loss: 0.1379 - accuracy: 0.9676 - val_loss: 0.0923 - val_accuracy: 0.9754\n",
      "Epoch 3/10\n",
      "221/221 [==============================] - 13s 57ms/step - loss: 0.0722 - accuracy: 0.9809 - val_loss: 0.0815 - val_accuracy: 0.9771\n",
      "Epoch 4/10\n",
      "221/221 [==============================] - 13s 57ms/step - loss: 0.0495 - accuracy: 0.9876 - val_loss: 0.0793 - val_accuracy: 0.9771\n",
      "Epoch 5/10\n",
      "221/221 [==============================] - 12s 55ms/step - loss: 0.0350 - accuracy: 0.9914 - val_loss: 0.0795 - val_accuracy: 0.9765\n",
      "Epoch 6/10\n",
      "221/221 [==============================] - 12s 56ms/step - loss: 0.0261 - accuracy: 0.9939 - val_loss: 0.0804 - val_accuracy: 0.9754\n",
      "Epoch 7/10\n",
      "221/221 [==============================] - 14s 62ms/step - loss: 0.0189 - accuracy: 0.9958 - val_loss: 0.0840 - val_accuracy: 0.9741\n",
      "Epoch 8/10\n",
      "221/221 [==============================] - 13s 61ms/step - loss: 0.0142 - accuracy: 0.9968 - val_loss: 0.0880 - val_accuracy: 0.9733\n",
      "Epoch 9/10\n",
      "221/221 [==============================] - 13s 59ms/step - loss: 0.0105 - accuracy: 0.9982 - val_loss: 0.0913 - val_accuracy: 0.9728\n",
      "Epoch 10/10\n",
      "221/221 [==============================] - 14s 64ms/step - loss: 0.0078 - accuracy: 0.9987 - val_loss: 0.0958 - val_accuracy: 0.9731\n"
     ]
    }
   ],
   "source": [
    "history2 = model2.fit(X2_train, y2_train, epochs=10, batch_size=128, validation_data=(X2_validation, y2_validation))"
   ]
  },
  {
   "cell_type": "code",
   "execution_count": 111,
   "metadata": {},
   "outputs": [
    {
     "name": "stdout",
     "output_type": "stream",
     "text": [
      "277/277 [==============================] - 0s 1ms/step - loss: 0.0980 - accuracy: 0.9737\n",
      "Test loss: 0.0979715958237648\n",
      "Test accuracy: 0.9737496972084045\n"
     ]
    }
   ],
   "source": [
    "score2 = model2.evaluate(X2_test, y2_test)\n",
    "print('Test loss:', score2[0])\n",
    "print('Test accuracy:', score2[1])"
   ]
  },
  {
   "cell_type": "code",
   "execution_count": 112,
   "metadata": {},
   "outputs": [
    {
     "data": {
      "image/png": "[encoded data removed]",
      "text/plain": [
       "<Figure size 432x288 with 1 Axes>"
      ]
     },
     "metadata": {
      "needs_background": "light"
     },
     "output_type": "display_data"
    }
   ],
   "source": [
    "epochs2 = history2.epoch\n",
    "\n",
    "loss2 = history2.history['loss']\n",
    "validation_loss2 = history2.history['val_loss']\n",
    "\n",
    "plt.title('Loss')\n",
    "plt.xlabel('Epochs')\n",
    "plt.ylabel('loss')\n",
    "plt.plot(epochs2, loss2, c='red', label = 'training')\n",
    "plt.plot(epochs2, validation_loss2, c='orange', label='validation')\n",
    "plt.legend(loc = 'best')\n",
    "plt.show()"
   ]
  },
  {
   "cell_type": "code",
   "execution_count": 113,
   "metadata": {},
   "outputs": [
    {
     "data": {
      "image/png": "[encoded data removed]",
      "text/plain": [
       "<Figure size 432x288 with 1 Axes>"
      ]
     },
     "metadata": {
      "needs_background": "light"
     },
     "output_type": "display_data"
    }
   ],
   "source": [
    "acc2 = history2.history['accuracy']\n",
    "validation_acc2 = history2.history['val_accuracy']\n",
    "\n",
    "plt.title('Accuracy')\n",
    "plt.xlabel('epochs')\n",
    "plt.ylabel('acccuracy')\n",
    "plt.plot(epochs2, acc2, c='red', label = 'training')\n",
    "plt.plot(epochs2, validation_acc2, c = 'orange', label = 'validation')\n",
    "plt.legend(loc = 'best')\n",
    "plt.show()"
   ]
  },
  {
   "cell_type": "code",
   "execution_count": 76,
   "metadata": {},
   "outputs": [],
   "source": [
    "news3 = pd.read_csv('vesti.csv')"
   ]
  },
  {
   "cell_type": "code",
   "execution_count": 77,
   "metadata": {},
   "outputs": [],
   "source": [
    "categories10 = ['POLITICS' , 'DIVORCE','ARTS & CULTURE', 'HOME & LIVING','LATINO VOICES','QUEER VOICES', 'STYLE & BEAUTY','SPORTS','TRAVEL','WEDDINGS',]\n",
    "news3 = news3[news3.kategorija.isin(categories10)]"
   ]
  },
  {
   "cell_type": "code",
   "execution_count": 78,
   "metadata": {},
   "outputs": [],
   "source": [
    "X3 = news3['tekst']\n",
    "y3 = news3['kategorija']"
   ]
  },
  {
   "cell_type": "code",
   "execution_count": 79,
   "metadata": {},
   "outputs": [
    {
     "data": {
      "text/plain": [
       "3     divorce ruin life child blame sunday night luc...\n",
       "4     well sit civilian flea theater civilian enterp...\n",
       "6     grace creator donate gay bunny book every grad...\n",
       "10    wannacry ransomware attack raise alarm bell ci...\n",
       "12    voter fraud executive order trump fraud democr...\n",
       "Name: tekst, dtype: object"
      ]
     },
     "execution_count": 79,
     "metadata": {},
     "output_type": "execute_result"
    }
   ],
   "source": [
    "X3.head()"
   ]
  },
  {
   "cell_type": "code",
   "execution_count": 80,
   "metadata": {},
   "outputs": [
    {
     "data": {
      "text/plain": [
       "3          DIVORCE\n",
       "4          DIVORCE\n",
       "6     QUEER VOICES\n",
       "10        POLITICS\n",
       "12        POLITICS\n",
       "Name: kategorija, dtype: object"
      ]
     },
     "execution_count": 80,
     "metadata": {},
     "output_type": "execute_result"
    }
   ],
   "source": [
    "y3.head()"
   ]
  },
  {
   "cell_type": "code",
   "execution_count": 81,
   "metadata": {},
   "outputs": [
    {
     "data": {
      "text/plain": [
       "array([[0, 1, 0, ..., 0, 0, 0],\n",
       "       [0, 1, 0, ..., 0, 0, 0],\n",
       "       [0, 0, 0, ..., 0, 0, 0],\n",
       "       ...,\n",
       "       [0, 0, 0, ..., 0, 0, 0],\n",
       "       [1, 0, 0, ..., 0, 0, 0],\n",
       "       [1, 0, 0, ..., 0, 0, 0]], dtype=uint8)"
      ]
     },
     "execution_count": 81,
     "metadata": {},
     "output_type": "execute_result"
    }
   ],
   "source": [
    "vectorizer.fit(X3.values.astype('U'))\n",
    "X3_transformed = vectorizer.transform(X3.values.astype('U'))\n",
    "X3_transformed.shape\n",
    "le = sklearn.preprocessing.LabelEncoder()\n",
    "le.fit(y3)\n",
    "y3_transformed = le.transform(y3)\n",
    "y3_transformed.shape\n",
    "y3_transformed = pd.get_dummies(y3_transformed).values\n",
    "y3_transformed"
   ]
  },
  {
   "cell_type": "code",
   "execution_count": 82,
   "metadata": {},
   "outputs": [],
   "source": [
    "X3_train_validation, X3_test, y3_train_validation, y3_test = model_selection.\\\n",
    "    train_test_split(X3_transformed, y3_transformed, test_size = 0.2, stratify = y3_transformed, random_state = 4)\n",
    "X3_train, X3_validation, y3_train, y3_validation = model_selection.\\\n",
    "    train_test_split(X3_train_validation, y3_train_validation, test_size = 0.2, stratify = y3_train_validation, random_state = 4)"
   ]
  },
  {
   "cell_type": "code",
   "execution_count": 83,
   "metadata": {},
   "outputs": [
    {
     "data": {
      "text/plain": [
       "(43171, 57170)"
      ]
     },
     "execution_count": 83,
     "metadata": {},
     "output_type": "execute_result"
    }
   ],
   "source": [
    "X3_train.shape"
   ]
  },
  {
   "cell_type": "code",
   "execution_count": 84,
   "metadata": {},
   "outputs": [
    {
     "data": {
      "text/plain": [
       "(10793, 57170)"
      ]
     },
     "execution_count": 84,
     "metadata": {},
     "output_type": "execute_result"
    }
   ],
   "source": [
    "X3_validation.shape"
   ]
  },
  {
   "cell_type": "code",
   "execution_count": 85,
   "metadata": {},
   "outputs": [
    {
     "data": {
      "text/plain": [
       "(43171, 10)"
      ]
     },
     "execution_count": 85,
     "metadata": {},
     "output_type": "execute_result"
    }
   ],
   "source": [
    "y3_train.shape"
   ]
  },
  {
   "cell_type": "code",
   "execution_count": 117,
   "metadata": {},
   "outputs": [
    {
     "name": "stdout",
     "output_type": "stream",
     "text": [
      "Model: \"sequential_28\"\n",
      "_________________________________________________________________\n",
      "Layer (type)                 Output Shape              Param #   \n",
      "=================================================================\n",
      "dense_51 (Dense)             (None, 200)               11434200  \n",
      "_________________________________________________________________\n",
      "dropout_35 (Dropout)         (None, 200)               0         \n",
      "_________________________________________________________________\n",
      "dense_52 (Dense)             (None, 120)               24120     \n",
      "_________________________________________________________________\n",
      "dropout_36 (Dropout)         (None, 120)               0         \n",
      "_________________________________________________________________\n",
      "dense_53 (Dense)             (None, 70)                8470      \n",
      "_________________________________________________________________\n",
      "dropout_37 (Dropout)         (None, 70)                0         \n",
      "_________________________________________________________________\n",
      "dense_54 (Dense)             (None, 30)                2130      \n",
      "_________________________________________________________________\n",
      "dropout_38 (Dropout)         (None, 30)                0         \n",
      "_________________________________________________________________\n",
      "dense_55 (Dense)             (None, 10)                310       \n",
      "=================================================================\n",
      "Total params: 11,469,230\n",
      "Trainable params: 11,469,230\n",
      "Non-trainable params: 0\n",
      "_________________________________________________________________\n"
     ]
    }
   ],
   "source": [
    "model3 = Sequential()\n",
    "model3.add(Dense(units = 200, input_dim = X3_train.shape[1], activation = 'relu'))\n",
    "model3.add(Dropout(0.5))\n",
    "model3.add(Dense(units = 120, activation = 'relu'))\n",
    "model3.add(Dropout(0.5))\n",
    "model3.add(Dense(units = 70, activation = 'relu'))\n",
    "model3.add(Dropout(0.5))\n",
    "model3.add(Dense(units = 30, activation = 'relu'))\n",
    "model3.add(Dropout(0.5))\n",
    "model3.add(Dense(10, activation = 'softmax'))\n",
    "model3.compile(optimizers.Adam(learning_rate=0.0001), loss=losses.CategoricalCrossentropy(), metrics=['accuracy'])\n",
    "model3.summary()"
   ]
  },
  {
   "cell_type": "code",
   "execution_count": 118,
   "metadata": {},
   "outputs": [
    {
     "name": "stdout",
     "output_type": "stream",
     "text": [
      "Epoch 1/10\n",
      "338/338 [==============================] - 30s 88ms/step - loss: 1.9805 - accuracy: 0.3489 - val_loss: 1.4510 - val_accuracy: 0.4333\n",
      "Epoch 2/10\n",
      "338/338 [==============================] - 28s 82ms/step - loss: 1.4352 - accuracy: 0.4796 - val_loss: 1.1952 - val_accuracy: 0.6200\n",
      "Epoch 3/10\n",
      "338/338 [==============================] - 28s 82ms/step - loss: 1.1513 - accuracy: 0.5941 - val_loss: 0.8987 - val_accuracy: 0.6956\n",
      "Epoch 4/10\n",
      "338/338 [==============================] - 28s 82ms/step - loss: 0.9381 - accuracy: 0.6787 - val_loss: 0.7483 - val_accuracy: 0.7782\n",
      "Epoch 5/10\n",
      "338/338 [==============================] - 28s 83ms/step - loss: 0.7885 - accuracy: 0.7328 - val_loss: 0.6689 - val_accuracy: 0.8121\n",
      "Epoch 6/10\n",
      "338/338 [==============================] - 28s 82ms/step - loss: 0.6800 - accuracy: 0.7700 - val_loss: 0.6045 - val_accuracy: 0.8439\n",
      "Epoch 7/10\n",
      "338/338 [==============================] - 28s 83ms/step - loss: 0.5968 - accuracy: 0.7999 - val_loss: 0.5642 - val_accuracy: 0.8715\n",
      "Epoch 8/10\n",
      "338/338 [==============================] - 28s 82ms/step - loss: 0.5232 - accuracy: 0.8265 - val_loss: 0.5356 - val_accuracy: 0.8796\n",
      "Epoch 9/10\n",
      "338/338 [==============================] - 29s 84ms/step - loss: 0.4725 - accuracy: 0.8434 - val_loss: 0.5125 - val_accuracy: 0.8928\n",
      "Epoch 10/10\n",
      "338/338 [==============================] - 29s 86ms/step - loss: 0.4161 - accuracy: 0.8645 - val_loss: 0.4907 - val_accuracy: 0.9001\n"
     ]
    }
   ],
   "source": [
    "history3 = model3.fit(X3_train, y3_train, epochs=10, batch_size=128, validation_data=(X3_validation, y3_validation))"
   ]
  },
  {
   "cell_type": "code",
   "execution_count": 119,
   "metadata": {},
   "outputs": [
    {
     "name": "stdout",
     "output_type": "stream",
     "text": [
      "422/422 [==============================] - 1s 1ms/step - loss: 0.4748 - accuracy: 0.9031\n",
      "Test loss: 0.4747544229030609\n",
      "Test accuracy: 0.9031205773353577\n"
     ]
    }
   ],
   "source": [
    "score3 = model3.evaluate(X3_test, y3_test)\n",
    "print('Test loss:', score3[0])\n",
    "print('Test accuracy:', score3[1])"
   ]
  },
  {
   "cell_type": "code",
   "execution_count": 120,
   "metadata": {},
   "outputs": [
    {
     "data": {
      "image/png": "[encoded data removed]",
      "text/plain": [
       "<Figure size 432x288 with 1 Axes>"
      ]
     },
     "metadata": {
      "needs_background": "light"
     },
     "output_type": "display_data"
    }
   ],
   "source": [
    "epochs3 = history3.epoch\n",
    "\n",
    "loss3 = history3.history['loss']\n",
    "validation_loss3 = history2.history['val_loss']\n",
    "\n",
    "plt.title('Loss')\n",
    "plt.xlabel('Epochs')\n",
    "plt.ylabel('loss')\n",
    "plt.plot(epochs3, loss3, c='red', label = 'training')\n",
    "plt.plot(epochs3, validation_loss3, c='orange', label='validation')\n",
    "plt.legend(loc = 'best')\n",
    "plt.show()"
   ]
  },
  {
   "cell_type": "code",
   "execution_count": 121,
   "metadata": {},
   "outputs": [
    {
     "data": {
      "image/png": "[encoded data removed]",
      "text/plain": [
       "<Figure size 432x288 with 1 Axes>"
      ]
     },
     "metadata": {
      "needs_background": "light"
     },
     "output_type": "display_data"
    }
   ],
   "source": [
    "acc3 = history3.history['accuracy']\n",
    "validation_acc3 = history3.history['val_accuracy']\n",
    "\n",
    "plt.title('Accuracy')\n",
    "plt.xlabel('epochs')\n",
    "plt.ylabel('acccuracy')\n",
    "plt.plot(epochs3, acc3, c='red', label = 'training')\n",
    "plt.plot(epochs3, validation_acc3, c = 'orange', label = 'validation')\n",
    "plt.legend(loc = 'best')\n",
    "plt.show()"
   ]
  },
  {
   "cell_type": "code",
   "execution_count": 136,
   "metadata": {},
   "outputs": [],
   "source": [
    "def EvaluateModel(model, X_test, y_test, history):\n",
    "    score = model.evaluate(X_test, y_test)\n",
    "    print('Test loss: ', score[0])\n",
    "    print('Test accuracy: ', score[1])\n",
    "    \n",
    "    epochs = history.epoch\n",
    "    \n",
    "    loss = history.history['loss']\n",
    "    validation_loss = history.history['val_loss']\n",
    "    \n",
    "    accuracy = history.history['accuracy']\n",
    "    validation_accuracy = history.history['val_accuracy']\n",
    "    \n",
    "    plt.figure(figsize=(12,8))\n",
    "    plt.title('Loss')\n",
    "    plt.xlabel('epochs')\n",
    "    plt.ylabel('loss')\n",
    "    plt.plot(epochs, loss, c='red', label = 'training')\n",
    "    plt.plot(epochs, validation_loss, c='orange', label='validation')\n",
    "    plt.legend(loc = 'best')\n",
    "    plt.show()\n",
    "    \n",
    "    plt.figure(figsize=(12,8))\n",
    "    plt.title('Accuracy')\n",
    "    plt.xlabel('epochs')\n",
    "    plt.ylabel('acccuracy')\n",
    "    plt.plot(epochs, accuracy, c='red', label = 'training')\n",
    "    plt.plot(epochs, validation_accuracy, c = 'orange', label = 'validation')\n",
    "    plt.legend(loc = 'best')\n",
    "    plt.show()"
   ]
  },
  {
   "cell_type": "code",
   "execution_count": 137,
   "metadata": {},
   "outputs": [
    {
     "name": "stdout",
     "output_type": "stream",
     "text": [
      "422/422 [==============================] - 1s 1ms/step - loss: 0.2290 - accuracy: 0.9520\n",
      "Test loss:  0.22902953624725342\n",
      "Test accuracy:  0.9519679546356201\n"
     ]
    },
    {
     "data": {
      "image/png": "[encoded data removed]",
      "text/plain": [
       "<Figure size 864x576 with 1 Axes>"
      ]
     },
     "metadata": {
      "needs_background": "light"
     },
     "output_type": "display_data"
    },
    {
     "data": {
      "image/png": "[encoded data removed]",
      "text/plain": [
       "<Figure size 864x576 with 1 Axes>"
      ]
     },
     "metadata": {
      "needs_background": "light"
     },
     "output_type": "display_data"
    }
   ],
   "source": [
    "EvaluateModel(model3, X3_test, y3_test, history3)"
   ]
  }
 ],
 "metadata": {
  "kernelspec": {
   "display_name": "Python 3",
   "language": "python",
   "name": "python3"
  },
  "language_info": {
   "codemirror_mode": {
    "name": "ipython",
    "version": 3
   },
   "file_extension": ".py",
   "mimetype": "text/x-python",
   "name": "python",
   "nbconvert_exporter": "python",
   "pygments_lexer": "ipython3",
   "version": "3.8.5"
  }
 },
 "nbformat": 4,
 "nbformat_minor": 4
}
