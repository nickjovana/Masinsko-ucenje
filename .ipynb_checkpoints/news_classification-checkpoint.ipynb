{
 "cells": [
  {
   "cell_type": "code",
   "execution_count": 2,
   "metadata": {},
   "outputs": [],
   "source": [
    "import numpy as np\n",
    "import pandas as pd\n",
    "from sklearn import model_selection\n",
    "from sklearn import metrics\n",
    "from sklearn import preprocessing\n",
    "from sklearn import feature_extraction\n",
    "from sklearn import linear_model\n",
    "from sklearn import multiclass\n",
    "from sklearn import svm\n",
    "from sklearn import neighbors\n",
    "from sklearn import naive_bayes"
   ]
  },
  {
   "cell_type": "code",
   "execution_count": 3,
   "metadata": {},
   "outputs": [],
   "source": [
    "news = pd.read_csv('vesti.csv')"
   ]
  },
  {
   "cell_type": "code",
   "execution_count": 4,
   "metadata": {},
   "outputs": [],
   "source": [
    "X = news['tekst']\n",
    "y = news['kategorija']"
   ]
  },
  {
   "cell_type": "markdown",
   "metadata": {},
   "source": [
    "### TF-IDF vektorizacija\n",
    "Izvršićemo vektorizaciju tekstualnih podataka pomoću Tf-Idf reprezentacije:"
   ]
  },
  {
   "cell_type": "code",
   "execution_count": 5,
   "metadata": {},
   "outputs": [
    {
     "data": {
      "text/plain": [
       "TfidfVectorizer()"
      ]
     },
     "execution_count": 5,
     "metadata": {},
     "output_type": "execute_result"
    }
   ],
   "source": [
    "tfidf_vectorizer = feature_extraction.text.TfidfVectorizer()\n",
    "tfidf_vectorizer.fit(X.values.astype('U'))"
   ]
  },
  {
   "cell_type": "code",
   "execution_count": 6,
   "metadata": {},
   "outputs": [
    {
     "data": {
      "text/plain": [
       "309627"
      ]
     },
     "execution_count": 6,
     "metadata": {},
     "output_type": "execute_result"
    }
   ],
   "source": [
    "len(tfidf_vectorizer.vocabulary_)"
   ]
  },
  {
   "cell_type": "code",
   "execution_count": 7,
   "metadata": {},
   "outputs": [],
   "source": [
    "X_transformed = tfidf_vectorizer.transform(X.values.astype('U'))"
   ]
  },
  {
   "cell_type": "code",
   "execution_count": 8,
   "metadata": {},
   "outputs": [
    {
     "data": {
      "text/plain": [
       "(165699, 309627)"
      ]
     },
     "execution_count": 8,
     "metadata": {},
     "output_type": "execute_result"
    }
   ],
   "source": [
    "X_transformed.shape"
   ]
  },
  {
   "cell_type": "markdown",
   "metadata": {},
   "source": [
    "### Kodiranje klasa\n",
    "Izvršićemo kodiranje 37 klasa brojevima, a mapiranje ćemo sačuvati u rečniku:"
   ]
  },
  {
   "cell_type": "code",
   "execution_count": 9,
   "metadata": {},
   "outputs": [],
   "source": [
    "y_transformed = y.astype('category')"
   ]
  },
  {
   "cell_type": "code",
   "execution_count": 10,
   "metadata": {},
   "outputs": [],
   "source": [
    "classes = dict(enumerate(y_transformed.cat.categories))"
   ]
  },
  {
   "cell_type": "code",
   "execution_count": 11,
   "metadata": {},
   "outputs": [
    {
     "data": {
      "text/plain": [
       "{0: 'ARTS & CULTURE',\n",
       " 1: 'BLACK VOICES',\n",
       " 2: 'BUSINESS',\n",
       " 3: 'COLLEGE',\n",
       " 4: 'COMEDY',\n",
       " 5: 'CRIME',\n",
       " 6: 'DIVORCE',\n",
       " 7: 'EDUCATION',\n",
       " 8: 'ENTERTAINMENT',\n",
       " 9: 'ENVIRONMENT',\n",
       " 10: 'FIFTY',\n",
       " 11: 'FOOD & DRINK',\n",
       " 12: 'GOOD NEWS',\n",
       " 13: 'GREEN',\n",
       " 14: 'HEALTHY LIVING',\n",
       " 15: 'HOME & LIVING',\n",
       " 16: 'IMPACT',\n",
       " 17: 'LATINO VOICES',\n",
       " 18: 'MEDIA',\n",
       " 19: 'MONEY',\n",
       " 20: 'PARENT',\n",
       " 21: 'PARENTS',\n",
       " 22: 'POLITICS',\n",
       " 23: 'QUEER VOICES',\n",
       " 24: 'RELIGION',\n",
       " 25: 'SCIENCE',\n",
       " 26: 'SPORTS',\n",
       " 27: 'STYLE & BEAUTY',\n",
       " 28: 'STYLE AND BEAUTY',\n",
       " 29: 'TASTE',\n",
       " 30: 'TECH',\n",
       " 31: 'TRAVEL',\n",
       " 32: 'WEDDINGS',\n",
       " 33: 'WEIRD NEWS',\n",
       " 34: 'WELLNESS',\n",
       " 35: 'WOMEN',\n",
       " 36: 'WORLD NEWS'}"
      ]
     },
     "execution_count": 11,
     "metadata": {},
     "output_type": "execute_result"
    }
   ],
   "source": [
    "classes"
   ]
  },
  {
   "cell_type": "code",
   "execution_count": 12,
   "metadata": {},
   "outputs": [],
   "source": [
    "y_transformed = y_transformed.cat.codes"
   ]
  },
  {
   "cell_type": "code",
   "execution_count": 13,
   "metadata": {},
   "outputs": [
    {
     "data": {
      "text/plain": [
       "0         35\n",
       "1         14\n",
       "2          2\n",
       "3          6\n",
       "4          6\n",
       "          ..\n",
       "165694     8\n",
       "165695    20\n",
       "165696     0\n",
       "165697    19\n",
       "165698     8\n",
       "Length: 165699, dtype: int8"
      ]
     },
     "execution_count": 13,
     "metadata": {},
     "output_type": "execute_result"
    }
   ],
   "source": [
    "y_transformed"
   ]
  },
  {
   "cell_type": "markdown",
   "metadata": {},
   "source": [
    "### Podela podataka\n",
    "Nakon vektorizacije i kodiranja klasa, uradićemo podelu podataka na trening i test skupove u odnosu 2:1 :"
   ]
  },
  {
   "cell_type": "code",
   "execution_count": 14,
   "metadata": {},
   "outputs": [],
   "source": [
    "X_train, X_test, y_train, y_test = model_selection.\\\n",
    "    train_test_split(X_transformed, y_transformed, test_size = 0.33, stratify = y_transformed, random_state = 4)"
   ]
  },
  {
   "cell_type": "markdown",
   "metadata": {},
   "source": [
    "### Višeklasna klasifikacija\n",
    "Klasifikator koji ćemo koristiti je linearni SVM (<i>support-vector-machine</i>) sa parametrom <b>multi_class</b> kako bismo ga koristili višeklasni klasifikator. "
   ]
  },
  {
   "cell_type": "code",
   "execution_count": 15,
   "metadata": {},
   "outputs": [],
   "source": [
    "SVM = svm.LinearSVC(multi_class = 'ovr', loss = 'hinge')"
   ]
  },
  {
   "cell_type": "code",
   "execution_count": 16,
   "metadata": {},
   "outputs": [
    {
     "data": {
      "text/plain": [
       "LinearSVC(loss='hinge')"
      ]
     },
     "execution_count": 16,
     "metadata": {},
     "output_type": "execute_result"
    }
   ],
   "source": [
    "SVM.fit(X_train, y_train)"
   ]
  },
  {
   "cell_type": "code",
   "execution_count": 16,
   "metadata": {},
   "outputs": [
    {
     "data": {
      "text/plain": [
       "0.7189883140396116"
      ]
     },
     "execution_count": 16,
     "metadata": {},
     "output_type": "execute_result"
    }
   ],
   "source": [
    "SVM.score(X_test, y_test)"
   ]
  },
  {
   "cell_type": "code",
   "execution_count": 17,
   "metadata": {},
   "outputs": [
    {
     "name": "stdout",
     "output_type": "stream",
     "text": [
      "                  precision    recall  f1-score   support\n",
      "\n",
      "  ARTS & CULTURE       0.76      0.69      0.72      1033\n",
      "    BLACK VOICES       0.70      0.53      0.61      1364\n",
      "        BUSINESS       0.63      0.54      0.58      1596\n",
      "         COLLEGE       0.60      0.50      0.54       307\n",
      "          COMEDY       0.70      0.66      0.68      1478\n",
      "           CRIME       0.61      0.60      0.60      1048\n",
      "         DIVORCE       0.81      0.79      0.80       880\n",
      "       EDUCATION       0.55      0.46      0.50       236\n",
      "   ENTERTAINMENT       0.76      0.82      0.79      4936\n",
      "     ENVIRONMENT       0.57      0.31      0.41       348\n",
      "           FIFTY       0.71      0.55      0.62       376\n",
      "    FOOD & DRINK       0.73      0.80      0.76      1345\n",
      "       GOOD NEWS       0.69      0.50      0.58       424\n",
      "           GREEN       0.54      0.41      0.47       725\n",
      "  HEALTHY LIVING       0.65      0.41      0.50      1733\n",
      "   HOME & LIVING       0.86      0.88      0.87      1144\n",
      "          IMPACT       0.60      0.39      0.48       876\n",
      "   LATINO VOICES       0.79      0.57      0.66       344\n",
      "           MEDIA       0.70      0.57      0.63       822\n",
      "           MONEY       0.68      0.61      0.64       466\n",
      "          PARENT       0.63      0.73      0.67      2062\n",
      "         PARENTS       0.76      0.47      0.58      1069\n",
      "        POLITICS       0.79      0.88      0.84      9646\n",
      "    QUEER VOICES       0.81      0.82      0.82      1855\n",
      "        RELIGION       0.63      0.64      0.64       622\n",
      "         SCIENCE       0.66      0.62      0.64       635\n",
      "          SPORTS       0.73      0.80      0.77      1474\n",
      "  STYLE & BEAUTY       0.82      0.89      0.85      2604\n",
      "STYLE AND BEAUTY       0.70      0.56      0.62       676\n",
      "           TASTE       0.64      0.39      0.49       576\n",
      "            TECH       0.67      0.56      0.61       586\n",
      "          TRAVEL       0.74      0.85      0.79      2330\n",
      "        WEDDINGS       0.81      0.83      0.82       949\n",
      "      WEIRD NEWS       0.55      0.49      0.52       822\n",
      "        WELLNESS       0.66      0.84      0.74      3914\n",
      "           WOMEN       0.62      0.43      0.51       919\n",
      "      WORLD NEWS       0.72      0.76      0.74      2461\n",
      "\n",
      "        accuracy                           0.73     54681\n",
      "       macro avg       0.69      0.63      0.65     54681\n",
      "    weighted avg       0.72      0.73      0.72     54681\n",
      "\n"
     ]
    }
   ],
   "source": [
    "print(metrics.classification_report(y_test, SVM.predict(X_test), target_names = classes.values()))"
   ]
  },
  {
   "cell_type": "code",
   "execution_count": 18,
   "metadata": {},
   "outputs": [
    {
     "name": "stdout",
     "output_type": "stream",
     "text": [
      "[[ 713    7    6 ...   17    2   19]\n",
      " [   8  729    9 ...   17   11   11]\n",
      " [   8    4  864 ...   76    8   49]\n",
      " ...\n",
      " [   7    5   44 ... 3272   13   17]\n",
      " [   7   15   23 ...   60  395   14]\n",
      " [  11    6   24 ...   21    9 1861]]\n"
     ]
    }
   ],
   "source": [
    "print(metrics.confusion_matrix(y_test, SVM.predict(X_test)))"
   ]
  },
  {
   "cell_type": "markdown",
   "metadata": {},
   "source": [
    "Sada ćemo probati OneVsAll multiklasnu klasifikaciju sa Logističkom regresijom:"
   ]
  },
  {
   "cell_type": "code",
   "execution_count": 20,
   "metadata": {},
   "outputs": [],
   "source": [
    "ovr = multiclass.OneVsRestClassifier(linear_model.LogisticRegression(max_iter = 1000))"
   ]
  },
  {
   "cell_type": "code",
   "execution_count": 21,
   "metadata": {},
   "outputs": [
    {
     "data": {
      "text/plain": [
       "OneVsRestClassifier(estimator=LogisticRegression(max_iter=1000))"
      ]
     },
     "execution_count": 21,
     "metadata": {},
     "output_type": "execute_result"
    }
   ],
   "source": [
    "ovr.fit(X_train, y_train)"
   ]
  },
  {
   "cell_type": "code",
   "execution_count": 22,
   "metadata": {},
   "outputs": [
    {
     "name": "stdout",
     "output_type": "stream",
     "text": [
      "                  precision    recall  f1-score   support\n",
      "\n",
      "  ARTS & CULTURE       0.81      0.60      0.69      1033\n",
      "    BLACK VOICES       0.71      0.44      0.54      1364\n",
      "        BUSINESS       0.60      0.50      0.55      1596\n",
      "         COLLEGE       0.63      0.35      0.45       307\n",
      "          COMEDY       0.72      0.59      0.65      1478\n",
      "           CRIME       0.64      0.53      0.58      1048\n",
      "         DIVORCE       0.87      0.67      0.76       880\n",
      "       EDUCATION       0.59      0.29      0.39       236\n",
      "   ENTERTAINMENT       0.65      0.86      0.74      4936\n",
      "     ENVIRONMENT       0.71      0.12      0.21       348\n",
      "           FIFTY       0.89      0.24      0.38       376\n",
      "    FOOD & DRINK       0.72      0.77      0.74      1345\n",
      "       GOOD NEWS       0.81      0.38      0.52       424\n",
      "           GREEN       0.53      0.30      0.38       725\n",
      "  HEALTHY LIVING       0.67      0.35      0.46      1733\n",
      "   HOME & LIVING       0.88      0.81      0.84      1144\n",
      "          IMPACT       0.69      0.32      0.43       876\n",
      "   LATINO VOICES       0.91      0.45      0.60       344\n",
      "           MEDIA       0.77      0.43      0.56       822\n",
      "           MONEY       0.73      0.37      0.49       466\n",
      "          PARENT       0.57      0.71      0.63      2062\n",
      "         PARENTS       0.85      0.42      0.56      1069\n",
      "        POLITICS       0.68      0.92      0.78      9646\n",
      "    QUEER VOICES       0.86      0.75      0.80      1855\n",
      "        RELIGION       0.72      0.49      0.58       622\n",
      "         SCIENCE       0.82      0.50      0.62       635\n",
      "          SPORTS       0.79      0.72      0.75      1474\n",
      "  STYLE & BEAUTY       0.80      0.87      0.83      2604\n",
      "STYLE AND BEAUTY       0.77      0.44      0.56       676\n",
      "           TASTE       0.77      0.27      0.40       576\n",
      "            TECH       0.75      0.39      0.52       586\n",
      "          TRAVEL       0.72      0.84      0.77      2330\n",
      "        WEDDINGS       0.87      0.75      0.81       949\n",
      "      WEIRD NEWS       0.58      0.45      0.51       822\n",
      "        WELLNESS       0.57      0.86      0.68      3914\n",
      "           WOMEN       0.59      0.38      0.46       919\n",
      "      WORLD NEWS       0.71      0.71      0.71      2461\n",
      "\n",
      "        accuracy                           0.69     54681\n",
      "       macro avg       0.73      0.54      0.59     54681\n",
      "    weighted avg       0.70      0.69      0.68     54681\n",
      "\n"
     ]
    }
   ],
   "source": [
    "print(metrics.classification_report(y_test, ovr.predict(X_test), target_names = classes.values()))"
   ]
  },
  {
   "cell_type": "code",
   "execution_count": 24,
   "metadata": {},
   "outputs": [
    {
     "name": "stdout",
     "output_type": "stream",
     "text": [
      "[[ 620    7    1 ...   30    4   12]\n",
      " [   6  601    6 ...   33   10    8]\n",
      " [   5    7  801 ...  138   14   54]\n",
      " ...\n",
      " [   3    3   38 ... 3381    8   23]\n",
      " [   2    9   21 ...   95  351    8]\n",
      " [   8    4   19 ...   33   19 1756]]\n"
     ]
    }
   ],
   "source": [
    "print(metrics.confusion_matrix(y_test, ovr.predict(X_test)))"
   ]
  },
  {
   "cell_type": "code",
   "execution_count": null,
   "metadata": {},
   "outputs": [],
   "source": []
  },
  {
   "cell_type": "code",
   "execution_count": null,
   "metadata": {},
   "outputs": [],
   "source": []
  }
 ],
 "metadata": {
  "kernelspec": {
   "display_name": "Python 3",
   "language": "python",
   "name": "python3"
  },
  "language_info": {
   "codemirror_mode": {
    "name": "ipython",
    "version": 3
   },
   "file_extension": ".py",
   "mimetype": "text/x-python",
   "name": "python",
   "nbconvert_exporter": "python",
   "pygments_lexer": "ipython3",
   "version": "3.8.5"
  }
 },
 "nbformat": 4,
 "nbformat_minor": 4
}
