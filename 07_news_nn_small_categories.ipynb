{
 "cells": [
  {
   "cell_type": "code",
   "execution_count": 1,
   "metadata": {},
   "outputs": [],
   "source": [
    "import numpy as np\n",
    "import pandas as pd\n",
    "from sklearn import model_selection\n",
    "from sklearn import metrics\n",
    "from sklearn import feature_extraction\n",
    "from sklearn import linear_model\n",
    "from sklearn import multiclass\n",
    "from sklearn import svm\n",
    "from sklearn import neighbors\n",
    "from sklearn import naive_bayes\n",
    "from sklearn import decomposition\n",
    "from sklearn.model_selection import train_test_split\n",
    "import sklearn.preprocessing\n",
    "\n",
    "from keras.models import Sequential\n",
    "from keras.layers import Dense, Dropout, Embedding, Conv1D, MaxPool1D, GlobalMaxPool1D, Activation, SpatialDropout1D, LSTM, SimpleRNN, GRU\n",
    "from keras.optimizers import Adam, SGD, RMSprop\n",
    "from keras import losses, optimizers\n",
    "from keras import preprocessing\n",
    "from keras.utils import to_categorical\n",
    "from keras.losses import CategoricalCrossentropy, BinaryCrossentropy\n",
    "\n",
    "from matplotlib import pyplot as plt\n",
    "\n",
    "import tensorflow as tf"
   ]
  },
  {
   "cell_type": "markdown",
   "metadata": {},
   "source": [
    "Izvršićemo klasifikaciju podataka neurnoskim mrežama za 2 kategorije. Učitaćemo podatke i odraditi vektorizaciju, a zatim podeliti na podatke na trening, test i validacione skupove. Isprobavali smo različite vrednosti za parametre modela (units, epochs, batch_size, learning_rate) kao i broj slojeva i za ove vrednosti smo dobili najbolje moguće modele za naše podatke."
   ]
  },
  {
   "cell_type": "markdown",
   "metadata": {},
   "source": [
    "Funkcija <i>GetData</i> će nam služiti za učitavanje podataka u zavisnosti od broja kategorija."
   ]
  },
  {
   "cell_type": "code",
   "execution_count": 2,
   "metadata": {},
   "outputs": [],
   "source": [
    "def GetData(num_of_categories, categories):\n",
    "    news = pd.read_csv('data/vesti.csv')\n",
    "    if num_of_categories == 36:\n",
    "        X = news['text']\n",
    "        y = news['category']\n",
    "    else:\n",
    "        news = news[news.category.isin(categories)]\n",
    "        X = news['text']\n",
    "        y = news['category']\n",
    "        \n",
    "    return (X, y)"
   ]
  },
  {
   "cell_type": "markdown",
   "metadata": {},
   "source": [
    "Funkcija <i>TransformData</i> izršava vektorizaciju nad skupom X i prevodi kategoričke vrednosti skupa y u indikatorske promenljive."
   ]
  },
  {
   "cell_type": "code",
   "execution_count": 3,
   "metadata": {},
   "outputs": [],
   "source": [
    "def TransformData(X, y):\n",
    "    vectorizer = feature_extraction.text.TfidfVectorizer()\n",
    "    vectorizer.fit(X.values.astype('U'))\n",
    "\n",
    "    X_transformed = vectorizer.transform(X.values.astype('U'))\n",
    "\n",
    "    y_transformed = pd.get_dummies(y).values\n",
    "    \n",
    "    return (X_transformed, y_transformed)"
   ]
  },
  {
   "cell_type": "markdown",
   "metadata": {},
   "source": [
    "Funkcija <i>TrainTestValidationSplit</i> deli podatke na trening, validacioni (validation size: 0.2) i test (test size: 0.2) skup sa stratifikacijom po y skupu."
   ]
  },
  {
   "cell_type": "code",
   "execution_count": 4,
   "metadata": {},
   "outputs": [],
   "source": [
    "def TrainTestValidationSplit(X, y):\n",
    "    X_train_validation, X_test, y_train_validation, y_test = train_test_split(X, y, test_size = 0.2, stratify = y, random_state = 4)\n",
    "    X_train, X_validation, y_train, y_validation = train_test_split(X_train_validation, y_train_validation, test_size = 0.2, stratify = y_train_validation, random_state = 4)\n",
    "    \n",
    "    return (X_train, X_validation, X_test, y_train, y_validation, y_test)"
   ]
  },
  {
   "cell_type": "markdown",
   "metadata": {},
   "source": [
    "Funkcija <i>EvaluateModel</i> će služiti za evaluaciju podataka na test skupu i vizualizaciju dobijenih vrednosti funkcije greške i tačnosti."
   ]
  },
  {
   "cell_type": "code",
   "execution_count": 5,
   "metadata": {},
   "outputs": [],
   "source": [
    "def EvaluateModel(model, X_test, y_test, history):\n",
    "    score = model.evaluate(X_test, y_test)\n",
    "    print('Test loss: ', score[0])\n",
    "    print('Test accuracy: ', score[1])\n",
    "    \n",
    "    epochs = history.epoch\n",
    "    \n",
    "    loss = history.history['loss']\n",
    "    validation_loss = history.history['val_loss']\n",
    "    \n",
    "    accuracy = history.history['accuracy']\n",
    "    validation_accuracy = history.history['val_accuracy']\n",
    "    \n",
    "    plt.figure(figsize=(12,8))\n",
    "    plt.title('Loss')\n",
    "    plt.xlabel('epochs')\n",
    "    plt.ylabel('loss')\n",
    "    plt.plot(epochs, loss, c='red', label = 'training')\n",
    "    plt.plot(epochs, validation_loss, c='orange', label='validation')\n",
    "    plt.legend(loc = 'best')\n",
    "    plt.show()\n",
    "    \n",
    "    plt.figure(figsize=(12,8))\n",
    "    plt.title('Accuracy')\n",
    "    plt.xlabel('epochs')\n",
    "    plt.ylabel('accuracy')\n",
    "    plt.plot(epochs, accuracy, c='red', label = 'training')\n",
    "    plt.plot(epochs, validation_accuracy, c = 'orange', label = 'validation')\n",
    "    plt.legend(loc = 'best')\n",
    "    plt.show()"
   ]
  },
  {
   "cell_type": "markdown",
   "metadata": {},
   "source": [
    "Funkcija <i>TransformToTensor</i> izvrsava dekompoziciju pomocu TruncatedSVD algoritma i proveravamo variansu kako bismo ocuvali smisao podataka, zatim na kraju pretvaramo transformisane podatke u tenzor kako bismo mogli da pokrenemo modele."
   ]
  },
  {
   "cell_type": "code",
   "execution_count": 6,
   "metadata": {},
   "outputs": [],
   "source": [
    "def TransformToTensor(X, n):\n",
    "    pca = decomposition.TruncatedSVD(n_components=n, random_state=4)\n",
    "    pca.fit(X)\n",
    "    print(sum(pca.explained_variance_ratio_))\n",
    "    X = pca.transform(X)\n",
    "    return tf.convert_to_tensor(X)"
   ]
  },
  {
   "cell_type": "markdown",
   "metadata": {},
   "source": [
    "### Klasifikacija za 2 kategorije"
   ]
  },
  {
   "cell_type": "markdown",
   "metadata": {},
   "source": [
    "Učitavamo podatke za dve kategorije koje imaju najveći broj članaka u skupu."
   ]
  },
  {
   "cell_type": "code",
   "execution_count": 7,
   "metadata": {},
   "outputs": [
    {
     "name": "stdout",
     "output_type": "stream",
     "text": [
      "(11091,)\n",
      "(11091,)\n"
     ]
    }
   ],
   "source": [
    "categories2 = ['SPORTS', 'FOOD & DRINK']\n",
    "X2, y2 = GetData(2, categories2)\n",
    "print(X2.shape)\n",
    "print(y2.shape)"
   ]
  },
  {
   "cell_type": "markdown",
   "metadata": {},
   "source": [
    "Delimo podatke na trening, test i validacioni skup, a zatim ih transformišemo pomoću funkcije TransformData."
   ]
  },
  {
   "cell_type": "code",
   "execution_count": 8,
   "metadata": {},
   "outputs": [],
   "source": [
    "X2_train, X2_validation, X2_test, y2_train, y2_validation, y2_test = TrainTestValidationSplit(X2, y2)"
   ]
  },
  {
   "cell_type": "code",
   "execution_count": 9,
   "metadata": {},
   "outputs": [],
   "source": [
    "X2_train_transformed, y2_train_transformed = TransformData(X2_train, y2_train)\n",
    "X2_validation_transformed, y2_validation_transformed = TransformData(X2_validation, y2_validation)\n",
    "X2_test_transformed, y2_test_transformed = TransformData(X2_test, y2_test)"
   ]
  },
  {
   "cell_type": "code",
   "execution_count": 10,
   "metadata": {},
   "outputs": [
    {
     "name": "stdout",
     "output_type": "stream",
     "text": [
      "(7097, 15641)\n",
      "(7097, 2)\n"
     ]
    }
   ],
   "source": [
    "print(X2_train_transformed.shape)\n",
    "print(y2_train_transformed.shape)"
   ]
  },
  {
   "cell_type": "code",
   "execution_count": 11,
   "metadata": {},
   "outputs": [
    {
     "name": "stdout",
     "output_type": "stream",
     "text": [
      "(1775, 7592)\n",
      "(1775, 2)\n"
     ]
    }
   ],
   "source": [
    "print(X2_validation_transformed.shape)\n",
    "print(y2_validation_transformed.shape)"
   ]
  },
  {
   "cell_type": "code",
   "execution_count": 12,
   "metadata": {},
   "outputs": [
    {
     "name": "stdout",
     "output_type": "stream",
     "text": [
      "(2219, 8646)\n",
      "(2219, 2)\n"
     ]
    }
   ],
   "source": [
    "print(X2_test_transformed.shape)\n",
    "print(y2_test_transformed.shape)"
   ]
  },
  {
   "cell_type": "code",
   "execution_count": 13,
   "metadata": {},
   "outputs": [
    {
     "name": "stdout",
     "output_type": "stream",
     "text": [
      "0.7579897184112458\n",
      "0.8280922612225192\n",
      "0.7653459268269318\n"
     ]
    }
   ],
   "source": [
    "X2_train_transformed = TransformToTensor(X2_train_transformed, 2000)\n",
    "X2_validation_transformed = TransformToTensor(X2_validation_transformed, 1000)\n",
    "X2_test_transformed = TransformToTensor(X2_test_transformed, 1000)"
   ]
  },
  {
   "cell_type": "markdown",
   "metadata": {},
   "source": [
    "Kreiramo modele i zatim prikazujemo rezultate."
   ]
  },
  {
   "cell_type": "code",
   "execution_count": 14,
   "metadata": {},
   "outputs": [
    {
     "name": "stdout",
     "output_type": "stream",
     "text": [
      "Model: \"sequential\"\n",
      "_________________________________________________________________\n",
      "Layer (type)                 Output Shape              Param #   \n",
      "=================================================================\n",
      "embedding (Embedding)        (None, 2000, 32)          64000     \n",
      "_________________________________________________________________\n",
      "lstm (LSTM)                  (None, 64)                24832     \n",
      "_________________________________________________________________\n",
      "dense (Dense)                (None, 2)                 130       \n",
      "=================================================================\n",
      "Total params: 88,962\n",
      "Trainable params: 88,962\n",
      "Non-trainable params: 0\n",
      "_________________________________________________________________\n"
     ]
    }
   ],
   "source": [
    "model1 = Sequential()\n",
    "model1.add(Embedding(input_dim = 2000, output_dim = 32, input_length = X2_train_transformed.shape[1]))\n",
    "model1.add(LSTM(64, dropout = 0.2, recurrent_dropout = 0.2))\n",
    "model1.add(Dense(2, activation='softmax'))\n",
    "\n",
    "model1.compile(optimizer = Adam(learning_rate = 0.0001), loss = CategoricalCrossentropy(), metrics = ['accuracy'])\n",
    "model1.summary()"
   ]
  },
  {
   "cell_type": "code",
   "execution_count": 15,
   "metadata": {},
   "outputs": [
    {
     "name": "stdout",
     "output_type": "stream",
     "text": [
      "Epoch 1/5\n",
      "222/222 [==============================] - ETA: 0s - loss: 0.6877 - accuracy: 0.5563WARNING:tensorflow:Model was constructed with shape (None, 2000) for input Tensor(\"embedding_input:0\", shape=(None, 2000), dtype=float32), but it was called on an input with incompatible shape (None, 1000).\n",
      "222/222 [==============================] - 446s 2s/step - loss: 0.6877 - accuracy: 0.5563 - val_loss: 0.6860 - val_accuracy: 0.5600\n",
      "Epoch 2/5\n",
      "222/222 [==============================] - 463s 2s/step - loss: 0.6862 - accuracy: 0.5600 - val_loss: 0.6860 - val_accuracy: 0.5600\n",
      "Epoch 3/5\n",
      "222/222 [==============================] - 444s 2s/step - loss: 0.6861 - accuracy: 0.5600 - val_loss: 0.6860 - val_accuracy: 0.5600\n",
      "Epoch 4/5\n",
      "222/222 [==============================] - 445s 2s/step - loss: 0.6862 - accuracy: 0.5600 - val_loss: 0.6859 - val_accuracy: 0.5600\n",
      "Epoch 5/5\n",
      "222/222 [==============================] - 440s 2s/step - loss: 0.6860 - accuracy: 0.5600 - val_loss: 0.6860 - val_accuracy: 0.5600\n"
     ]
    }
   ],
   "source": [
    "history1 = model1.fit(X2_train_transformed, y2_train_transformed, epochs=5, batch_size=32, validation_data=(X2_validation_transformed, y2_validation_transformed))"
   ]
  },
  {
   "cell_type": "code",
   "execution_count": 16,
   "metadata": {},
   "outputs": [
    {
     "name": "stdout",
     "output_type": "stream",
     "text": [
      "70/70 [==============================] - 7s 94ms/step - loss: 0.6859 - accuracy: 0.5602\n",
      "Test loss:  0.6859298348426819\n",
      "Test accuracy:  0.5601622462272644\n"
     ]
    },
    {
     "data": {
      "image/png": "[encoded data removed]",
      "text/plain": [
       "<Figure size 864x576 with 1 Axes>"
      ]
     },
     "metadata": {
      "needs_background": "light"
     },
     "output_type": "display_data"
    },
    {
     "data": {
      "image/png": "[encoded data removed]",
      "text/plain": [
       "<Figure size 864x576 with 1 Axes>"
      ]
     },
     "metadata": {
      "needs_background": "light"
     },
     "output_type": "display_data"
    }
   ],
   "source": [
    "EvaluateModel(model1, X2_test_transformed, y2_test_transformed, history1)"
   ]
  },
  {
   "cell_type": "code",
   "execution_count": 17,
   "metadata": {},
   "outputs": [
    {
     "name": "stdout",
     "output_type": "stream",
     "text": [
      "Model: \"sequential_1\"\n",
      "_________________________________________________________________\n",
      "Layer (type)                 Output Shape              Param #   \n",
      "=================================================================\n",
      "embedding_1 (Embedding)      (None, 2000, 32)          64000     \n",
      "_________________________________________________________________\n",
      "gru (GRU)                    (None, 64)                18816     \n",
      "_________________________________________________________________\n",
      "dense_1 (Dense)              (None, 2)                 130       \n",
      "=================================================================\n",
      "Total params: 82,946\n",
      "Trainable params: 82,946\n",
      "Non-trainable params: 0\n",
      "_________________________________________________________________\n"
     ]
    }
   ],
   "source": [
    "model2 = Sequential()\n",
    "model2.add(Embedding(input_dim = 2000, output_dim = 32, input_length = X2_train_transformed.shape[1]))\n",
    "model2.add(GRU(64))\n",
    "model2.add(Dense(2, activation='softmax'))\n",
    "\n",
    "model2.compile(optimizer = Adam(learning_rate = 0.0001), loss = CategoricalCrossentropy(), metrics = ['accuracy'])\n",
    "model2.summary()"
   ]
  },
  {
   "cell_type": "code",
   "execution_count": 19,
   "metadata": {},
   "outputs": [
    {
     "name": "stdout",
     "output_type": "stream",
     "text": [
      "Epoch 1/10\n",
      "222/222 [==============================] - ETA: 0s - loss: 0.6869 - accuracy: 0.5600WARNING:tensorflow:Model was constructed with shape (None, 2000) for input Tensor(\"embedding_1_input:0\", shape=(None, 2000), dtype=float32), but it was called on an input with incompatible shape (None, 1000).\n",
      "222/222 [==============================] - 251s 1s/step - loss: 0.6869 - accuracy: 0.5600 - val_loss: 0.6859 - val_accuracy: 0.5600\n",
      "Epoch 2/10\n",
      "222/222 [==============================] - 259s 1s/step - loss: 0.6861 - accuracy: 0.5600 - val_loss: 0.6860 - val_accuracy: 0.5600\n",
      "Epoch 3/10\n",
      "222/222 [==============================] - 303s 1s/step - loss: 0.6860 - accuracy: 0.5600 - val_loss: 0.6862 - val_accuracy: 0.5600\n",
      "Epoch 4/10\n",
      "222/222 [==============================] - 335s 2s/step - loss: 0.6861 - accuracy: 0.5600 - val_loss: 0.6859 - val_accuracy: 0.5600\n",
      "Epoch 5/10\n",
      "222/222 [==============================] - 318s 1s/step - loss: 0.6859 - accuracy: 0.5600 - val_loss: 0.6861 - val_accuracy: 0.5600\n",
      "Epoch 6/10\n",
      "222/222 [==============================] - 314s 1s/step - loss: 0.6861 - accuracy: 0.5600 - val_loss: 0.6859 - val_accuracy: 0.5600\n",
      "Epoch 7/10\n",
      "222/222 [==============================] - 311s 1s/step - loss: 0.6861 - accuracy: 0.5600 - val_loss: 0.6860 - val_accuracy: 0.5600\n",
      "Epoch 8/10\n",
      "222/222 [==============================] - 271s 1s/step - loss: 0.6861 - accuracy: 0.5600 - val_loss: 0.6860 - val_accuracy: 0.5600\n",
      "Epoch 9/10\n",
      "222/222 [==============================] - 282s 1s/step - loss: 0.6861 - accuracy: 0.5600 - val_loss: 0.6859 - val_accuracy: 0.5600\n",
      "Epoch 10/10\n",
      "222/222 [==============================] - 299s 1s/step - loss: 0.6861 - accuracy: 0.5600 - val_loss: 0.6859 - val_accuracy: 0.5600\n"
     ]
    }
   ],
   "source": [
    "history2 = model2.fit(X2_train_transformed, y2_train_transformed, epochs=10, batch_size=32, validation_data=(X2_validation_transformed, y2_validation_transformed))"
   ]
  },
  {
   "cell_type": "code",
   "execution_count": 20,
   "metadata": {},
   "outputs": [
    {
     "name": "stdout",
     "output_type": "stream",
     "text": [
      "70/70 [==============================] - 5s 78ms/step - loss: 0.6859 - accuracy: 0.5602\n",
      "Test loss:  0.6858910322189331\n",
      "Test accuracy:  0.5601622462272644\n"
     ]
    },
    {
     "data": {
      "image/png": "[encoded data removed]",
      "text/plain": [
       "<Figure size 864x576 with 1 Axes>"
      ]
     },
     "metadata": {
      "needs_background": "light"
     },
     "output_type": "display_data"
    },
    {
     "data": {
      "image/png": "[encoded data removed]",
      "text/plain": [
       "<Figure size 864x576 with 1 Axes>"
      ]
     },
     "metadata": {
      "needs_background": "light"
     },
     "output_type": "display_data"
    }
   ],
   "source": [
    "EvaluateModel(model2, X2_test_transformed, y2_test_transformed, history2)"
   ]
  },
  {
   "cell_type": "code",
   "execution_count": null,
   "metadata": {},
   "outputs": [],
   "source": []
  }
 ],
 "metadata": {
  "kernelspec": {
   "display_name": "Python 3",
   "language": "python",
   "name": "python3"
  },
  "language_info": {
   "codemirror_mode": {
    "name": "ipython",
    "version": 3
   },
   "file_extension": ".py",
   "mimetype": "text/x-python",
   "name": "python",
   "nbconvert_exporter": "python",
   "pygments_lexer": "ipython3",
   "version": "3.8.5"
  }
 },
 "nbformat": 4,
 "nbformat_minor": 4
}
