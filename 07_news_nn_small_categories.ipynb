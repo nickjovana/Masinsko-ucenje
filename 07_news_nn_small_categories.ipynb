{
 "cells": [
  {
   "cell_type": "code",
   "execution_count": 1,
   "metadata": {},
   "outputs": [],
   "source": [
    "import numpy as np\n",
    "import pandas as pd\n",
    "from sklearn import model_selection\n",
    "from sklearn import metrics\n",
    "from sklearn import feature_extraction\n",
    "from sklearn import linear_model\n",
    "from sklearn import multiclass\n",
    "from sklearn import svm\n",
    "from sklearn import neighbors\n",
    "from sklearn import naive_bayes\n",
    "from sklearn import decomposition\n",
    "from sklearn.model_selection import train_test_split\n",
    "import sklearn.preprocessing\n",
    "\n",
    "from keras.models import Sequential\n",
    "from keras.layers import Dense, Dropout, Embedding, Conv1D, MaxPool1D, GlobalMaxPool1D, Activation, SpatialDropout1D, LSTM, SimpleRNN, GRU\n",
    "from keras.optimizers import Adam, SGD, RMSprop\n",
    "from keras import losses, optimizers\n",
    "from keras import preprocessing\n",
    "from keras.utils import to_categorical\n",
    "from keras.losses import CategoricalCrossentropy, BinaryCrossentropy\n",
    "from keras.callbacks import EarlyStopping\n",
    "\n",
    "from matplotlib import pyplot as plt\n",
    "\n",
    "import tensorflow as tf"
   ]
  },
  {
   "cell_type": "markdown",
   "metadata": {},
   "source": [
    "Izvršićemo klasifikaciju podataka neurnoskim mrežama za 2 kategorije. Učitaćemo podatke i odraditi vektorizaciju, a zatim podeliti na podatke na trening, test i validacione skupove. Isprobavali smo različite vrednosti za parametre modela (units, epochs, batch_size, learning_rate) kao i broj slojeva i za ove vrednosti smo dobili najbolje moguće modele za naše podatke."
   ]
  },
  {
   "cell_type": "markdown",
   "metadata": {},
   "source": [
    "Funkcija <i>GetData</i> će nam služiti za učitavanje podataka u zavisnosti od broja kategorija."
   ]
  },
  {
   "cell_type": "code",
   "execution_count": 2,
   "metadata": {},
   "outputs": [],
   "source": [
    "def GetData(num_of_categories, categories):\n",
    "    news = pd.read_csv('data/vesti.csv')\n",
    "    if num_of_categories == 36:\n",
    "        X = news['text']\n",
    "        y = news['category']\n",
    "    else:\n",
    "        news = news[news.category.isin(categories)]\n",
    "        X = news['text']\n",
    "        y = news['category']\n",
    "        \n",
    "    return (X, y)"
   ]
  },
  {
   "cell_type": "markdown",
   "metadata": {},
   "source": [
    "Funkcija <i>TransformData</i> izršava vektorizaciju nad skupom X i prevodi kategoričke vrednosti skupa y u indikatorske promenljive."
   ]
  },
  {
   "cell_type": "code",
   "execution_count": 3,
   "metadata": {},
   "outputs": [],
   "source": [
    "def TransformData(X, y):\n",
    "    vectorizer = feature_extraction.text.TfidfVectorizer()\n",
    "    vectorizer.fit(X.values.astype('U'))\n",
    "\n",
    "    X_transformed = vectorizer.transform(X.values.astype('U'))\n",
    "\n",
    "    y_transformed = pd.get_dummies(y).values\n",
    "    \n",
    "    return (X_transformed, y_transformed)"
   ]
  },
  {
   "cell_type": "markdown",
   "metadata": {},
   "source": [
    "Funkcija <i>TrainTestValidationSplit</i> deli podatke na trening, validacioni (validation size: 0.2) i test (test size: 0.2) skup sa stratifikacijom po y skupu."
   ]
  },
  {
   "cell_type": "code",
   "execution_count": 4,
   "metadata": {},
   "outputs": [],
   "source": [
    "def TrainTestValidationSplit(X, y):\n",
    "    X_train_validation, X_test, y_train_validation, y_test = train_test_split(X, y, test_size = 0.33, stratify = y, random_state = 4)\n",
    "    X_train, X_validation, y_train, y_validation = train_test_split(X_train_validation, y_train_validation, test_size = 0.2, stratify = y_train_validation, random_state = 4)\n",
    "    \n",
    "    return (X_train, X_validation, X_test, y_train, y_validation, y_test)"
   ]
  },
  {
   "cell_type": "markdown",
   "metadata": {},
   "source": [
    "Funkcija <i>EvaluateModel</i> će služiti za evaluaciju podataka na test skupu i vizualizaciju dobijenih vrednosti funkcije greške i tačnosti."
   ]
  },
  {
   "cell_type": "code",
   "execution_count": 5,
   "metadata": {},
   "outputs": [],
   "source": [
    "def EvaluateModel(model, X_test, y_test, history):\n",
    "    score = model.evaluate(X_test, y_test)\n",
    "    print('Test loss: ', score[0])\n",
    "    print('Test accuracy: ', score[1])\n",
    "    \n",
    "    epochs = history.epoch\n",
    "    \n",
    "    loss = history.history['loss']\n",
    "    validation_loss = history.history['val_loss']\n",
    "    \n",
    "    accuracy = history.history['accuracy']\n",
    "    validation_accuracy = history.history['val_accuracy']\n",
    "    \n",
    "    plt.figure(figsize=(12,8))\n",
    "    plt.title('Loss')\n",
    "    plt.xlabel('epochs')\n",
    "    plt.ylabel('loss')\n",
    "    plt.plot(epochs, loss, c='red', label = 'training')\n",
    "    plt.plot(epochs, validation_loss, c='orange', label='validation')\n",
    "    plt.legend(loc = 'best')\n",
    "    plt.show()\n",
    "    \n",
    "    plt.figure(figsize=(12,8))\n",
    "    plt.title('Accuracy')\n",
    "    plt.xlabel('epochs')\n",
    "    plt.ylabel('accuracy')\n",
    "    plt.plot(epochs, accuracy, c='red', label = 'training')\n",
    "    plt.plot(epochs, validation_accuracy, c = 'orange', label = 'validation')\n",
    "    plt.legend(loc = 'best')\n",
    "    plt.show()"
   ]
  },
  {
   "cell_type": "markdown",
   "metadata": {},
   "source": [
    "Funkcija <i>TransformToTensor</i> izvrsava dekompoziciju pomocu TruncatedSVD algoritma i proveravamo variansu kako bismo ocuvali smisao podataka, zatim na kraju pretvaramo transformisane podatke u tenzor kako bismo mogli da pokrenemo modele."
   ]
  },
  {
   "cell_type": "code",
   "execution_count": 6,
   "metadata": {},
   "outputs": [],
   "source": [
    "def TransformToTensor(X, n):\n",
    "    pca = decomposition.TruncatedSVD(n_components=n, random_state=4)\n",
    "    pca.fit(X)\n",
    "    print(sum(pca.explained_variance_ratio_))\n",
    "    X = pca.transform(X)\n",
    "    return tf.convert_to_tensor(X)"
   ]
  },
  {
   "cell_type": "markdown",
   "metadata": {},
   "source": [
    "### Klasifikacija za 2 kategorije"
   ]
  },
  {
   "cell_type": "markdown",
   "metadata": {},
   "source": [
    "Učitavamo podatke za dve kategorije koje imaju najveći broj članaka u skupu."
   ]
  },
  {
   "cell_type": "code",
   "execution_count": 7,
   "metadata": {},
   "outputs": [
    {
     "name": "stdout",
     "output_type": "stream",
     "text": [
      "(8239,)\n",
      "(8239,)\n"
     ]
    }
   ],
   "source": [
    "categories2 = ['SPORTS', 'WOMEN']\n",
    "X2, y2 = GetData(2, categories2)\n",
    "print(X2.shape)\n",
    "print(y2.shape)"
   ]
  },
  {
   "cell_type": "markdown",
   "metadata": {},
   "source": [
    "Delimo podatke na trening, test i validacioni skup, a zatim ih transformišemo pomoću funkcije TransformData."
   ]
  },
  {
   "cell_type": "code",
   "execution_count": 8,
   "metadata": {},
   "outputs": [],
   "source": [
    "X2_train, X2_validation, X2_test, y2_train, y2_validation, y2_test = TrainTestValidationSplit(X2, y2)"
   ]
  },
  {
   "cell_type": "code",
   "execution_count": 9,
   "metadata": {},
   "outputs": [],
   "source": [
    "X2_train_transformed, y2_train_transformed = TransformData(X2_train, y2_train)\n",
    "X2_validation_transformed, y2_validation_transformed = TransformData(X2_validation, y2_validation)\n",
    "X2_test_transformed, y2_test_transformed = TransformData(X2_test, y2_test)"
   ]
  },
  {
   "cell_type": "code",
   "execution_count": 10,
   "metadata": {},
   "outputs": [
    {
     "name": "stdout",
     "output_type": "stream",
     "text": [
      "(4416, 12992)\n",
      "(4416, 2)\n"
     ]
    }
   ],
   "source": [
    "print(X2_train_transformed.shape)\n",
    "print(y2_train_transformed.shape)"
   ]
  },
  {
   "cell_type": "code",
   "execution_count": 11,
   "metadata": {},
   "outputs": [
    {
     "name": "stdout",
     "output_type": "stream",
     "text": [
      "(1104, 6169)\n",
      "(1104, 2)\n"
     ]
    }
   ],
   "source": [
    "print(X2_validation_transformed.shape)\n",
    "print(y2_validation_transformed.shape)"
   ]
  },
  {
   "cell_type": "code",
   "execution_count": 12,
   "metadata": {},
   "outputs": [
    {
     "name": "stdout",
     "output_type": "stream",
     "text": [
      "(2719, 10163)\n",
      "(2719, 2)\n"
     ]
    }
   ],
   "source": [
    "print(X2_test_transformed.shape)\n",
    "print(y2_test_transformed.shape)"
   ]
  },
  {
   "cell_type": "code",
   "execution_count": 13,
   "metadata": {},
   "outputs": [
    {
     "name": "stdout",
     "output_type": "stream",
     "text": [
      "0.6208653407161399\n",
      "0.9709804685301023\n",
      "0.7089962633513293\n"
     ]
    }
   ],
   "source": [
    "X2_train_transformed = TransformToTensor(X2_train_transformed, 1000)\n",
    "X2_validation_transformed = TransformToTensor(X2_validation_transformed, 1000)\n",
    "X2_test_transformed = TransformToTensor(X2_test_transformed, 1000)"
   ]
  },
  {
   "cell_type": "markdown",
   "metadata": {},
   "source": [
    "Kreiramo modele i zatim prikazujemo rezultate."
   ]
  },
  {
   "cell_type": "code",
   "execution_count": 14,
   "metadata": {},
   "outputs": [
    {
     "name": "stdout",
     "output_type": "stream",
     "text": [
      "Model: \"sequential\"\n",
      "_________________________________________________________________\n",
      "Layer (type)                 Output Shape              Param #   \n",
      "=================================================================\n",
      "embedding (Embedding)        (None, 1000, 32)          64000     \n",
      "_________________________________________________________________\n",
      "lstm (LSTM)                  (None, 64)                24832     \n",
      "_________________________________________________________________\n",
      "dense (Dense)                (None, 2)                 130       \n",
      "=================================================================\n",
      "Total params: 88,962\n",
      "Trainable params: 88,962\n",
      "Non-trainable params: 0\n",
      "_________________________________________________________________\n"
     ]
    }
   ],
   "source": [
    "model1 = Sequential()\n",
    "model1.add(Embedding(input_dim = 2000, output_dim = 32, input_length = X2_train_transformed.shape[1]))\n",
    "model1.add(LSTM(64, dropout = 0.2, recurrent_dropout = 0.2))\n",
    "model1.add(Dense(2, activation='softmax'))\n",
    "\n",
    "model1.compile(optimizer = SGD(learning_rate = 0.0001), loss = CategoricalCrossentropy(), metrics = ['accuracy'])\n",
    "model1.summary()"
   ]
  },
  {
   "cell_type": "code",
   "execution_count": 15,
   "metadata": {},
   "outputs": [
    {
     "name": "stdout",
     "output_type": "stream",
     "text": [
      "Epoch 1/10\n",
      "138/138 [==============================] - 114s 825ms/step - loss: 0.6934 - accuracy: 0.4642 - val_loss: 0.6930 - val_accuracy: 0.5924\n",
      "Epoch 2/10\n",
      "138/138 [==============================] - 109s 788ms/step - loss: 0.6926 - accuracy: 0.5546 - val_loss: 0.6922 - val_accuracy: 0.5924\n",
      "Epoch 3/10\n",
      "138/138 [==============================] - 108s 783ms/step - loss: 0.6918 - accuracy: 0.5904 - val_loss: 0.6915 - val_accuracy: 0.5924\n",
      "Epoch 4/10\n",
      "138/138 [==============================] - 111s 805ms/step - loss: 0.6912 - accuracy: 0.5924 - val_loss: 0.6908 - val_accuracy: 0.5924\n",
      "Epoch 5/10\n",
      "138/138 [==============================] - 112s 811ms/step - loss: 0.6904 - accuracy: 0.5924 - val_loss: 0.6902 - val_accuracy: 0.5924\n",
      "Epoch 6/10\n",
      "138/138 [==============================] - 112s 813ms/step - loss: 0.6899 - accuracy: 0.5924 - val_loss: 0.6895 - val_accuracy: 0.5924\n",
      "Epoch 7/10\n",
      "138/138 [==============================] - 119s 859ms/step - loss: 0.6893 - accuracy: 0.5924 - val_loss: 0.6889 - val_accuracy: 0.5924\n",
      "Epoch 8/10\n",
      "138/138 [==============================] - 126s 912ms/step - loss: 0.6887 - accuracy: 0.5924 - val_loss: 0.6884 - val_accuracy: 0.5924\n",
      "Epoch 9/10\n",
      "138/138 [==============================] - 140s 1s/step - loss: 0.6882 - accuracy: 0.5924 - val_loss: 0.6878 - val_accuracy: 0.5924\n",
      "Epoch 10/10\n",
      "138/138 [==============================] - 139s 1s/step - loss: 0.6876 - accuracy: 0.5924 - val_loss: 0.6873 - val_accuracy: 0.5924\n"
     ]
    }
   ],
   "source": [
    "history1 = model1.fit(X2_train_transformed, y2_train_transformed, epochs=10, batch_size=32, validation_data=(X2_validation_transformed, y2_validation_transformed))"
   ]
  },
  {
   "cell_type": "code",
   "execution_count": 16,
   "metadata": {},
   "outputs": [
    {
     "name": "stdout",
     "output_type": "stream",
     "text": [
      "85/85 [==============================] - 24s 287ms/step - loss: 0.6873 - accuracy: 0.5921\n",
      "Test loss:  0.6873040795326233\n",
      "Test accuracy:  0.5921294689178467\n"
     ]
    },
    {
     "data": {
      "image/png": "[encoded data removed]",
      "text/plain": [
       "<Figure size 864x576 with 1 Axes>"
      ]
     },
     "metadata": {
      "needs_background": "light"
     },
     "output_type": "display_data"
    },
    {
     "data": {
      "image/png": "[encoded data removed]",
      "text/plain": [
       "<Figure size 864x576 with 1 Axes>"
      ]
     },
     "metadata": {
      "needs_background": "light"
     },
     "output_type": "display_data"
    }
   ],
   "source": [
    "EvaluateModel(model1, X2_test_transformed, y2_test_transformed, history1)"
   ]
  },
  {
   "cell_type": "code",
   "execution_count": 17,
   "metadata": {},
   "outputs": [
    {
     "name": "stdout",
     "output_type": "stream",
     "text": [
      "Model: \"sequential_1\"\n",
      "_________________________________________________________________\n",
      "Layer (type)                 Output Shape              Param #   \n",
      "=================================================================\n",
      "embedding_1 (Embedding)      (None, 1000, 32)          64000     \n",
      "_________________________________________________________________\n",
      "gru (GRU)                    (None, 64)                18816     \n",
      "_________________________________________________________________\n",
      "dense_1 (Dense)              (None, 2)                 130       \n",
      "=================================================================\n",
      "Total params: 82,946\n",
      "Trainable params: 82,946\n",
      "Non-trainable params: 0\n",
      "_________________________________________________________________\n"
     ]
    }
   ],
   "source": [
    "model2 = Sequential()\n",
    "model2.add(Embedding(input_dim = 2000, output_dim = 32, input_length = X2_train_transformed.shape[1]))\n",
    "model2.add(GRU(64))\n",
    "model2.add(Dense(2, activation='softmax'))\n",
    "\n",
    "model2.compile(optimizer = Adam(learning_rate = 0.00001), loss = CategoricalCrossentropy(), metrics = ['accuracy'])\n",
    "model2.summary()"
   ]
  },
  {
   "cell_type": "code",
   "execution_count": 18,
   "metadata": {},
   "outputs": [
    {
     "name": "stdout",
     "output_type": "stream",
     "text": [
      "Epoch 1/8\n",
      "138/138 [==============================] - 186s 1s/step - loss: 0.6898 - accuracy: 0.5924 - val_loss: 0.6878 - val_accuracy: 0.5924\n",
      "Epoch 2/8\n",
      "138/138 [==============================] - 188s 1s/step - loss: 0.6862 - accuracy: 0.5924 - val_loss: 0.6846 - val_accuracy: 0.5924\n",
      "Epoch 3/8\n",
      "138/138 [==============================] - 181s 1s/step - loss: 0.6833 - accuracy: 0.5924 - val_loss: 0.6820 - val_accuracy: 0.5924\n",
      "Epoch 4/8\n",
      "138/138 [==============================] - 192s 1s/step - loss: 0.6810 - accuracy: 0.5924 - val_loss: 0.6800 - val_accuracy: 0.5924\n",
      "Epoch 5/8\n",
      "138/138 [==============================] - 187s 1s/step - loss: 0.6793 - accuracy: 0.5924 - val_loss: 0.6786 - val_accuracy: 0.5924\n",
      "Epoch 6/8\n",
      "138/138 [==============================] - 188s 1s/step - loss: 0.6781 - accuracy: 0.5924 - val_loss: 0.6776 - val_accuracy: 0.5924\n",
      "Epoch 7/8\n",
      "138/138 [==============================] - 191s 1s/step - loss: 0.6773 - accuracy: 0.5924 - val_loss: 0.6769 - val_accuracy: 0.5924\n",
      "Epoch 8/8\n",
      "138/138 [==============================] - 188s 1s/step - loss: 0.6767 - accuracy: 0.5924 - val_loss: 0.6765 - val_accuracy: 0.5924\n"
     ]
    }
   ],
   "source": [
    "history2 = model2.fit(X2_train_transformed, y2_train_transformed, epochs=8, batch_size=32, validation_data=(X2_validation_transformed, y2_validation_transformed))"
   ]
  },
  {
   "cell_type": "code",
   "execution_count": 19,
   "metadata": {},
   "outputs": [
    {
     "name": "stdout",
     "output_type": "stream",
     "text": [
      "85/85 [==============================] - 23s 267ms/step - loss: 0.6766 - accuracy: 0.5921\n",
      "Test loss:  0.6765980124473572\n",
      "Test accuracy:  0.5921294689178467\n"
     ]
    },
    {
     "data": {
      "image/png": "[encoded data removed]",
      "text/plain": [
       "<Figure size 864x576 with 1 Axes>"
      ]
     },
     "metadata": {
      "needs_background": "light"
     },
     "output_type": "display_data"
    },
    {
     "data": {
      "image/png": "[encoded data removed]",
      "text/plain": [
       "<Figure size 864x576 with 1 Axes>"
      ]
     },
     "metadata": {
      "needs_background": "light"
     },
     "output_type": "display_data"
    }
   ],
   "source": [
    "EvaluateModel(model2, X2_test_transformed, y2_test_transformed, history2)"
   ]
  },
  {
   "cell_type": "code",
   "execution_count": 20,
   "metadata": {},
   "outputs": [
    {
     "name": "stdout",
     "output_type": "stream",
     "text": [
      "WARNING:tensorflow:From <ipython-input-20-d00910ae6d17>:1: Sequential.predict_classes (from tensorflow.python.keras.engine.sequential) is deprecated and will be removed after 2021-01-01.\n",
      "Instructions for updating:\n",
      "Please use instead:* `np.argmax(model.predict(x), axis=-1)`,   if your model does multi-class classification   (e.g. if it uses a `softmax` last-layer activation).* `(model.predict(x) > 0.5).astype(\"int32\")`,   if your model does binary classification   (e.g. if it uses a `sigmoid` last-layer activation).\n",
      "              precision    recall  f1-score   support\n",
      "\n",
      "           0       0.59      1.00      0.74      1610\n",
      "           1       0.00      0.00      0.00      1109\n",
      "\n",
      "    accuracy                           0.59      2719\n",
      "   macro avg       0.30      0.50      0.37      2719\n",
      "weighted avg       0.35      0.59      0.44      2719\n",
      "\n",
      "[[1610    0]\n",
      " [1109    0]]\n"
     ]
    },
    {
     "name": "stderr",
     "output_type": "stream",
     "text": [
      "c:\\python38\\lib\\site-packages\\sklearn\\metrics\\_classification.py:1221: UndefinedMetricWarning: Precision and F-score are ill-defined and being set to 0.0 in labels with no predicted samples. Use `zero_division` parameter to control this behavior.\n",
      "  _warn_prf(average, modifier, msg_start, len(result))\n"
     ]
    }
   ],
   "source": [
    "p1 = model1.predict_classes(X2_test_transformed, verbose=0)\n",
    "print(metrics.classification_report(np.argmax(y2_test_transformed, axis=1), p1))\n",
    "print(metrics.confusion_matrix(np.argmax(y2_test_transformed, axis=1), p1))"
   ]
  },
  {
   "cell_type": "code",
   "execution_count": 21,
   "metadata": {},
   "outputs": [
    {
     "name": "stdout",
     "output_type": "stream",
     "text": [
      "              precision    recall  f1-score   support\n",
      "\n",
      "           0       0.59      1.00      0.74      1610\n",
      "           1       0.00      0.00      0.00      1109\n",
      "\n",
      "    accuracy                           0.59      2719\n",
      "   macro avg       0.30      0.50      0.37      2719\n",
      "weighted avg       0.35      0.59      0.44      2719\n",
      "\n",
      "[[1610    0]\n",
      " [1109    0]]\n"
     ]
    }
   ],
   "source": [
    "p2 = model2.predict_classes(X2_test_transformed, verbose=0)\n",
    "print(metrics.classification_report(np.argmax(y2_test_transformed, axis=1), p2))\n",
    "print(metrics.confusion_matrix(np.argmax(y2_test_transformed, axis=1), p2))"
   ]
  },
  {
   "cell_type": "code",
   "execution_count": null,
   "metadata": {},
   "outputs": [],
   "source": []
  }
 ],
 "metadata": {
  "kernelspec": {
   "display_name": "Python 3",
   "language": "python",
   "name": "python3"
  },
  "language_info": {
   "codemirror_mode": {
    "name": "ipython",
    "version": 3
   },
   "file_extension": ".py",
   "mimetype": "text/x-python",
   "name": "python",
   "nbconvert_exporter": "python",
   "pygments_lexer": "ipython3",
   "version": "3.8.5"
  }
 },
 "nbformat": 4,
 "nbformat_minor": 4
}
