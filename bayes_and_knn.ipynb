{
 "cells": [
  {
   "cell_type": "code",
   "execution_count": 2,
   "metadata": {},
   "outputs": [],
   "source": [
    "import numpy as np\n",
    "import pandas as pd\n",
    "from sklearn import model_selection\n",
    "from sklearn import metrics\n",
    "from sklearn import preprocessing\n",
    "from sklearn import feature_extraction\n",
    "from sklearn import linear_model\n",
    "from sklearn import multiclass\n",
    "from sklearn import svm\n",
    "from sklearn import neighbors\n",
    "from sklearn import naive_bayes\n",
    "from sklearn.naive_bayes import MultinomialNB\n",
    "from sklearn.metrics import classification_report\n",
    "from sklearn.metrics import accuracy_score ,confusion_matrix\n",
    "import matplotlib.pyplot as plt\n",
    "from sklearn import metrics"
   ]
  },
  {
   "cell_type": "code",
   "execution_count": 3,
   "metadata": {},
   "outputs": [],
   "source": [
    "news = pd.read_csv('vesti.csv')"
   ]
  },
  {
   "cell_type": "code",
   "execution_count": 4,
   "metadata": {},
   "outputs": [],
   "source": [
    "X = news['tekst']\n",
    "y = news['kategorija']"
   ]
  },
  {
   "cell_type": "code",
   "execution_count": 5,
   "metadata": {},
   "outputs": [
    {
     "data": {
      "text/plain": [
       "TfidfVectorizer(analyzer='word', binary=False, decode_error='strict',\n",
       "                dtype=<class 'numpy.float64'>, encoding='utf-8',\n",
       "                input='content', lowercase=True, max_df=1.0, max_features=None,\n",
       "                min_df=1, ngram_range=(1, 1), norm='l2', preprocessor=None,\n",
       "                smooth_idf=True, stop_words=None, strip_accents=None,\n",
       "                sublinear_tf=False, token_pattern='(?u)\\\\b\\\\w\\\\w+\\\\b',\n",
       "                tokenizer=None, use_idf=True, vocabulary=None)"
      ]
     },
     "execution_count": 5,
     "metadata": {},
     "output_type": "execute_result"
    }
   ],
   "source": [
    "tfidf_vectorizer = feature_extraction.text.TfidfVectorizer()\n",
    "tfidf_vectorizer.fit(X.values.astype('U'))"
   ]
  },
  {
   "cell_type": "code",
   "execution_count": 6,
   "metadata": {},
   "outputs": [],
   "source": [
    "y_transformed = y.astype('category')\n",
    "X_transformed = tfidf_vectorizer.transform(X.values.astype('U'))"
   ]
  },
  {
   "cell_type": "code",
   "execution_count": 7,
   "metadata": {},
   "outputs": [],
   "source": [
    "classes = dict(enumerate(y_transformed.cat.categories))\n",
    "y_transformed = y_transformed.cat.codes"
   ]
  },
  {
   "cell_type": "code",
   "execution_count": 8,
   "metadata": {},
   "outputs": [],
   "source": [
    "X_train, X_test, y_train, y_test = model_selection.\\\n",
    "    train_test_split(X_transformed, y_transformed, test_size = 0.33, stratify = y_transformed, random_state = 4)"
   ]
  },
  {
   "cell_type": "code",
   "execution_count": 11,
   "metadata": {},
   "outputs": [
    {
     "name": "stdout",
     "output_type": "stream",
     "text": [
      "Najbolja preciznost na test skupu je:  0.6705254110202813\n",
      "Najbolji alfa parametar modela su:  0.007\n"
     ]
    }
   ],
   "source": [
    "alphas=[0.005,0.006,0.007,0.01,0.02,0.05,0.1,0.2,0.3,0.4,0.5,0.6,0.7,0.8,0.9,1]\n",
    "best_acc=0\n",
    "best_alpha=None\n",
    "bayesArray=[]\n",
    "for alpha in alphas:\n",
    "    model = MultinomialNB(alpha=alpha)\n",
    "    model.fit(X_train, y_train)\n",
    "    y_predict = model.predict(X_test)\n",
    "    accuracy = accuracy_score(y_test,y_predict)\n",
    "    bayesArray.append(accuracy)\n",
    "    if accuracy> best_acc:\n",
    "        best_acc = accuracy\n",
    "        best_alpha = alpha\n",
    "print('Najbolja preciznost na test skupu je: ', best_acc)\n",
    "print('Najbolji alfa parametar modela su: ', best_alpha)"
   ]
  },
  {
   "cell_type": "code",
   "execution_count": 12,
   "metadata": {},
   "outputs": [
    {
     "data": {
      "image/png": "[encoded data removed]",
      "text/plain": [
       "<Figure size 432x288 with 1 Axes>"
      ]
     },
     "metadata": {
      "needs_background": "light"
     },
     "output_type": "display_data"
    }
   ],
   "source": [
    "plt.plot(alphas,bayesArray)\n",
    "plt.xticks(alphas)\n",
    "plt.show()"
   ]
  },
  {
   "cell_type": "code",
   "execution_count": 13,
   "metadata": {},
   "outputs": [
    {
     "data": {
      "image/png": "[encoded data removed]",
      "text/plain": [
       "<Figure size 432x288 with 1 Axes>"
      ]
     },
     "metadata": {
      "needs_background": "light"
     },
     "output_type": "display_data"
    }
   ],
   "source": [
    "plt.plot(alphas[0:4],bayesArray[0:4])\n",
    "plt.xticks(alphas[0:4])\n",
    "plt.show()"
   ]
  },
  {
   "cell_type": "code",
   "execution_count": 14,
   "metadata": {},
   "outputs": [
    {
     "name": "stdout",
     "output_type": "stream",
     "text": [
      "[[ 571   20   10 ...   26    8   12]\n",
      " [  12  609    9 ...   28   12    8]\n",
      " [   8   10  855 ...   90   12   38]\n",
      " ...\n",
      " [   9    4   39 ... 3268    9   15]\n",
      " [   3   22   23 ...   65  313    9]\n",
      " [   5   13   33 ...   19    8 1822]]\n"
     ]
    }
   ],
   "source": [
    "model = MultinomialNB(alpha=best_alpha)\n",
    "model.fit(X_train, y_train)\n",
    "y_predict = model.predict(X_test)\n",
    "matrix=metrics.confusion_matrix(y_test, y_predict)\n",
    "#np.set_printoptions(threshold=np.inf)\n",
    "print(matrix)"
   ]
  },
  {
   "cell_type": "code",
   "execution_count": null,
   "metadata": {},
   "outputs": [],
   "source": [
    "n_neighbors_list=list(range(1, 21))\n",
    "best_acc_test=0\n",
    "best_acc_train=0\n",
    "best_n=None\n",
    "knnArray=[]\n",
    "for n_neighbors in n_neighbors_list:\n",
    "    knn_model = neighbors.KNeighborsClassifier(n_neighbors=n_neighbors)\n",
    "    knn_model.fit(X_train, y_train)\n",
    "    y_predict = knn_model.predict(X_test)\n",
    "    accuracy_test = accuracy_score(y_test,y_predict)\n",
    "    knnArray.append(accuracy_test)\n",
    "  #  accuracy_train = knn_model.score(X_train, y_train)\n",
    "    if accuracy_test> best_acc_test:\n",
    "        best_acc_test = accuracy_test\n",
    "   #     best_acc_train=accuracy_train\n",
    "        best_n = n_neighbors\n",
    "print('Najbolji rezultat na test skupu je: ',best_acc_test)\n",
    "print('Najbolji parametri modela su: ', best_n)"
   ]
  },
  {
   "cell_type": "code",
   "execution_count": null,
   "metadata": {},
   "outputs": [],
   "source": [
    "plt.plot(n_neighbors_list,knnArray)\n",
    "plt.xticks(n_neighbors_list)\n",
    "plt.show()"
   ]
  },
  {
   "cell_type": "code",
   "execution_count": null,
   "metadata": {},
   "outputs": [],
   "source": [
    "knn_model = neighbors.KNeighborsClassifier(n_neighbors=best_n)\n",
    "knn_model.fit(X_train, y_train)\n",
    "y_predict = knn_model.predict(X_test)\n",
    "matrix=metrics.confusion_matrix(y_test, y_predict)\n",
    "#np.set_printoptions(threshold=np.inf)\n",
    "print(matrix)"
   ]
  },
  {
   "cell_type": "code",
   "execution_count": 28,
   "metadata": {},
   "outputs": [
    {
     "name": "stdout",
     "output_type": "stream",
     "text": [
      "              precision    recall  f1-score   support\n",
      "\n",
      "           0       0.79      0.69      0.74      1033\n",
      "           1       0.69      0.56      0.62      1364\n",
      "           2       0.63      0.56      0.59      1596\n",
      "           3       0.62      0.51      0.56       307\n",
      "           4       0.71      0.67      0.69      1478\n",
      "           5       0.62      0.59      0.60      1048\n",
      "           6       0.83      0.79      0.81       880\n",
      "           7       0.60      0.45      0.51       236\n",
      "           8       0.76      0.84      0.80      4936\n",
      "           9       0.60      0.34      0.43       348\n",
      "          10       0.75      0.56      0.64       376\n",
      "          11       0.75      0.79      0.77      1345\n",
      "          12       0.70      0.51      0.59       424\n",
      "          13       0.53      0.46      0.49       725\n",
      "          14       0.63      0.48      0.55      1733\n",
      "          15       0.88      0.89      0.88      1144\n",
      "          16       0.60      0.43      0.50       876\n",
      "          17       0.79      0.57      0.67       344\n",
      "          18       0.71      0.57      0.63       822\n",
      "          19       0.70      0.60      0.65       466\n",
      "          20       0.64      0.74      0.69      2062\n",
      "          21       0.75      0.51      0.60      1069\n",
      "          22       0.79      0.88      0.83      9646\n",
      "          23       0.84      0.81      0.83      1855\n",
      "          24       0.67      0.63      0.65       622\n",
      "          25       0.72      0.64      0.67       635\n",
      "          26       0.77      0.79      0.78      1474\n",
      "          27       0.84      0.88      0.86      2604\n",
      "          28       0.71      0.59      0.65       676\n",
      "          29       0.65      0.44      0.52       576\n",
      "          30       0.68      0.57      0.62       586\n",
      "          31       0.77      0.85      0.81      2330\n",
      "          32       0.84      0.82      0.83       949\n",
      "          33       0.52      0.51      0.51       822\n",
      "          34       0.67      0.83      0.74      3914\n",
      "          35       0.60      0.46      0.52       919\n",
      "          36       0.72      0.75      0.74      2461\n",
      "\n",
      "    accuracy                           0.74     54681\n",
      "   macro avg       0.70      0.64      0.66     54681\n",
      "weighted avg       0.73      0.74      0.73     54681\n",
      "\n"
     ]
    }
   ],
   "source": [
    "ovr = multiclass.OneVsRestClassifier(svm.LinearSVC())\n",
    "ovr.fit(X_train, y_train)\n",
    "y_predicted_ovr = ovr.predict(X_test)\n",
    "print(metrics.classification_report(y_test, y_predicted_ovr))\n",
    "\n"
   ]
  },
  {
   "cell_type": "code",
   "execution_count": null,
   "metadata": {},
   "outputs": [],
   "source": [
    "ovo = multiclass.OneVsOneClassifier(svm.LinearSVC())\n",
    "ovo.fit(X_train, y_train)\n",
    "y_predicted_ovo = ovo.predict(X_test)\n",
    "print(metrics.classification_report(y_test, y_predicted_ovo))"
   ]
  },
  {
   "cell_type": "code",
   "execution_count": null,
   "metadata": {},
   "outputs": [],
   "source": []
  }
 ],
 "metadata": {
  "kernelspec": {
   "display_name": "Python 3",
   "language": "python",
   "name": "python3"
  },
  "language_info": {
   "codemirror_mode": {
    "name": "ipython",
    "version": 3
   },
   "file_extension": ".py",
   "mimetype": "text/x-python",
   "name": "python",
   "nbconvert_exporter": "python",
   "pygments_lexer": "ipython3",
   "version": "3.7.6"
  }
 },
 "nbformat": 4,
 "nbformat_minor": 4
}
