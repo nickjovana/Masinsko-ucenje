{
 "cells": [
  {
   "cell_type": "code",
   "execution_count": 1,
   "metadata": {},
   "outputs": [],
   "source": [
    "import numpy as np\n",
    "import pandas as pd\n",
    "from sklearn import model_selection\n",
    "from sklearn import metrics\n",
    "from sklearn import preprocessing\n",
    "from sklearn import feature_extraction\n",
    "from sklearn import linear_model\n",
    "from sklearn import multiclass\n",
    "from sklearn import svm\n",
    "from sklearn import neighbors\n",
    "from sklearn import naive_bayes\n",
    "from sklearn.naive_bayes import MultinomialNB\n",
    "from sklearn.metrics import classification_report\n",
    "from sklearn.metrics import accuracy_score ,confusion_matrix\n",
    "import matplotlib.pyplot as plt\n",
    "from sklearn import metrics"
   ]
  },
  {
   "cell_type": "markdown",
   "metadata": {},
   "source": [
    "Učitavanje predprocesiranih podataka, podela na test, trening i validacioni skup i vektorizacija."
   ]
  },
  {
   "cell_type": "code",
   "execution_count": 2,
   "metadata": {},
   "outputs": [],
   "source": [
    "news = pd.read_csv('data/vesti.csv')"
   ]
  },
  {
   "cell_type": "code",
   "execution_count": 3,
   "metadata": {},
   "outputs": [],
   "source": [
    "X = news['text']\n",
    "y = news['category']"
   ]
  },
  {
   "cell_type": "code",
   "execution_count": 4,
   "metadata": {},
   "outputs": [],
   "source": [
    "X_train_and_validation, X_test, y_train_and_validation, y_test = model_selection.\\\n",
    "    train_test_split(X, y, test_size = 0.33, stratify = y, random_state = 4)"
   ]
  },
  {
   "cell_type": "code",
   "execution_count": 5,
   "metadata": {},
   "outputs": [
    {
     "data": {
      "text/plain": [
       "TfidfVectorizer()"
      ]
     },
     "execution_count": 5,
     "metadata": {},
     "output_type": "execute_result"
    }
   ],
   "source": [
    "tfidf_vectorizer = feature_extraction.text.TfidfVectorizer()\n",
    "tfidf_vectorizer.fit(X_train_and_validation.values.astype('U'))"
   ]
  },
  {
   "cell_type": "code",
   "execution_count": 6,
   "metadata": {},
   "outputs": [],
   "source": [
    "X_train_and_validation = tfidf_vectorizer.transform(X_train_and_validation.values.astype('U'))\n",
    "X_test = tfidf_vectorizer.transform(X_test.values.astype('U'))"
   ]
  },
  {
   "cell_type": "code",
   "execution_count": 7,
   "metadata": {},
   "outputs": [],
   "source": [
    "y_train_and_validation = y_train_and_validation.astype('category')\n",
    "y_test = y_test.astype('category')"
   ]
  },
  {
   "cell_type": "code",
   "execution_count": 8,
   "metadata": {},
   "outputs": [],
   "source": [
    "X_train, X_validation, y_train, y_validation = model_selection.train_test_split(X_train_and_validation,\\\n",
    "y_train_and_validation, train_size = 0.8, random_state = 4, stratify = y_train_and_validation )"
   ]
  },
  {
   "cell_type": "code",
   "execution_count": 9,
   "metadata": {},
   "outputs": [],
   "source": [
    "classes = dict(enumerate(y_train.cat.categories))\n",
    "y_validation=y_validation.cat.codes\n",
    "y_train = y_train.cat.codes\n",
    "y_test = y_test.cat.codes"
   ]
  },
  {
   "cell_type": "markdown",
   "metadata": {},
   "source": [
    "Klasifikacija za više klasa pomoću Bayes algoritma. "
   ]
  },
  {
   "cell_type": "code",
   "execution_count": 10,
   "metadata": {},
   "outputs": [
    {
     "name": "stdout",
     "output_type": "stream",
     "text": [
      "Najbolja preciznost na test skupu je:  0.6969867748722572\n",
      "Najbolji alfa parametar modela su:  0.01\n"
     ]
    }
   ],
   "source": [
    "alphas=[0.005,0.006,0.007,0.01,0.02,0.03,0.04,0.05,0.1,0.2,0.3,0.4,0.5,0.6,0.7,0.8,0.9,1]\n",
    "best_acc=0\n",
    "best_alpha=None\n",
    "bayesArray=[]\n",
    "for alpha in alphas:\n",
    "    model = MultinomialNB(alpha=alpha)\n",
    "    model.fit(X_train, y_train)\n",
    "    y_predict = model.predict(X_validation)\n",
    "    accuracy = accuracy_score(y_validation,y_predict)\n",
    "    bayesArray.append(accuracy)\n",
    "    if accuracy> best_acc:\n",
    "        best_acc = accuracy\n",
    "        best_alpha = alpha\n",
    "print('Najbolja preciznost na test skupu je: ', best_acc)\n",
    "print('Najbolji alfa parametar modela su: ', best_alpha)"
   ]
  },
  {
   "cell_type": "code",
   "execution_count": 11,
   "metadata": {},
   "outputs": [
    {
     "data": {
      "image/png": "[encoded data removed]",
      "text/plain": [
       "<Figure size 432x288 with 1 Axes>"
      ]
     },
     "metadata": {
      "needs_background": "light"
     },
     "output_type": "display_data"
    }
   ],
   "source": [
    "plt.plot(alphas,bayesArray)\n",
    "plt.xticks(alphas)\n",
    "plt.show()"
   ]
  },
  {
   "cell_type": "code",
   "execution_count": 12,
   "metadata": {},
   "outputs": [
    {
     "data": {
      "image/png": "[encoded data removed]",
      "text/plain": [
       "<Figure size 432x288 with 1 Axes>"
      ]
     },
     "metadata": {
      "needs_background": "light"
     },
     "output_type": "display_data"
    }
   ],
   "source": [
    "plt.plot(alphas[0:7],bayesArray[0:7])\n",
    "plt.xticks(alphas[0:7])\n",
    "plt.show()"
   ]
  },
  {
   "cell_type": "code",
   "execution_count": 13,
   "metadata": {},
   "outputs": [
    {
     "name": "stdout",
     "output_type": "stream",
     "text": [
      "0.6888797351518757\n",
      "[[ 775   14    6 ...   32    3   10]\n",
      " [  11  668    9 ...   35   10    5]\n",
      " [   1    6  986 ...  181   10   37]\n",
      " ...\n",
      " [   4    2   34 ... 5088    6   21]\n",
      " [   6   19   27 ...  113  344    6]\n",
      " [   6    5   29 ...   30    3 1987]]\n",
      "                  precision    recall  f1-score   support\n",
      "\n",
      "  ARTS & CULTURE       0.78      0.61      0.69      1264\n",
      "    BLACK VOICES       0.69      0.45      0.54      1488\n",
      "        BUSINESS       0.58      0.51      0.54      1950\n",
      "         COLLEGE       0.73      0.26      0.38       377\n",
      "          COMEDY       0.66      0.50      0.57      1683\n",
      "           CRIME       0.60      0.58      0.59      1120\n",
      "         DIVORCE       0.84      0.68      0.75      1126\n",
      "       EDUCATION       0.73      0.33      0.45       331\n",
      "   ENTERTAINMENT       0.65      0.83      0.73      5287\n",
      "     ENVIRONMENT       0.66      0.19      0.29       411\n",
      "           FIFTY       0.85      0.37      0.51       462\n",
      "    FOOD & DRINK       0.74      0.83      0.78      2050\n",
      "       GOOD NEWS       0.73      0.36      0.48       461\n",
      "           GREEN       0.54      0.39      0.45       862\n",
      "  HEALTHY LIVING       0.63      0.39      0.48      2199\n",
      "   HOME & LIVING       0.89      0.77      0.83      1342\n",
      "          IMPACT       0.59      0.39      0.47      1135\n",
      "   LATINO VOICES       0.93      0.33      0.49       372\n",
      "           MEDIA       0.80      0.34      0.48       927\n",
      "           MONEY       0.73      0.47      0.57       561\n",
      "          PARENT       0.56      0.67      0.61      2834\n",
      "         PARENTS       0.70      0.47      0.56      1281\n",
      "        POLITICS       0.67      0.90      0.77     10748\n",
      "    QUEER VOICES       0.81      0.67      0.73      2077\n",
      "        RELIGION       0.78      0.51      0.62       839\n",
      "         SCIENCE       0.78      0.53      0.63       717\n",
      "          SPORTS       0.82      0.73      0.77      1610\n",
      "STYLE AND BEAUTY       0.82      0.87      0.84      3641\n",
      "           TASTE       0.67      0.29      0.40       689\n",
      "            TECH       0.80      0.44      0.57       666\n",
      "          TRAVEL       0.74      0.85      0.79      3245\n",
      "        WEDDINGS       0.86      0.60      0.71      1183\n",
      "      WEIRD NEWS       0.59      0.36      0.45       881\n",
      "        WELLNESS       0.62      0.87      0.72      5845\n",
      "           WOMEN       0.61      0.31      0.41      1109\n",
      "      WORLD NEWS       0.72      0.72      0.72      2774\n",
      "\n",
      "        accuracy                           0.69     65547\n",
      "       macro avg       0.72      0.54      0.59     65547\n",
      "    weighted avg       0.70      0.69      0.67     65547\n",
      "\n"
     ]
    }
   ],
   "source": [
    "model = MultinomialNB(alpha=best_alpha)\n",
    "model.fit(X_train, y_train)\n",
    "y_predict = model.predict(X_test)\n",
    "matrix=metrics.confusion_matrix(y_test, y_predict)\n",
    "print(accuracy_score(y_test, y_predict))\n",
    "print(matrix)\n",
    "print(metrics.classification_report(y_test, y_predict, target_names=classes.values()))"
   ]
  },
  {
   "cell_type": "markdown",
   "metadata": {},
   "source": [
    "Usled velikog broja klasa, model ne pronalazi najbolje rešenje, a konkretne ocene mogu se videti u izveštaju iznad."
   ]
  },
  {
   "cell_type": "markdown",
   "metadata": {},
   "source": [
    "Sledi klasifikacija pomoću knn modela. Takođe je isprobano više parametara i kao najbolji se pokazao 17 kao broj suseda."
   ]
  },
  {
   "cell_type": "code",
   "execution_count": 14,
   "metadata": {},
   "outputs": [
    {
     "name": "stdout",
     "output_type": "stream",
     "text": [
      "Najbolji rezultat na test skupu je:  0.6717388037270815\n",
      "Najbolji parametri modela su:  19\n"
     ]
    }
   ],
   "source": [
    "n_neighbors_list=list(range(1, 21))\n",
    "best_acc_test=0\n",
    "best_acc_train=0\n",
    "best_n=None\n",
    "knnArray=[]\n",
    "for n_neighbors in n_neighbors_list:\n",
    "    knn_model = neighbors.KNeighborsClassifier(n_neighbors=n_neighbors)\n",
    "    knn_model.fit(X_train, y_train)\n",
    "    y_predict = knn_model.predict(X_validation)\n",
    "    accuracy_test = accuracy_score(y_validation,y_predict)\n",
    "    knnArray.append(accuracy_test)\n",
    "    if accuracy_test> best_acc_test:\n",
    "        best_acc_test = accuracy_test\n",
    "        best_n = n_neighbors\n",
    "print('Najbolji rezultat na test skupu je: ',best_acc_test)\n",
    "print('Najbolji parametri modela su: ', best_n)"
   ]
  },
  {
   "cell_type": "code",
   "execution_count": 15,
   "metadata": {},
   "outputs": [
    {
     "data": {
      "image/png": "[encoded data removed]",
      "text/plain": [
       "<Figure size 432x288 with 1 Axes>"
      ]
     },
     "metadata": {
      "needs_background": "light"
     },
     "output_type": "display_data"
    }
   ],
   "source": [
    "plt.plot(n_neighbors_list,knnArray)\n",
    "plt.xticks(n_neighbors_list)\n",
    "plt.show()"
   ]
  },
  {
   "cell_type": "code",
   "execution_count": 16,
   "metadata": {},
   "outputs": [
    {
     "name": "stdout",
     "output_type": "stream",
     "text": [
      "0.6888797351518757\n",
      "[[ 775   14    6 ...   32    3   10]\n",
      " [  11  668    9 ...   35   10    5]\n",
      " [   1    6  986 ...  181   10   37]\n",
      " ...\n",
      " [   4    2   34 ... 5088    6   21]\n",
      " [   6   19   27 ...  113  344    6]\n",
      " [   6    5   29 ...   30    3 1987]]\n",
      "                  precision    recall  f1-score   support\n",
      "\n",
      "  ARTS & CULTURE       0.78      0.61      0.69      1264\n",
      "    BLACK VOICES       0.69      0.45      0.54      1488\n",
      "        BUSINESS       0.58      0.51      0.54      1950\n",
      "         COLLEGE       0.73      0.26      0.38       377\n",
      "          COMEDY       0.66      0.50      0.57      1683\n",
      "           CRIME       0.60      0.58      0.59      1120\n",
      "         DIVORCE       0.84      0.68      0.75      1126\n",
      "       EDUCATION       0.73      0.33      0.45       331\n",
      "   ENTERTAINMENT       0.65      0.83      0.73      5287\n",
      "     ENVIRONMENT       0.66      0.19      0.29       411\n",
      "           FIFTY       0.85      0.37      0.51       462\n",
      "    FOOD & DRINK       0.74      0.83      0.78      2050\n",
      "       GOOD NEWS       0.73      0.36      0.48       461\n",
      "           GREEN       0.54      0.39      0.45       862\n",
      "  HEALTHY LIVING       0.63      0.39      0.48      2199\n",
      "   HOME & LIVING       0.89      0.77      0.83      1342\n",
      "          IMPACT       0.59      0.39      0.47      1135\n",
      "   LATINO VOICES       0.93      0.33      0.49       372\n",
      "           MEDIA       0.80      0.34      0.48       927\n",
      "           MONEY       0.73      0.47      0.57       561\n",
      "          PARENT       0.56      0.67      0.61      2834\n",
      "         PARENTS       0.70      0.47      0.56      1281\n",
      "        POLITICS       0.67      0.90      0.77     10748\n",
      "    QUEER VOICES       0.81      0.67      0.73      2077\n",
      "        RELIGION       0.78      0.51      0.62       839\n",
      "         SCIENCE       0.78      0.53      0.63       717\n",
      "          SPORTS       0.82      0.73      0.77      1610\n",
      "STYLE AND BEAUTY       0.82      0.87      0.84      3641\n",
      "           TASTE       0.67      0.29      0.40       689\n",
      "            TECH       0.80      0.44      0.57       666\n",
      "          TRAVEL       0.74      0.85      0.79      3245\n",
      "        WEDDINGS       0.86      0.60      0.71      1183\n",
      "      WEIRD NEWS       0.59      0.36      0.45       881\n",
      "        WELLNESS       0.62      0.87      0.72      5845\n",
      "           WOMEN       0.61      0.31      0.41      1109\n",
      "      WORLD NEWS       0.72      0.72      0.72      2774\n",
      "\n",
      "        accuracy                           0.69     65547\n",
      "       macro avg       0.72      0.54      0.59     65547\n",
      "    weighted avg       0.70      0.69      0.67     65547\n",
      "\n"
     ]
    }
   ],
   "source": [
    "knn_model = neighbors.KNeighborsClassifier(n_neighbors=17)\n",
    "knn_model.fit(X_train, y_train)\n",
    "y_predict = model.predict(X_test)\n",
    "matrix=metrics.confusion_matrix(y_test, y_predict)\n",
    "print(accuracy_score(y_test, y_predict))\n",
    "print(matrix)\n",
    "print(metrics.classification_report(y_test, y_predict, target_names=classes.values()))"
   ]
  },
  {
   "cell_type": "markdown",
   "metadata": {},
   "source": [
    "Prema ocenama ova klasifikicija se pokazala nešto lošija nego Bajes klasifikacija. "
   ]
  },
  {
   "cell_type": "markdown",
   "metadata": {},
   "source": [
    "Naredna dva modela su se pokazala kao najbolja. Ocene za njih i raspodelu po klasama možemo videti u nastavku."
   ]
  },
  {
   "cell_type": "code",
   "execution_count": 20,
   "metadata": {},
   "outputs": [
    {
     "name": "stdout",
     "output_type": "stream",
     "text": [
      "[[ 891   16    3 ...   22    4   15]\n",
      " [  18  794    8 ...   19   13   12]\n",
      " [   3    7 1117 ...  118    7   54]\n",
      " ...\n",
      " [  11    1   49 ... 4988   17   22]\n",
      " [   7   23   24 ...   84  448   17]\n",
      " [  11    4   28 ...   22    6 2094]]\n",
      "                  precision    recall  f1-score   support\n",
      "\n",
      "  ARTS & CULTURE       0.76      0.70      0.73      1264\n",
      "    BLACK VOICES       0.69      0.53      0.60      1488\n",
      "        BUSINESS       0.64      0.57      0.60      1950\n",
      "         COLLEGE       0.59      0.53      0.56       377\n",
      "          COMEDY       0.69      0.64      0.66      1683\n",
      "           CRIME       0.60      0.62      0.61      1120\n",
      "         DIVORCE       0.82      0.80      0.81      1126\n",
      "       EDUCATION       0.56      0.52      0.54       331\n",
      "   ENTERTAINMENT       0.77      0.81      0.79      5287\n",
      "     ENVIRONMENT       0.54      0.30      0.39       411\n",
      "           FIFTY       0.66      0.50      0.57       462\n",
      "    FOOD & DRINK       0.76      0.84      0.80      2050\n",
      "       GOOD NEWS       0.67      0.49      0.57       461\n",
      "           GREEN       0.53      0.42      0.47       862\n",
      "  HEALTHY LIVING       0.66      0.38      0.48      2199\n",
      "   HOME & LIVING       0.85      0.86      0.86      1342\n",
      "          IMPACT       0.60      0.44      0.51      1135\n",
      "   LATINO VOICES       0.74      0.60      0.66       372\n",
      "           MEDIA       0.70      0.51      0.59       927\n",
      "           MONEY       0.65      0.58      0.62       561\n",
      "          PARENT       0.62      0.76      0.68      2834\n",
      "         PARENTS       0.71      0.45      0.55      1281\n",
      "        POLITICS       0.80      0.87      0.84     10748\n",
      "    QUEER VOICES       0.82      0.81      0.81      2077\n",
      "        RELIGION       0.68      0.66      0.67       839\n",
      "         SCIENCE       0.69      0.65      0.67       717\n",
      "          SPORTS       0.75      0.79      0.77      1610\n",
      "STYLE AND BEAUTY       0.84      0.90      0.87      3641\n",
      "           TASTE       0.65      0.44      0.52       689\n",
      "            TECH       0.67      0.58      0.62       666\n",
      "          TRAVEL       0.79      0.88      0.84      3245\n",
      "        WEDDINGS       0.81      0.83      0.82      1183\n",
      "      WEIRD NEWS       0.51      0.49      0.50       881\n",
      "        WELLNESS       0.70      0.85      0.77      5845\n",
      "           WOMEN       0.63      0.40      0.49      1109\n",
      "      WORLD NEWS       0.71      0.75      0.73      2774\n",
      "\n",
      "        accuracy                           0.73     65547\n",
      "       macro avg       0.69      0.63      0.65     65547\n",
      "    weighted avg       0.73      0.73      0.73     65547\n",
      "\n"
     ]
    }
   ],
   "source": [
    "ovr = multiclass.OneVsRestClassifier(svm.LinearSVC(loss = 'hinge'))\n",
    "ovr.fit(X_train, y_train)\n",
    "y_predicted_ovr = ovr.predict(X_test)\n",
    "matrix=metrics.confusion_matrix(y_test, y_predicted_ovr)\n",
    "print(matrix)\n",
    "print(metrics.classification_report(y_test, y_predicted_ovr, target_names=classes.values()))"
   ]
  },
  {
   "cell_type": "markdown",
   "metadata": {},
   "source": [
    "Za najbolji model izdvojili uvideli smo da najlošiju vrednost f1 mere imaju kategorije Enviroment i Green, i zbog toga izdvajamo par vesti iz tih kategorija."
   ]
  },
  {
   "cell_type": "code",
   "execution_count": 18,
   "metadata": {},
   "outputs": [
    {
     "name": "stdout",
     "output_type": "stream",
     "text": [
      "7407    McDonald's Says Its Packaging Will Be 100 Perc...\n",
      "7712    Fourth San Francisco Swimmer In A Month Attack...\n",
      "7766    Your Questions About The California Mudslides,...\n",
      "7855     Why The California Mudslides Have Been So Deadly\n",
      "7877    The Agency That Approves Pipelines Is About To...\n",
      "Name: headline, dtype: object\n",
      "125421    Sky Vets Perform Incredible Rescue To Save Wil...\n",
      "125422    Animal Photos Of The Week: Baby Panda Goes For...\n",
      "125423    Washington Mudslide Menacing Fabled Pacific No...\n",
      "125424    America's Exotic Pet Obsession Is Out Of Contr...\n",
      "125494               Time to Leave Our Bad Carbon Boyfriend\n",
      "Name: headline, dtype: object\n"
     ]
    }
   ],
   "source": [
    "news = pd.read_json(\"data/News_Category_Dataset_v2.json\", lines = True)\n",
    "news1 = news[news.category.isin(['GREEN'])].headline\n",
    "news2 = news[news.category.isin(['ENVIRONMENT'])].headline\n",
    "pd.set_option('display.max_rows', None)\n",
    "pd.set_option('display.max_columns', None)\n",
    "pd.set_option('display.width', None)\n",
    "print(news1.head())\n",
    "print(news2.head())"
   ]
  },
  {
   "cell_type": "code",
   "execution_count": 25,
   "metadata": {},
   "outputs": [
    {
     "name": "stdout",
     "output_type": "stream",
     "text": [
      "[[ 714   11    1 ...   61   12   13]\n",
      " [  10  582    5 ...   52   16    7]\n",
      " [   4    6  959 ...  247   19   44]\n",
      " ...\n",
      " [   4    3   36 ... 5231   16   16]\n",
      " [   1   10   18 ...  191  406    9]\n",
      " [   4    7   22 ...   51   29 1853]]\n",
      "                  precision    recall  f1-score   support\n",
      "\n",
      "  ARTS & CULTURE       0.83      0.56      0.67      1264\n",
      "    BLACK VOICES       0.74      0.39      0.51      1488\n",
      "        BUSINESS       0.63      0.49      0.55      1950\n",
      "         COLLEGE       0.57      0.32      0.41       377\n",
      "          COMEDY       0.70      0.56      0.62      1683\n",
      "           CRIME       0.65      0.52      0.58      1120\n",
      "         DIVORCE       0.89      0.66      0.76      1126\n",
      "       EDUCATION       0.67      0.32      0.43       331\n",
      "   ENTERTAINMENT       0.65      0.83      0.73      5287\n",
      "     ENVIRONMENT       0.77      0.08      0.15       411\n",
      "           FIFTY       0.83      0.14      0.24       462\n",
      "    FOOD & DRINK       0.74      0.78      0.76      2050\n",
      "       GOOD NEWS       0.86      0.36      0.51       461\n",
      "           GREEN       0.55      0.30      0.39       862\n",
      "  HEALTHY LIVING       0.75      0.28      0.41      2199\n",
      "   HOME & LIVING       0.93      0.72      0.81      1342\n",
      "          IMPACT       0.68      0.28      0.40      1135\n",
      "   LATINO VOICES       0.92      0.41      0.57       372\n",
      "           MEDIA       0.83      0.36      0.50       927\n",
      "           MONEY       0.70      0.31      0.43       561\n",
      "          PARENT       0.54      0.74      0.63      2834\n",
      "         PARENTS       0.91      0.37      0.53      1281\n",
      "        POLITICS       0.63      0.91      0.75     10748\n",
      "    QUEER VOICES       0.89      0.67      0.76      2077\n",
      "        RELIGION       0.78      0.44      0.57       839\n",
      "         SCIENCE       0.85      0.41      0.56       717\n",
      "          SPORTS       0.80      0.65      0.72      1610\n",
      "STYLE AND BEAUTY       0.83      0.85      0.84      3641\n",
      "           TASTE       0.75      0.29      0.42       689\n",
      "            TECH       0.81      0.37      0.51       666\n",
      "          TRAVEL       0.80      0.83      0.81      3245\n",
      "        WEDDINGS       0.85      0.71      0.77      1183\n",
      "      WEIRD NEWS       0.59      0.43      0.50       881\n",
      "        WELLNESS       0.53      0.89      0.67      5845\n",
      "           WOMEN       0.52      0.37      0.43      1109\n",
      "      WORLD NEWS       0.74      0.67      0.70      2774\n",
      "\n",
      "        accuracy                           0.67     65547\n",
      "       macro avg       0.74      0.51      0.57     65547\n",
      "    weighted avg       0.70      0.67      0.66     65547\n",
      "\n"
     ]
    }
   ],
   "source": [
    "ovo = multiclass.OneVsOneClassifier(linear_model.LogisticRegression(max_iter = 1000))\n",
    "ovo.fit(X_train, y_train)\n",
    "y_predicted_ovo = ovo.predict(X_test)\n",
    "matrix=metrics.confusion_matrix(y_test, y_predicted_ovo)\n",
    "print(matrix)\n",
    "print(metrics.classification_report(y_test, y_predicted_ovo, target_names=classes.values()))"
   ]
  },
  {
   "cell_type": "code",
   "execution_count": 27,
   "metadata": {},
   "outputs": [
    {
     "name": "stdout",
     "output_type": "stream",
     "text": [
      "124989                  Why Overeating Doesn't Make You Fat\n",
      "124990    14 Habits Of People With A Healthy Relationshi...\n",
      "124993             5 Things That Could Be Stealing Your Joy\n",
      "124994                                  Moments Make a Life\n",
      "124996                                            Fat Facts\n",
      "Name: headline, dtype: object\n",
      "35     Morgan Freeman Dropped From Marketing Campaign...\n",
      "67      The Joy Of Watching Harvey Weinstein’s Perp Walk\n",
      "68           The 20 Funniest Tweets From Women This Week\n",
      "79     Morgan Freeman Accused Of Inappropriate Behavi...\n",
      "274    What Do You Say To Sexist Passengers? This Fem...\n",
      "Name: headline, dtype: object\n"
     ]
    }
   ],
   "source": [
    "news3 = news[news.category.isin(['WELLNESS'])].headline\n",
    "news4 = news[news.category.isin(['WOMEN'])].headline\n",
    "pd.set_option('display.max_rows', None)\n",
    "pd.set_option('display.max_columns', None)\n",
    "pd.set_option('display.width', None)\n",
    "print(news3.head())\n",
    "print(news4.head())"
   ]
  }
 ],
 "metadata": {
  "kernelspec": {
   "display_name": "Python 3",
   "language": "python",
   "name": "python3"
  },
  "language_info": {
   "codemirror_mode": {
    "name": "ipython",
    "version": 3
   },
   "file_extension": ".py",
   "mimetype": "text/x-python",
   "name": "python",
   "nbconvert_exporter": "python",
   "pygments_lexer": "ipython3",
   "version": "3.8.5"
  }
 },
 "nbformat": 4,
 "nbformat_minor": 4
}
