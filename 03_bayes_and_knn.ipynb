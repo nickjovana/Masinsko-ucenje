{
 "cells": [
  {
   "cell_type": "code",
   "execution_count": 13,
   "metadata": {},
   "outputs": [],
   "source": [
    "import numpy as np\n",
    "import pandas as pd\n",
    "from sklearn import model_selection\n",
    "from sklearn import metrics\n",
    "from sklearn import preprocessing\n",
    "from sklearn import feature_extraction\n",
    "from sklearn import linear_model\n",
    "from sklearn import multiclass\n",
    "from sklearn import svm\n",
    "from sklearn import neighbors\n",
    "from sklearn import naive_bayes\n",
    "from sklearn.naive_bayes import MultinomialNB\n",
    "from sklearn.metrics import classification_report\n",
    "from sklearn.metrics import accuracy_score ,confusion_matrix\n",
    "import matplotlib.pyplot as plt\n",
    "from sklearn import metrics"
   ]
  },
  {
   "cell_type": "markdown",
   "metadata": {},
   "source": [
    "Učitavanje predprocesiranih podataka, podela na test, trening i validacioni skup i vektorizacija."
   ]
  },
  {
   "cell_type": "code",
   "execution_count": 2,
   "metadata": {},
   "outputs": [],
   "source": [
    "news = pd.read_csv('data/vesti.csv')"
   ]
  },
  {
   "cell_type": "code",
   "execution_count": 3,
   "metadata": {},
   "outputs": [],
   "source": [
    "X = news['text']\n",
    "y = news['category']"
   ]
  },
  {
   "cell_type": "code",
   "execution_count": 4,
   "metadata": {},
   "outputs": [],
   "source": [
    "X_train_and_validation, X_test, y_train_and_validation, y_test = model_selection.\\\n",
    "    train_test_split(X, y, test_size = 0.33, stratify = y, random_state = 4)"
   ]
  },
  {
   "cell_type": "code",
   "execution_count": 5,
   "metadata": {},
   "outputs": [
    {
     "data": {
      "text/plain": [
       "TfidfVectorizer(analyzer='word', binary=False, decode_error='strict',\n",
       "                dtype=<class 'numpy.float64'>, encoding='utf-8',\n",
       "                input='content', lowercase=True, max_df=1.0, max_features=None,\n",
       "                min_df=1, ngram_range=(1, 1), norm='l2', preprocessor=None,\n",
       "                smooth_idf=True, stop_words=None, strip_accents=None,\n",
       "                sublinear_tf=False, token_pattern='(?u)\\\\b\\\\w\\\\w+\\\\b',\n",
       "                tokenizer=None, use_idf=True, vocabulary=None)"
      ]
     },
     "execution_count": 5,
     "metadata": {},
     "output_type": "execute_result"
    }
   ],
   "source": [
    "tfidf_vectorizer = feature_extraction.text.TfidfVectorizer()\n",
    "tfidf_vectorizer.fit(X_train_and_validation.values.astype('U'))"
   ]
  },
  {
   "cell_type": "code",
   "execution_count": 6,
   "metadata": {},
   "outputs": [],
   "source": [
    "X_train_and_validation = tfidf_vectorizer.transform(X_train_and_validation.values.astype('U'))\n",
    "X_test = tfidf_vectorizer.transform(X_test.values.astype('U'))"
   ]
  },
  {
   "cell_type": "code",
   "execution_count": 7,
   "metadata": {},
   "outputs": [],
   "source": [
    "y_train_and_validation = y_train_and_validation.astype('category')\n",
    "y_test = y_test.astype('category')"
   ]
  },
  {
   "cell_type": "code",
   "execution_count": 8,
   "metadata": {},
   "outputs": [],
   "source": [
    "X_train, X_validation, y_train, y_validation = model_selection.train_test_split(X_train_and_validation,\\\n",
    "y_train_and_validation, train_size = 0.8, random_state = 4, stratify = y_train_and_validation )"
   ]
  },
  {
   "cell_type": "code",
   "execution_count": 9,
   "metadata": {},
   "outputs": [],
   "source": [
    "classes = dict(enumerate(y_train.cat.categories))\n",
    "y_validation=y_validation.cat.codes\n",
    "y_train = y_train.cat.codes\n",
    "y_test = y_test.cat.codes"
   ]
  },
  {
   "cell_type": "markdown",
   "metadata": {},
   "source": [
    "Klasifikacija za više klasa pomoću Bayes algoritma. "
   ]
  },
  {
   "cell_type": "code",
   "execution_count": 11,
   "metadata": {},
   "outputs": [
    {
     "name": "stdout",
     "output_type": "stream",
     "text": [
      "Najbolja preciznost na test skupu je:  0.6969867748722572\n",
      "Najbolji alfa parametar modela su:  0.01\n"
     ]
    }
   ],
   "source": [
    "alphas=[0.005,0.006,0.007,0.01,0.02,0.03,0.04,0.05,0.1,0.2,0.3,0.4,0.5,0.6,0.7,0.8,0.9,1]\n",
    "best_acc=0\n",
    "best_alpha=None\n",
    "bayesArray=[]\n",
    "for alpha in alphas:\n",
    "    model = MultinomialNB(alpha=alpha)\n",
    "    model.fit(X_train, y_train)\n",
    "    y_predict = model.predict(X_validation)\n",
    "    accuracy = accuracy_score(y_validation,y_predict)\n",
    "    bayesArray.append(accuracy)\n",
    "    if accuracy> best_acc:\n",
    "        best_acc = accuracy\n",
    "        best_alpha = alpha\n",
    "print('Najbolja preciznost na test skupu je: ', best_acc)\n",
    "print('Najbolji alfa parametar modela su: ', best_alpha)"
   ]
  },
  {
   "cell_type": "code",
   "execution_count": 12,
   "metadata": {},
   "outputs": [
    {
     "data": {
      "image/png": "[encoded data removed]",
      "text/plain": [
       "<Figure size 432x288 with 1 Axes>"
      ]
     },
     "metadata": {
      "needs_background": "light"
     },
     "output_type": "display_data"
    }
   ],
   "source": [
    "plt.plot(alphas,bayesArray)\n",
    "plt.xticks(alphas)\n",
    "plt.show()"
   ]
  },
  {
   "cell_type": "code",
   "execution_count": 13,
   "metadata": {},
   "outputs": [
    {
     "data": {
      "image/png": "[encoded data removed]",
      "text/plain": [
       "<Figure size 432x288 with 1 Axes>"
      ]
     },
     "metadata": {
      "needs_background": "light"
     },
     "output_type": "display_data"
    }
   ],
   "source": [
    "plt.plot(alphas[0:7],bayesArray[0:7])\n",
    "plt.xticks(alphas[0:7])\n",
    "plt.show()"
   ]
  },
  {
   "cell_type": "code",
   "execution_count": 15,
   "metadata": {},
   "outputs": [
    {
     "name": "stdout",
     "output_type": "stream",
     "text": [
      "0.6888797351518757\n",
      "[[ 775   14    6 ...   32    3   10]\n",
      " [  11  668    9 ...   35   10    5]\n",
      " [   1    6  986 ...  181   10   37]\n",
      " ...\n",
      " [   4    2   34 ... 5088    6   21]\n",
      " [   6   19   27 ...  113  344    6]\n",
      " [   6    5   29 ...   30    3 1987]]\n",
      "                  precision    recall  f1-score   support\n",
      "\n",
      "  ARTS & CULTURE       0.78      0.61      0.69      1264\n",
      "    BLACK VOICES       0.69      0.45      0.54      1488\n",
      "        BUSINESS       0.58      0.51      0.54      1950\n",
      "         COLLEGE       0.73      0.26      0.38       377\n",
      "          COMEDY       0.66      0.50      0.57      1683\n",
      "           CRIME       0.60      0.58      0.59      1120\n",
      "         DIVORCE       0.84      0.68      0.75      1126\n",
      "       EDUCATION       0.73      0.33      0.45       331\n",
      "   ENTERTAINMENT       0.65      0.83      0.73      5287\n",
      "     ENVIRONMENT       0.66      0.19      0.29       411\n",
      "           FIFTY       0.85      0.37      0.51       462\n",
      "    FOOD & DRINK       0.74      0.83      0.78      2050\n",
      "       GOOD NEWS       0.73      0.36      0.48       461\n",
      "           GREEN       0.54      0.39      0.45       862\n",
      "  HEALTHY LIVING       0.63      0.39      0.48      2199\n",
      "   HOME & LIVING       0.89      0.77      0.83      1342\n",
      "          IMPACT       0.59      0.39      0.47      1135\n",
      "   LATINO VOICES       0.93      0.33      0.49       372\n",
      "           MEDIA       0.80      0.34      0.48       927\n",
      "           MONEY       0.73      0.47      0.57       561\n",
      "          PARENT       0.56      0.67      0.61      2834\n",
      "         PARENTS       0.70      0.47      0.56      1281\n",
      "        POLITICS       0.67      0.90      0.77     10748\n",
      "    QUEER VOICES       0.81      0.67      0.73      2077\n",
      "        RELIGION       0.78      0.51      0.62       839\n",
      "         SCIENCE       0.78      0.53      0.63       717\n",
      "          SPORTS       0.82      0.73      0.77      1610\n",
      "STYLE AND BEAUTY       0.82      0.87      0.84      3641\n",
      "           TASTE       0.67      0.29      0.40       689\n",
      "            TECH       0.80      0.44      0.57       666\n",
      "          TRAVEL       0.74      0.85      0.79      3245\n",
      "        WEDDINGS       0.86      0.60      0.71      1183\n",
      "      WEIRD NEWS       0.59      0.36      0.45       881\n",
      "        WELLNESS       0.62      0.87      0.72      5845\n",
      "           WOMEN       0.61      0.31      0.41      1109\n",
      "      WORLD NEWS       0.72      0.72      0.72      2774\n",
      "\n",
      "        accuracy                           0.69     65547\n",
      "       macro avg       0.72      0.54      0.59     65547\n",
      "    weighted avg       0.70      0.69      0.67     65547\n",
      "\n"
     ]
    }
   ],
   "source": [
    "model = MultinomialNB(alpha=best_alpha)\n",
    "model.fit(X_train, y_train)\n",
    "y_predict = model.predict(X_test)\n",
    "matrix=metrics.confusion_matrix(y_test, y_predict)\n",
    "print(accuracy_score(y_test, y_predict))\n",
    "print(matrix)\n",
    "print(metrics.classification_report(y_test, y_predict, target_names=classes.values()))"
   ]
  },
  {
   "cell_type": "markdown",
   "metadata": {},
   "source": [
    "Usled velikog broja klasa, model ne pronalazi najbolje rešenje, a konkretne ocene mogu se videti u izveštaju iznad."
   ]
  },
  {
   "cell_type": "markdown",
   "metadata": {},
   "source": [
    "Sledi klasifikacija pomoću knn modela. Takođe je isprobano više parametara i kao najbolji se pokazao 17 kao broj suseda."
   ]
  },
  {
   "cell_type": "code",
   "execution_count": null,
   "metadata": {},
   "outputs": [],
   "source": [
    "n_neighbors_list=list(range(1, 21))\n",
    "best_acc_test=0\n",
    "best_acc_train=0\n",
    "best_n=None\n",
    "knnArray=[]\n",
    "for n_neighbors in n_neighbors_list:\n",
    "    knn_model = neighbors.KNeighborsClassifier(n_neighbors=n_neighbors)\n",
    "    knn_model.fit(X_train, y_train)\n",
    "    y_predict = knn_model.predict(X_validation)\n",
    "    accuracy_test = accuracy_score(y_validation,y_predict)\n",
    "    knnArray.append(accuracy_test)\n",
    "    if accuracy_test> best_acc_test:\n",
    "        best_acc_test = accuracy_test\n",
    "        best_n = n_neighbors\n",
    "print('Najbolji rezultat na test skupu je: ',best_acc_test)\n",
    "print('Najbolji parametri modela su: ', best_n)"
   ]
  },
  {
   "cell_type": "code",
   "execution_count": 14,
   "metadata": {},
   "outputs": [
    {
     "data": {
      "image/png": "[encoded data removed]",
      "text/plain": [
       "<Figure size 432x288 with 1 Axes>"
      ]
     },
     "metadata": {
      "needs_background": "light"
     },
     "output_type": "display_data"
    }
   ],
   "source": [
    "plt.plot(n_neighbors_list,knnArray)\n",
    "plt.xticks(n_neighbors_list)\n",
    "plt.show()"
   ]
  },
  {
   "cell_type": "code",
   "execution_count": 20,
   "metadata": {},
   "outputs": [
    {
     "name": "stdout",
     "output_type": "stream",
     "text": [
      "[[ 782   15   10 ...   35    4   14]\n",
      " [  12  734   10 ...   27   10    6]\n",
      " [   5   10 1044 ...  105    9   32]\n",
      " ...\n",
      " [  10   10   60 ... 4465   21   11]\n",
      " [   5   15   28 ...   87  349    6]\n",
      " [   7   12   33 ...   33   12 1863]]\n",
      "                  precision    recall  f1-score   support\n",
      "\n",
      "  ARTS & CULTURE       0.78      0.62      0.69      1264\n",
      "    BLACK VOICES       0.64      0.49      0.56      1488\n",
      "        BUSINESS       0.58      0.54      0.56      1950\n",
      "         COLLEGE       0.55      0.42      0.48       377\n",
      "          COMEDY       0.60      0.59      0.59      1683\n",
      "           CRIME       0.53      0.53      0.53      1120\n",
      "         DIVORCE       0.69      0.76      0.73      1126\n",
      "       EDUCATION       0.58      0.43      0.49       331\n",
      "   ENTERTAINMENT       0.65      0.79      0.72      5287\n",
      "     ENVIRONMENT       0.43      0.25      0.31       411\n",
      "           FIFTY       0.66      0.47      0.55       462\n",
      "    FOOD & DRINK       0.60      0.86      0.71      2050\n",
      "       GOOD NEWS       0.61      0.41      0.49       461\n",
      "           GREEN       0.43      0.42      0.43       862\n",
      "  HEALTHY LIVING       0.49      0.38      0.43      2199\n",
      "   HOME & LIVING       0.79      0.76      0.77      1342\n",
      "          IMPACT       0.62      0.32      0.42      1135\n",
      "   LATINO VOICES       0.76      0.49      0.60       372\n",
      "           MEDIA       0.72      0.44      0.55       927\n",
      "           MONEY       0.55      0.51      0.52       561\n",
      "          PARENT       0.60      0.60      0.60      2834\n",
      "         PARENTS       0.68      0.41      0.51      1281\n",
      "        POLITICS       0.70      0.87      0.77     10748\n",
      "    QUEER VOICES       0.82      0.65      0.72      2077\n",
      "        RELIGION       0.66      0.56      0.61       839\n",
      "         SCIENCE       0.72      0.56      0.63       717\n",
      "          SPORTS       0.74      0.71      0.72      1610\n",
      "STYLE AND BEAUTY       0.79      0.81      0.80      3641\n",
      "           TASTE       0.65      0.32      0.43       689\n",
      "            TECH       0.72      0.48      0.57       666\n",
      "          TRAVEL       0.75      0.78      0.77      3245\n",
      "        WEDDINGS       0.78      0.69      0.73      1183\n",
      "      WEIRD NEWS       0.49      0.36      0.41       881\n",
      "        WELLNESS       0.66      0.76      0.71      5845\n",
      "           WOMEN       0.59      0.31      0.41      1109\n",
      "      WORLD NEWS       0.71      0.67      0.69      2774\n",
      "\n",
      "        accuracy                           0.67     65547\n",
      "       macro avg       0.65      0.56      0.59     65547\n",
      "    weighted avg       0.67      0.67      0.66     65547\n",
      "\n"
     ]
    }
   ],
   "source": [
    "knn_model = neighbors.KNeighborsClassifier(n_neighbors=17)\n",
    "knn_model.fit(X_train, y_train)\n",
    "y_predict = model.predict(X_test)\n",
    "matrix=metrics.confusion_matrix(y_test, y_predict)\n",
    "print(accuracy_score(y_test, y_predict))\n",
    "print(matrix)\n",
    "print(metrics.classification_report(y_test, y_predict, target_names=classes.values()))"
   ]
  },
  {
   "cell_type": "markdown",
   "metadata": {},
   "source": [
    "Prema ocenama ova klasifikicija se pokazala nešto lošija nego Bajes klasifikacija. "
   ]
  },
  {
   "cell_type": "markdown",
   "metadata": {},
   "source": [
    "Naredna dva modela su se pokazala kao najbolja. Ocene za njih i raspodelu po klasama možemo videti u nastavku."
   ]
  },
  {
   "cell_type": "code",
   "execution_count": 16,
   "metadata": {},
   "outputs": [
    {
     "name": "stdout",
     "output_type": "stream",
     "text": [
      "                  precision    recall  f1-score   support\n",
      "\n",
      "  ARTS & CULTURE       0.77      0.71      0.74      1264\n",
      "    BLACK VOICES       0.71      0.55      0.62      1488\n",
      "        BUSINESS       0.64      0.58      0.61      1950\n",
      "         COLLEGE       0.62      0.56      0.59       377\n",
      "          COMEDY       0.69      0.65      0.67      1683\n",
      "           CRIME       0.61      0.64      0.62      1120\n",
      "         DIVORCE       0.82      0.81      0.81      1126\n",
      "       EDUCATION       0.56      0.53      0.54       331\n",
      "   ENTERTAINMENT       0.77      0.81      0.79      5287\n",
      "     ENVIRONMENT       0.56      0.32      0.40       411\n",
      "           FIFTY       0.65      0.52      0.58       462\n",
      "    FOOD & DRINK       0.77      0.85      0.81      2050\n",
      "       GOOD NEWS       0.68      0.51      0.58       461\n",
      "           GREEN       0.53      0.42      0.47       862\n",
      "  HEALTHY LIVING       0.66      0.39      0.49      2199\n",
      "   HOME & LIVING       0.86      0.87      0.87      1342\n",
      "          IMPACT       0.60      0.43      0.50      1135\n",
      "   LATINO VOICES       0.75      0.60      0.67       372\n",
      "           MEDIA       0.69      0.53      0.60       927\n",
      "           MONEY       0.65      0.62      0.64       561\n",
      "          PARENT       0.63      0.76      0.69      2834\n",
      "         PARENTS       0.72      0.46      0.56      1281\n",
      "        POLITICS       0.81      0.88      0.84     10748\n",
      "    QUEER VOICES       0.82      0.82      0.82      2077\n",
      "        RELIGION       0.68      0.66      0.67       839\n",
      "         SCIENCE       0.69      0.66      0.68       717\n",
      "          SPORTS       0.76      0.80      0.78      1610\n",
      "STYLE AND BEAUTY       0.85      0.90      0.87      3641\n",
      "           TASTE       0.65      0.46      0.54       689\n",
      "            TECH       0.67      0.59      0.63       666\n",
      "          TRAVEL       0.79      0.88      0.84      3245\n",
      "        WEDDINGS       0.82      0.84      0.83      1183\n",
      "      WEIRD NEWS       0.52      0.50      0.51       881\n",
      "        WELLNESS       0.71      0.86      0.77      5845\n",
      "           WOMEN       0.62      0.41      0.49      1109\n",
      "      WORLD NEWS       0.71      0.76      0.74      2774\n",
      "\n",
      "        accuracy                           0.74     65547\n",
      "       macro avg       0.70      0.64      0.66     65547\n",
      "    weighted avg       0.74      0.74      0.73     65547\n",
      "\n"
     ]
    }
   ],
   "source": [
    "ovr = multiclass.OneVsRestClassifier(svm.LinearSVC(loss = 'hinge'))\n",
    "ovr.fit(X_train, y_train)\n",
    "y_predicted_ovr = ovr.predict(X_test)\n",
    "print(metrics.classification_report(y_test, y_predicted_ovr, target_names=classes.values()))"
   ]
  },
  {
   "cell_type": "markdown",
   "metadata": {},
   "source": [
    "Za najbolji model izdvojili uvideli smo da najlošiju vrednost f1 mere imaju kategorije Enviroment i Green, i zbog toga izdvajamo par vesti iz tih kategorija."
   ]
  },
  {
   "cell_type": "code",
   "execution_count": 16,
   "metadata": {},
   "outputs": [
    {
     "name": "stdout",
     "output_type": "stream",
     "text": [
      "7407    McDonald's Says Its Packaging Will Be 100 Percent Green By 2025        \n",
      "7712    Fourth San Francisco Swimmer In A Month Attacked By Sea Lion           \n",
      "7766    Your Questions About The California Mudslides, Answered                \n",
      "7855    Why The California Mudslides Have Been So Deadly                       \n",
      "7877    The Agency That Approves Pipelines Is About To Get A Trump-Era Overhaul\n",
      "Name: headline, dtype: object\n",
      "125421    Sky Vets Perform Incredible Rescue To Save Wild Lioness (GRAPHIC VIDEO)  \n",
      "125422    Animal Photos Of The Week: Baby Panda Goes For A Stroll                  \n",
      "125423    Washington Mudslide Menacing Fabled Pacific Northwest Salmon, Trout River\n",
      "125424    America's Exotic Pet Obsession Is Out Of Control (PHOTOS, VIDEO)         \n",
      "125494    Time to Leave Our Bad Carbon Boyfriend                                   \n",
      "Name: headline, dtype: object\n"
     ]
    }
   ],
   "source": [
    "news = pd.read_json(\"data/News_Category_Dataset_v2.json\", lines = True)\n",
    "news1 = news[news.category.isin(['GREEN'])].headline\n",
    "news2 = news[news.category.isin(['ENVIRONMENT'])].headline\n",
    "pd.set_option('display.max_rows', None)\n",
    "pd.set_option('display.max_columns', None)\n",
    "pd.set_option('display.width', None)\n",
    "print(news1.head())\n",
    "print(news2.head())"
   ]
  },
  {
   "cell_type": "code",
   "execution_count": 17,
   "metadata": {},
   "outputs": [
    {
     "name": "stdout",
     "output_type": "stream",
     "text": [
      "                  precision    recall  f1-score   support\n",
      "\n",
      "  ARTS & CULTURE       0.83      0.59      0.69      1264\n",
      "    BLACK VOICES       0.75      0.42      0.53      1488\n",
      "        BUSINESS       0.63      0.52      0.57      1950\n",
      "         COLLEGE       0.59      0.38      0.46       377\n",
      "          COMEDY       0.71      0.58      0.64      1683\n",
      "           CRIME       0.65      0.55      0.59      1120\n",
      "         DIVORCE       0.88      0.67      0.76      1126\n",
      "       EDUCATION       0.66      0.34      0.45       331\n",
      "   ENTERTAINMENT       0.66      0.83      0.74      5287\n",
      "     ENVIRONMENT       0.79      0.11      0.19       411\n",
      "           FIFTY       0.79      0.16      0.27       462\n",
      "    FOOD & DRINK       0.75      0.79      0.77      2050\n",
      "       GOOD NEWS       0.85      0.40      0.54       461\n",
      "           GREEN       0.54      0.33      0.41       862\n",
      "  HEALTHY LIVING       0.74      0.30      0.43      2199\n",
      "   HOME & LIVING       0.92      0.74      0.82      1342\n",
      "          IMPACT       0.67      0.31      0.43      1135\n",
      "   LATINO VOICES       0.90      0.43      0.58       372\n",
      "           MEDIA       0.82      0.40      0.54       927\n",
      "           MONEY       0.70      0.34      0.46       561\n",
      "          PARENT       0.55      0.75      0.64      2834\n",
      "         PARENTS       0.88      0.39      0.54      1281\n",
      "        POLITICS       0.65      0.91      0.76     10748\n",
      "    QUEER VOICES       0.89      0.68      0.77      2077\n",
      "        RELIGION       0.77      0.47      0.58       839\n",
      "         SCIENCE       0.85      0.44      0.58       717\n",
      "          SPORTS       0.80      0.67      0.73      1610\n",
      "STYLE AND BEAUTY       0.83      0.86      0.85      3641\n",
      "           TASTE       0.73      0.32      0.45       689\n",
      "            TECH       0.80      0.39      0.53       666\n",
      "          TRAVEL       0.80      0.83      0.82      3245\n",
      "        WEDDINGS       0.85      0.73      0.78      1183\n",
      "      WEIRD NEWS       0.56      0.46      0.50       881\n",
      "        WELLNESS       0.55      0.89      0.68      5845\n",
      "           WOMEN       0.53      0.39      0.45      1109\n",
      "      WORLD NEWS       0.74      0.68      0.71      2774\n",
      "\n",
      "        accuracy                           0.69     65547\n",
      "       macro avg       0.74      0.53      0.59     65547\n",
      "    weighted avg       0.71      0.69      0.67     65547\n",
      "\n"
     ]
    }
   ],
   "source": [
    "ovo = multiclass.OneVsOneClassifier(linear_model.LogisticRegression(max_iter = 1000))\n",
    "ovo.fit(X_train, y_train)\n",
    "y_predicted_ovo = ovo.predict(X_test)\n",
    "print(metrics.classification_report(y_test, y_predicted_ovo, target_names=classes.values()))"
   ]
  },
  {
   "cell_type": "code",
   "execution_count": null,
   "metadata": {},
   "outputs": [],
   "source": []
  }
 ],
 "metadata": {
  "kernelspec": {
   "display_name": "Python 3",
   "language": "python",
   "name": "python3"
  },
  "language_info": {
   "codemirror_mode": {
    "name": "ipython",
    "version": 3
   },
   "file_extension": ".py",
   "mimetype": "text/x-python",
   "name": "python",
   "nbconvert_exporter": "python",
   "pygments_lexer": "ipython3",
   "version": "3.7.6"
  }
 },
 "nbformat": 4,
 "nbformat_minor": 4
}
