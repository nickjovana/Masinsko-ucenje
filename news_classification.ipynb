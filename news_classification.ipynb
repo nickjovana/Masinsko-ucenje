{
 "cells": [
  {
   "cell_type": "code",
   "execution_count": 1,
   "metadata": {},
   "outputs": [],
   "source": [
    "import numpy as np\n",
    "import pandas as pd\n",
    "from sklearn import model_selection\n",
    "from sklearn import metrics\n",
    "from sklearn import preprocessing\n",
    "from sklearn import feature_extraction\n",
    "from sklearn import linear_model\n",
    "from sklearn import multiclass\n",
    "from sklearn import svm\n",
    "from sklearn import neighbors\n",
    "from sklearn import naive_bayes"
   ]
  },
  {
   "cell_type": "code",
   "execution_count": 2,
   "metadata": {},
   "outputs": [],
   "source": [
    "news = pd.read_csv('vesti.csv')"
   ]
  },
  {
   "cell_type": "code",
   "execution_count": 3,
   "metadata": {},
   "outputs": [],
   "source": [
    "X = news['tekst']\n",
    "y = news['kategorija']"
   ]
  },
  {
   "cell_type": "markdown",
   "metadata": {},
   "source": [
    "### TF-IDF vektorizacija\n",
    "Izvršićemo vektorizaciju tekstualnih podataka pomoću Tf-Idf reprezentacije:"
   ]
  },
  {
   "cell_type": "code",
   "execution_count": 4,
   "metadata": {},
   "outputs": [
    {
     "data": {
      "text/plain": [
       "TfidfVectorizer()"
      ]
     },
     "execution_count": 4,
     "metadata": {},
     "output_type": "execute_result"
    }
   ],
   "source": [
    "tfidf_vectorizer = feature_extraction.text.TfidfVectorizer()\n",
    "tfidf_vectorizer.fit(X.values.astype('U'))"
   ]
  },
  {
   "cell_type": "code",
   "execution_count": 5,
   "metadata": {},
   "outputs": [
    {
     "data": {
      "text/plain": [
       "309627"
      ]
     },
     "execution_count": 5,
     "metadata": {},
     "output_type": "execute_result"
    }
   ],
   "source": [
    "len(tfidf_vectorizer.vocabulary_)"
   ]
  },
  {
   "cell_type": "code",
   "execution_count": 6,
   "metadata": {},
   "outputs": [],
   "source": [
    "X_transformed = tfidf_vectorizer.transform(X.values.astype('U'))"
   ]
  },
  {
   "cell_type": "code",
   "execution_count": 7,
   "metadata": {},
   "outputs": [
    {
     "data": {
      "text/plain": [
       "(165699, 309627)"
      ]
     },
     "execution_count": 7,
     "metadata": {},
     "output_type": "execute_result"
    }
   ],
   "source": [
    "X_transformed.shape"
   ]
  },
  {
   "cell_type": "markdown",
   "metadata": {},
   "source": [
    "### Kodiranje klasa\n",
    "Izvršićemo kodiranje 37 klasa brojevima, a mapiranje ćemo sačuvati u rečniku:"
   ]
  },
  {
   "cell_type": "code",
   "execution_count": 8,
   "metadata": {},
   "outputs": [],
   "source": [
    "y_transformed = y.astype('category')"
   ]
  },
  {
   "cell_type": "code",
   "execution_count": 9,
   "metadata": {},
   "outputs": [],
   "source": [
    "classes = dict(enumerate(y_transformed.cat.categories))"
   ]
  },
  {
   "cell_type": "code",
   "execution_count": 10,
   "metadata": {},
   "outputs": [
    {
     "data": {
      "text/plain": [
       "{0: 'ARTS & CULTURE',\n",
       " 1: 'BLACK VOICES',\n",
       " 2: 'BUSINESS',\n",
       " 3: 'COLLEGE',\n",
       " 4: 'COMEDY',\n",
       " 5: 'CRIME',\n",
       " 6: 'DIVORCE',\n",
       " 7: 'EDUCATION',\n",
       " 8: 'ENTERTAINMENT',\n",
       " 9: 'ENVIRONMENT',\n",
       " 10: 'FIFTY',\n",
       " 11: 'FOOD & DRINK',\n",
       " 12: 'GOOD NEWS',\n",
       " 13: 'GREEN',\n",
       " 14: 'HEALTHY LIVING',\n",
       " 15: 'HOME & LIVING',\n",
       " 16: 'IMPACT',\n",
       " 17: 'LATINO VOICES',\n",
       " 18: 'MEDIA',\n",
       " 19: 'MONEY',\n",
       " 20: 'PARENT',\n",
       " 21: 'PARENTS',\n",
       " 22: 'POLITICS',\n",
       " 23: 'QUEER VOICES',\n",
       " 24: 'RELIGION',\n",
       " 25: 'SCIENCE',\n",
       " 26: 'SPORTS',\n",
       " 27: 'STYLE & BEAUTY',\n",
       " 28: 'STYLE AND BEAUTY',\n",
       " 29: 'TASTE',\n",
       " 30: 'TECH',\n",
       " 31: 'TRAVEL',\n",
       " 32: 'WEDDINGS',\n",
       " 33: 'WEIRD NEWS',\n",
       " 34: 'WELLNESS',\n",
       " 35: 'WOMEN',\n",
       " 36: 'WORLD NEWS'}"
      ]
     },
     "execution_count": 10,
     "metadata": {},
     "output_type": "execute_result"
    }
   ],
   "source": [
    "classes"
   ]
  },
  {
   "cell_type": "code",
   "execution_count": 11,
   "metadata": {},
   "outputs": [],
   "source": [
    "y_transformed = y_transformed.cat.codes"
   ]
  },
  {
   "cell_type": "code",
   "execution_count": 12,
   "metadata": {},
   "outputs": [
    {
     "data": {
      "text/plain": [
       "0         35\n",
       "1         14\n",
       "2          2\n",
       "3          6\n",
       "4          6\n",
       "          ..\n",
       "165694     8\n",
       "165695    20\n",
       "165696     0\n",
       "165697    19\n",
       "165698     8\n",
       "Length: 165699, dtype: int8"
      ]
     },
     "execution_count": 12,
     "metadata": {},
     "output_type": "execute_result"
    }
   ],
   "source": [
    "y_transformed"
   ]
  },
  {
   "cell_type": "markdown",
   "metadata": {},
   "source": [
    "### Podela podataka\n",
    "Nakon vektorizacije i kodiranja klasa, uradićemo podelu podataka na trening i test skupove u odnosu 2:1 :"
   ]
  },
  {
   "cell_type": "code",
   "execution_count": 13,
   "metadata": {},
   "outputs": [],
   "source": [
    "X_train, X_test, y_train, y_test = model_selection.\\\n",
    "    train_test_split(X_transformed, y_transformed, test_size = 0.33, stratify = y_transformed, random_state = 4)"
   ]
  },
  {
   "cell_type": "code",
   "execution_count": null,
   "metadata": {},
   "outputs": [],
   "source": []
  }
 ],
 "metadata": {
  "kernelspec": {
   "display_name": "Python 3",
   "language": "python",
   "name": "python3"
  },
  "language_info": {
   "codemirror_mode": {
    "name": "ipython",
    "version": 3
   },
   "file_extension": ".py",
   "mimetype": "text/x-python",
   "name": "python",
   "nbconvert_exporter": "python",
   "pygments_lexer": "ipython3",
   "version": "3.8.5"
  }
 },
 "nbformat": 4,
 "nbformat_minor": 4
}
