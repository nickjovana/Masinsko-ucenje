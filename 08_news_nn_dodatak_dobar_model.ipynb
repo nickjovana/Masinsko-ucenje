{
 "cells": [
  {
   "cell_type": "code",
   "execution_count": 1,
   "metadata": {
    "colab": {},
    "colab_type": "code",
    "id": "OTjCeRavhe4A"
   },
   "outputs": [],
   "source": [
    "import numpy as np\n",
    "import pandas as pd\n",
    "from sklearn import model_selection\n",
    "from sklearn import metrics\n",
    "from sklearn import feature_extraction\n",
    "from sklearn import linear_model\n",
    "from sklearn import multiclass\n",
    "from sklearn import svm\n",
    "from sklearn import neighbors\n",
    "from sklearn import naive_bayes\n",
    "from sklearn import decomposition\n",
    "from sklearn.model_selection import train_test_split\n",
    "import sklearn.preprocessing\n",
    "from keras.utils import np_utils\n",
    "from keras.models import Sequential, Model, load_model\n",
    "from keras.preprocessing import sequence\n",
    "from keras.layers import Dense, Input, LSTM, Bidirectional, Activation, Conv1D, GRU, TimeDistributed\n",
    "from keras.layers import Dropout, Embedding, GlobalMaxPooling1D, MaxPooling1D, Add, Flatten, SpatialDropout1D\n",
    "from keras.layers import GlobalAveragePooling1D, BatchNormalization, concatenate\n",
    "from keras.initializers import Constant\n",
    "from keras.models import Sequential\n",
    "from keras.layers import  Concatenate,Dense, Dropout, Embedding, Conv1D, MaxPool1D, GlobalMaxPool1D, Activation, SpatialDropout1D, LSTM, SimpleRNN, GRU\n",
    "from keras.optimizers import Adam, SGD, RMSprop\n",
    "from keras import losses, optimizers\n",
    "from keras import preprocessing\n",
    "from keras.utils import to_categorical\n",
    "from keras.losses import CategoricalCrossentropy, BinaryCrossentropy\n",
    "\n",
    "from matplotlib import pyplot as plt\n",
    "\n",
    "import tensorflow as tf\n",
    "from keras.preprocessing.text import Tokenizer, text_to_word_sequence"
   ]
  },
  {
   "cell_type": "code",
   "execution_count": 2,
   "metadata": {
    "colab": {},
    "colab_type": "code",
    "id": "s4pukG84he4Q"
   },
   "outputs": [],
   "source": [
    "df = pd.read_json('data/News_Category_Dataset_v2.json', lines=True)"
   ]
  },
  {
   "cell_type": "code",
   "execution_count": 3,
   "metadata": {
    "colab": {},
    "colab_type": "code",
    "id": "1uMl1sG7yxsL"
   },
   "outputs": [],
   "source": [
    "df.category = df.category.map(lambda x: \"WORLDPOST\" if x == \"THE WORLDPOST\" else x)\n",
    "df.category = df.category.map(lambda x: \"WORLD NEWS\" if x == \"WORLDPOST\" else x)\n",
    "df.category = df.category.map(lambda x: \"STYLE AND BEAUTY\" if x == \"STYLE\" else x)\n",
    "df.category = df.category.map(lambda x: \"STYLE AND BEAUTY\" if x == \"STYLE & BEAUTY\" else x)\n",
    "df.category = df.category.map(lambda x: \"PARENT\" if x == \"PARENTING\" else x)\n",
    "df.category = df.category.map(lambda x: \"ARTS & CULTURE\" if x == \"ARTS\" else x)\n",
    "df.category = df.category.map(lambda x: \"ARTS & CULTURE\" if x == \"CULTURE & ARTS\" else x)\n",
    "df.sort_values('headline', inplace=True, ascending=False)\n",
    "duplicates = df.duplicated('headline', keep = False)\n",
    "df = df[~duplicates]"
   ]
  },
  {
   "cell_type": "code",
   "execution_count": 4,
   "metadata": {
    "colab": {},
    "colab_type": "code",
    "id": "rXXOZkVrWHvP"
   },
   "outputs": [],
   "source": [
    "tokenizer = Tokenizer()\n",
    "df['text'] = df.headline + \" \" + df.short_description + \" \" + df.authors\n",
    "tokenizer.fit_on_texts(df.text)\n",
    "X = tokenizer.texts_to_sequences(df.text)\n",
    "df['words'] = X\n",
    "maxlen = 50\n",
    "X = list(sequence.pad_sequences(df.words, maxlen=maxlen))"
   ]
  },
  {
   "cell_type": "code",
   "execution_count": 5,
   "metadata": {
    "colab": {},
    "colab_type": "code",
    "id": "kd4R4tu1zg-1"
   },
   "outputs": [],
   "source": [
    "categories = df.groupby('category').size().index.tolist()\n",
    "category_int = {}\n",
    "int_category = {}\n",
    "for i, k in enumerate(categories):\n",
    "    category_int.update({k:i})\n",
    "    int_category.update({i:k})\n",
    "\n",
    "df['c2id'] = df['category'].apply(lambda x: category_int[x])"
   ]
  },
  {
   "cell_type": "code",
   "execution_count": 9,
   "metadata": {
    "colab": {
     "base_uri": "https://localhost:8080/",
     "height": 53
    },
    "colab_type": "code",
    "id": "wdCgg_D_U_1y",
    "outputId": "a1184fee-4919-4710-9937-42cc6aaeea2b"
   },
   "outputs": [
    {
     "name": "stdout",
     "output_type": "stream",
     "text": [
      "Ukupan broj razlicitih tokena:  133394\n",
      "Ukupno vektora:  400000\n"
     ]
    }
   ],
   "source": [
    "word_index = tokenizer.word_index\n",
    "\n",
    "EMBEDDING_DIM = 100\n",
    "\n",
    "embeddings_index = {}\n",
    "f = open('data/glove.6B.100d.txt', encoding=\"utf8\")\n",
    "for line in f:\n",
    "    values = line.split()\n",
    "    word = values[0]\n",
    "    coefs = np.asarray(values[1:], dtype='float32')\n",
    "    embeddings_index[word] = coefs\n",
    "f.close()\n",
    "\n",
    "print('Ukupan broj razlicitih tokena: ', len(word_index))\n",
    "print('Ukupno vektora: ', len(embeddings_index))"
   ]
  },
  {
   "cell_type": "code",
   "execution_count": 10,
   "metadata": {
    "colab": {},
    "colab_type": "code",
    "id": "HTc4SLFSzt-F"
   },
   "outputs": [],
   "source": [
    "embedding_matrix = np.zeros((len(word_index) + 1, EMBEDDING_DIM))\n",
    "for word, i in word_index.items():\n",
    "    embedding_vector = embeddings_index.get(word)\n",
    "    if embedding_vector is not None:\n",
    "        embedding_matrix[i] = embedding_vector\n",
    "\n",
    "embedding_layer = Embedding(len(word_index)+1,\n",
    "                            EMBEDDING_DIM,\n",
    "                            embeddings_initializer=Constant(embedding_matrix),\n",
    "                            input_length=maxlen,\n",
    "                            trainable=False)\n",
    "X = np.array(X)\n",
    "y = np_utils.to_categorical(list(df.c2id))"
   ]
  },
  {
   "cell_type": "code",
   "execution_count": 11,
   "metadata": {
    "colab": {},
    "colab_type": "code",
    "id": "k-7_P1zohe4b"
   },
   "outputs": [],
   "source": [
    "X_train_and_validation, X_test, y_train_and_validation, y_test = model_selection.\\\n",
    "    train_test_split(X, y, test_size = 0.33, stratify = y, random_state = 4)\n",
    "X_train, X_validation, y_train, y_validation = model_selection.train_test_split(X_train_and_validation,\\\n",
    "    y_train_and_validation, train_size = 0.8, random_state = 4, stratify = y_train_and_validation)"
   ]
  },
  {
   "cell_type": "code",
   "execution_count": 12,
   "metadata": {
    "colab": {
     "base_uri": "https://localhost:8080/",
     "height": 737
    },
    "colab_type": "code",
    "id": "0bbPgyk0he4_",
    "outputId": "a6b44cb3-08ab-430e-ff11-6cd3ea93eedc"
   },
   "outputs": [
    {
     "name": "stdout",
     "output_type": "stream",
     "text": [
      "Model: \"functional_1\"\n",
      "__________________________________________________________________________________________________\n",
      "Layer (type)                    Output Shape         Param #     Connected to                     \n",
      "==================================================================================================\n",
      "input_1 (InputLayer)            [(None, 50)]         0                                            \n",
      "__________________________________________________________________________________________________\n",
      "embedding (Embedding)           (None, 50, 100)      13339500    input_1[0][0]                    \n",
      "__________________________________________________________________________________________________\n",
      "conv1d (Conv1D)                 (None, 50, 64)       12864       embedding[0][0]                  \n",
      "__________________________________________________________________________________________________\n",
      "conv1d_1 (Conv1D)               (None, 50, 64)       19264       embedding[0][0]                  \n",
      "__________________________________________________________________________________________________\n",
      "conv1d_2 (Conv1D)               (None, 50, 64)       25664       embedding[0][0]                  \n",
      "__________________________________________________________________________________________________\n",
      "max_pooling1d (MaxPooling1D)    (None, 16, 64)       0           conv1d[0][0]                     \n",
      "__________________________________________________________________________________________________\n",
      "max_pooling1d_1 (MaxPooling1D)  (None, 16, 64)       0           conv1d_1[0][0]                   \n",
      "__________________________________________________________________________________________________\n",
      "max_pooling1d_2 (MaxPooling1D)  (None, 16, 64)       0           conv1d_2[0][0]                   \n",
      "__________________________________________________________________________________________________\n",
      "dropout (Dropout)               (None, 16, 64)       0           max_pooling1d[0][0]              \n",
      "__________________________________________________________________________________________________\n",
      "dropout_1 (Dropout)             (None, 16, 64)       0           max_pooling1d_1[0][0]            \n",
      "__________________________________________________________________________________________________\n",
      "dropout_2 (Dropout)             (None, 16, 64)       0           max_pooling1d_2[0][0]            \n",
      "__________________________________________________________________________________________________\n",
      "concatenate (Concatenate)       (None, 16, 192)      0           dropout[0][0]                    \n",
      "                                                                 dropout_1[0][0]                  \n",
      "                                                                 dropout_2[0][0]                  \n",
      "__________________________________________________________________________________________________\n",
      "flatten (Flatten)               (None, 3072)         0           concatenate[0][0]                \n",
      "__________________________________________________________________________________________________\n",
      "dropout_3 (Dropout)             (None, 3072)         0           flatten[0][0]                    \n",
      "__________________________________________________________________________________________________\n",
      "dense (Dense)                   (None, 36)           110628      dropout_3[0][0]                  \n",
      "==================================================================================================\n",
      "Total params: 13,507,920\n",
      "Trainable params: 168,420\n",
      "Non-trainable params: 13,339,500\n",
      "__________________________________________________________________________________________________\n"
     ]
    }
   ],
   "source": [
    "inp = Input(shape=(maxlen,), dtype='int32')\n",
    "embedding = embedding_layer(inp)\n",
    "stacks = []\n",
    "for kernel_size in [2, 3, 4]:\n",
    "    conv = Conv1D(64, kernel_size, padding='same', activation='relu', strides=1)(embedding)\n",
    "    pool = MaxPooling1D(pool_size=3)(conv)\n",
    "    drop = Dropout(0.5)(pool)\n",
    "    stacks.append(drop)\n",
    "\n",
    "merged = Concatenate()(stacks)\n",
    "flatten = Flatten()(merged)\n",
    "drop = Dropout(0.5)(flatten)\n",
    "outp = Dense(len(int_category), activation='softmax')(drop)\n",
    "\n",
    "model1 = Model(inputs=inp, outputs=outp)\n",
    "model1.compile(loss='categorical_crossentropy', optimizer='adam', metrics=['accuracy'])\n",
    "\n",
    "model1.summary()"
   ]
  },
  {
   "cell_type": "code",
   "execution_count": 13,
   "metadata": {
    "colab": {
     "base_uri": "https://localhost:8080/",
     "height": 757
    },
    "colab_type": "code",
    "id": "UMfgkHP3he5N",
    "outputId": "5e0ef229-0dc5-4e12-a64e-58fffe13d422"
   },
   "outputs": [
    {
     "name": "stdout",
     "output_type": "stream",
     "text": [
      "Epoch 1/20\n",
      "832/832 [==============================] - 49s 59ms/step - loss: 2.1924 - accuracy: 0.4158 - val_loss: 1.5314 - val_accuracy: 0.5772\n",
      "Epoch 2/20\n",
      "832/832 [==============================] - 48s 58ms/step - loss: 1.6543 - accuracy: 0.5425 - val_loss: 1.3549 - val_accuracy: 0.6202\n",
      "Epoch 3/20\n",
      "832/832 [==============================] - 49s 59ms/step - loss: 1.5351 - accuracy: 0.5752 - val_loss: 1.2821 - val_accuracy: 0.6435\n",
      "Epoch 4/20\n",
      "832/832 [==============================] - 50s 60ms/step - loss: 1.4707 - accuracy: 0.5880 - val_loss: 1.2354 - val_accuracy: 0.6601\n",
      "Epoch 5/20\n",
      "832/832 [==============================] - 52s 63ms/step - loss: 1.4296 - accuracy: 0.6009 - val_loss: 1.2096 - val_accuracy: 0.6660\n",
      "Epoch 6/20\n",
      "832/832 [==============================] - 56s 68ms/step - loss: 1.4039 - accuracy: 0.6069 - val_loss: 1.1902 - val_accuracy: 0.6720\n",
      "Epoch 7/20\n",
      "832/832 [==============================] - 53s 64ms/step - loss: 1.3818 - accuracy: 0.6131 - val_loss: 1.1670 - val_accuracy: 0.6763\n",
      "Epoch 8/20\n",
      "832/832 [==============================] - 49s 59ms/step - loss: 1.3606 - accuracy: 0.6186 - val_loss: 1.1615 - val_accuracy: 0.6775\n",
      "Epoch 9/20\n",
      "832/832 [==============================] - 49s 59ms/step - loss: 1.3462 - accuracy: 0.6241 - val_loss: 1.1539 - val_accuracy: 0.6767\n",
      "Epoch 10/20\n",
      "832/832 [==============================] - 49s 59ms/step - loss: 1.3325 - accuracy: 0.6252 - val_loss: 1.1305 - val_accuracy: 0.6895\n",
      "Epoch 11/20\n",
      "832/832 [==============================] - 51s 61ms/step - loss: 1.3208 - accuracy: 0.6283 - val_loss: 1.1371 - val_accuracy: 0.6829\n",
      "Epoch 12/20\n",
      "832/832 [==============================] - 52s 62ms/step - loss: 1.3094 - accuracy: 0.6327 - val_loss: 1.1209 - val_accuracy: 0.6889\n",
      "Epoch 13/20\n",
      "832/832 [==============================] - 50s 60ms/step - loss: 1.2986 - accuracy: 0.6330 - val_loss: 1.1107 - val_accuracy: 0.6944\n",
      "Epoch 14/20\n",
      "832/832 [==============================] - 50s 60ms/step - loss: 1.2935 - accuracy: 0.6356 - val_loss: 1.1140 - val_accuracy: 0.6940\n",
      "Epoch 15/20\n",
      "832/832 [==============================] - 48s 58ms/step - loss: 1.2855 - accuracy: 0.6372 - val_loss: 1.1126 - val_accuracy: 0.6936\n",
      "Epoch 16/20\n",
      "832/832 [==============================] - 42s 51ms/step - loss: 1.2823 - accuracy: 0.6393 - val_loss: 1.1032 - val_accuracy: 0.6960\n",
      "Epoch 17/20\n",
      "832/832 [==============================] - 40s 48ms/step - loss: 1.2752 - accuracy: 0.6405 - val_loss: 1.1114 - val_accuracy: 0.6929\n",
      "Epoch 18/20\n",
      "832/832 [==============================] - 42s 51ms/step - loss: 1.2688 - accuracy: 0.6412 - val_loss: 1.0945 - val_accuracy: 0.6989\n",
      "Epoch 19/20\n",
      "832/832 [==============================] - 48s 58ms/step - loss: 1.2658 - accuracy: 0.6416 - val_loss: 1.1005 - val_accuracy: 0.6959\n",
      "Epoch 20/20\n",
      "832/832 [==============================] - 40s 48ms/step - loss: 1.2584 - accuracy: 0.6443 - val_loss: 1.0955 - val_accuracy: 0.6965\n"
     ]
    }
   ],
   "source": [
    "history1 = model1.fit(X_train, y_train, batch_size=128, epochs=20, validation_data=(X_validation, y_validation))"
   ]
  },
  {
   "cell_type": "code",
   "execution_count": 14,
   "metadata": {
    "colab": {},
    "colab_type": "code",
    "id": "Zi8CzfMK_L7n"
   },
   "outputs": [],
   "source": [
    "def EvaluateModel(model, X_test, y_test, history):\n",
    "    score = model.evaluate(X_test, y_test)\n",
    "    print('Test loss: ', score[0])\n",
    "    print('Test accuracy: ', score[1])\n",
    "    \n",
    "    epochs = history.epoch\n",
    "    \n",
    "    loss = history.history['loss']\n",
    "    validation_loss = history.history['val_loss']\n",
    "    \n",
    "    accuracy = history.history['accuracy']\n",
    "    validation_accuracy = history.history['val_accuracy']\n",
    "    \n",
    "    plt.figure(figsize=(12,8))\n",
    "    plt.title('Loss')\n",
    "    plt.xlabel('epochs')\n",
    "    plt.ylabel('loss')\n",
    "    plt.plot(epochs, loss, c='red', label = 'training')\n",
    "    plt.plot(epochs, validation_loss, c='orange', label='validation')\n",
    "    plt.legend(loc = 'best')\n",
    "    plt.show()\n",
    "    \n",
    "    plt.figure(figsize=(12,8))\n",
    "    plt.title('Accuracy')\n",
    "    plt.xlabel('epochs')\n",
    "    plt.ylabel('accuracy')\n",
    "    plt.plot(epochs, accuracy, c='red', label = 'training')\n",
    "    plt.plot(epochs, validation_accuracy, c = 'orange', label = 'validation')\n",
    "    plt.legend(loc = 'best')\n",
    "    plt.show()"
   ]
  },
  {
   "cell_type": "code",
   "execution_count": 15,
   "metadata": {
    "colab": {
     "base_uri": "https://localhost:8080/",
     "height": 1000
    },
    "colab_type": "code",
    "id": "MT7GzARo-yml",
    "outputId": "ce10f556-b9a5-4a47-ed36-8efbdded788f"
   },
   "outputs": [
    {
     "name": "stdout",
     "output_type": "stream",
     "text": [
      "2049/2049 [==============================] - 7s 4ms/step - loss: 1.0944 - accuracy: 0.6981\n",
      "Test loss:  1.0943739414215088\n",
      "Test accuracy:  0.6980792284011841\n"
     ]
    },
    {
     "data": {
      "image/png": "[encoded data removed]",
      "text/plain": [
       "<Figure size 864x576 with 1 Axes>"
      ]
     },
     "metadata": {
      "needs_background": "light"
     },
     "output_type": "display_data"
    },
    {
     "data": {
      "image/png": "[encoded data removed]",
      "text/plain": [
       "<Figure size 864x576 with 1 Axes>"
      ]
     },
     "metadata": {
      "needs_background": "light"
     },
     "output_type": "display_data"
    }
   ],
   "source": [
    "EvaluateModel(model1, X_test, y_test, history1)"
   ]
  },
  {
   "cell_type": "code",
   "execution_count": 17,
   "metadata": {
    "colab": {
     "base_uri": "https://localhost:8080/",
     "height": 503
    },
    "colab_type": "code",
    "id": "L-UxjybG3Vs3",
    "outputId": "0dc3ee72-77a7-40b8-efc1-12bda0b65fdb"
   },
   "outputs": [
    {
     "name": "stdout",
     "output_type": "stream",
     "text": [
      "Model: \"functional_3\"\n",
      "__________________________________________________________________________________________________\n",
      "Layer (type)                    Output Shape         Param #     Connected to                     \n",
      "==================================================================================================\n",
      "input_3 (InputLayer)            [(None, 50)]         0                                            \n",
      "__________________________________________________________________________________________________\n",
      "embedding (Embedding)           (None, 50, 100)      13339500    input_3[0][0]                    \n",
      "__________________________________________________________________________________________________\n",
      "spatial_dropout1d_1 (SpatialDro (None, 50, 100)      0           embedding[2][0]                  \n",
      "__________________________________________________________________________________________________\n",
      "bidirectional_1 (Bidirectional) (None, 50, 256)      176640      spatial_dropout1d_1[0][0]        \n",
      "__________________________________________________________________________________________________\n",
      "conv1d_4 (Conv1D)               (None, 48, 64)       49216       bidirectional_1[0][0]            \n",
      "__________________________________________________________________________________________________\n",
      "global_average_pooling1d_1 (Glo (None, 64)           0           conv1d_4[0][0]                   \n",
      "__________________________________________________________________________________________________\n",
      "global_max_pooling1d_1 (GlobalM (None, 64)           0           conv1d_4[0][0]                   \n",
      "__________________________________________________________________________________________________\n",
      "concatenate_2 (Concatenate)     (None, 128)          0           global_average_pooling1d_1[0][0] \n",
      "                                                                 global_max_pooling1d_1[0][0]     \n",
      "__________________________________________________________________________________________________\n",
      "dense_2 (Dense)                 (None, 36)           4644        concatenate_2[0][0]              \n",
      "==================================================================================================\n",
      "Total params: 13,570,000\n",
      "Trainable params: 230,500\n",
      "Non-trainable params: 13,339,500\n",
      "__________________________________________________________________________________________________\n"
     ]
    }
   ],
   "source": [
    "inp = Input(shape=(maxlen,), dtype='int32')\n",
    "x = embedding_layer(inp)\n",
    "x = SpatialDropout1D(0.2)(x)\n",
    "x = Bidirectional(GRU(128, return_sequences=True, dropout=0.1, recurrent_dropout=0.1))(x)\n",
    "x = Conv1D(64, kernel_size=3)(x)\n",
    "avg_pool = GlobalAveragePooling1D()(x)\n",
    "max_pool = GlobalMaxPooling1D()(x)\n",
    "x = concatenate([avg_pool, max_pool])\n",
    "outp = Dense(len(int_category), activation=\"softmax\")(x)\n",
    "\n",
    "model2 = Model(inp, outp)\n",
    "model2.compile(loss='categorical_crossentropy', optimizer='adam', metrics=['accuracy'])\n",
    "\n",
    "model2.summary()"
   ]
  },
  {
   "cell_type": "code",
   "execution_count": 18,
   "metadata": {
    "colab": {
     "base_uri": "https://localhost:8080/",
     "height": 397
    },
    "colab_type": "code",
    "id": "x8Bg7MtO3mS9",
    "outputId": "d8b52abf-359f-458a-b6d5-78a0785f8cef"
   },
   "outputs": [
    {
     "name": "stdout",
     "output_type": "stream",
     "text": [
      "Epoch 1/10\n",
      "832/832 [==============================] - 383s 460ms/step - loss: 1.7360 - accuracy: 0.5216 - val_loss: 1.2468 - val_accuracy: 0.6431\n",
      "Epoch 2/10\n",
      "832/832 [==============================] - 366s 440ms/step - loss: 1.2285 - accuracy: 0.6496 - val_loss: 1.0756 - val_accuracy: 0.6899\n",
      "Epoch 3/10\n",
      "832/832 [==============================] - 390s 469ms/step - loss: 1.0764 - accuracy: 0.6876 - val_loss: 0.9893 - val_accuracy: 0.7134\n",
      "Epoch 4/10\n",
      "832/832 [==============================] - 393s 472ms/step - loss: 0.9904 - accuracy: 0.7123 - val_loss: 0.9421 - val_accuracy: 0.7278\n",
      "Epoch 5/10\n",
      "832/832 [==============================] - 375s 451ms/step - loss: 0.9317 - accuracy: 0.7261 - val_loss: 0.9116 - val_accuracy: 0.7364\n",
      "Epoch 6/10\n",
      "832/832 [==============================] - 429s 516ms/step - loss: 0.8877 - accuracy: 0.7384 - val_loss: 0.8809 - val_accuracy: 0.7451\n",
      "Epoch 7/10\n",
      "832/832 [==============================] - 401s 482ms/step - loss: 0.8512 - accuracy: 0.7473 - val_loss: 0.8793 - val_accuracy: 0.7469\n",
      "Epoch 8/10\n",
      "832/832 [==============================] - 444s 534ms/step - loss: 0.8209 - accuracy: 0.7556 - val_loss: 0.8878 - val_accuracy: 0.7463\n",
      "Epoch 9/10\n",
      "832/832 [==============================] - 397s 478ms/step - loss: 0.7975 - accuracy: 0.7613 - val_loss: 0.8634 - val_accuracy: 0.7541\n",
      "Epoch 10/10\n",
      "832/832 [==============================] - 445s 535ms/step - loss: 0.7763 - accuracy: 0.7658 - val_loss: 0.8743 - val_accuracy: 0.7522\n"
     ]
    }
   ],
   "source": [
    "history2 = model2.fit(X_train, y_train, batch_size=128, epochs=10, validation_data=(X_validation, y_validation))"
   ]
  },
  {
   "cell_type": "code",
   "execution_count": 19,
   "metadata": {
    "colab": {
     "base_uri": "https://localhost:8080/",
     "height": 352
    },
    "colab_type": "code",
    "id": "-uLDZOdE3vZF",
    "outputId": "b9f14019-1552-4c21-91e1-fa0ec082d16a"
   },
   "outputs": [
    {
     "name": "stdout",
     "output_type": "stream",
     "text": [
      "2049/2049 [==============================] - 54s 27ms/step - loss: 0.8661 - accuracy: 0.7544\n",
      "Test loss:  0.8661239147186279\n",
      "Test accuracy:  0.7544205188751221\n"
     ]
    },
    {
     "data": {
      "image/png": "[encoded data removed]",
      "text/plain": [
       "<Figure size 864x576 with 1 Axes>"
      ]
     },
     "metadata": {
      "needs_background": "light"
     },
     "output_type": "display_data"
    },
    {
     "data": {
      "image/png": "[encoded data removed]",
      "text/plain": [
       "<Figure size 864x576 with 1 Axes>"
      ]
     },
     "metadata": {
      "needs_background": "light"
     },
     "output_type": "display_data"
    }
   ],
   "source": [
    "EvaluateModel(model2, X_test, y_test, history2)"
   ]
  },
  {
   "cell_type": "code",
   "execution_count": 29,
   "metadata": {},
   "outputs": [
    {
     "name": "stdout",
     "output_type": "stream",
     "text": [
      "              precision    recall  f1-score   support\n",
      "\n",
      "           0       0.79      0.60      0.68      1264\n",
      "           1       0.68      0.34      0.46      1488\n",
      "           2       0.55      0.49      0.52      1950\n",
      "           3       0.60      0.26      0.37       377\n",
      "           4       0.66      0.51      0.58      1683\n",
      "           5       0.60      0.52      0.56      1120\n",
      "           6       0.87      0.66      0.75      1126\n",
      "           7       0.55      0.42      0.48       331\n",
      "           8       0.66      0.80      0.72      5287\n",
      "           9       0.72      0.32      0.44       411\n",
      "          10       0.63      0.22      0.32       462\n",
      "          11       0.77      0.85      0.81      2050\n",
      "          12       0.79      0.34      0.48       461\n",
      "          13       0.54      0.31      0.39       862\n",
      "          14       0.54      0.67      0.60      2199\n",
      "          15       0.86      0.77      0.81      1342\n",
      "          16       0.54      0.24      0.33      1135\n",
      "          17       0.91      0.47      0.61       372\n",
      "          18       0.77      0.33      0.46       927\n",
      "          19       0.66      0.43      0.52       561\n",
      "          20       0.68      0.73      0.70      2834\n",
      "          21       0.64      0.61      0.63      1281\n",
      "          22       0.66      0.90      0.76     10748\n",
      "          23       0.86      0.70      0.77      2077\n",
      "          24       0.72      0.63      0.67       839\n",
      "          25       0.73      0.49      0.58       717\n",
      "          26       0.79      0.72      0.76      1610\n",
      "          27       0.82      0.85      0.84      3641\n",
      "          28       0.76      0.49      0.60       689\n",
      "          29       0.74      0.41      0.53       666\n",
      "          30       0.82      0.80      0.81      3245\n",
      "          31       0.83      0.75      0.79      1183\n",
      "          32       0.50      0.46      0.48       881\n",
      "          33       0.70      0.90      0.78      5845\n",
      "          34       0.55      0.25      0.34      1109\n",
      "          35       0.71      0.67      0.69      2774\n",
      "\n",
      "    accuracy                           0.70     65547\n",
      "   macro avg       0.70      0.55      0.60     65547\n",
      "weighted avg       0.70      0.70      0.68     65547\n",
      "\n",
      "[[ 764   16   11 ...   22    7   13]\n",
      " [  10  511   18 ...   34   13    9]\n",
      " [   3    6  953 ...  102    9   32]\n",
      " ...\n",
      " [   4    1   25 ... 5235    3   13]\n",
      " [   3   14   33 ...   30  274    7]\n",
      " [   6    2   32 ...   11    7 1861]]\n"
     ]
    }
   ],
   "source": [
    "p1 = model1.predict(X_test, verbose=0)\n",
    "print(metrics.classification_report(np.argmax(y_test, axis=1), np.argmax(p1, axis=1)))\n",
    "print(metrics.confusion_matrix(np.argmax(y_test, axis=1), np.argmax(p1, axis=1)))"
   ]
  },
  {
   "cell_type": "code",
   "execution_count": 30,
   "metadata": {},
   "outputs": [
    {
     "name": "stdout",
     "output_type": "stream",
     "text": [
      "              precision    recall  f1-score   support\n",
      "\n",
      "           0       0.81      0.71      0.76      1264\n",
      "           1       0.61      0.55      0.58      1488\n",
      "           2       0.65      0.58      0.61      1950\n",
      "           3       0.48      0.58      0.52       377\n",
      "           4       0.71      0.59      0.64      1683\n",
      "           5       0.58      0.66      0.62      1120\n",
      "           6       0.83      0.74      0.78      1126\n",
      "           7       0.47      0.63      0.53       331\n",
      "           8       0.80      0.78      0.79      5287\n",
      "           9       0.67      0.52      0.59       411\n",
      "          10       0.56      0.55      0.56       462\n",
      "          11       0.88      0.87      0.87      2050\n",
      "          12       0.74      0.46      0.57       461\n",
      "          13       0.58      0.48      0.53       862\n",
      "          14       0.70      0.69      0.69      2199\n",
      "          15       0.89      0.80      0.85      1342\n",
      "          16       0.63      0.36      0.46      1135\n",
      "          17       0.71      0.60      0.65       372\n",
      "          18       0.69      0.54      0.61       927\n",
      "          19       0.59      0.66      0.62       561\n",
      "          20       0.73      0.81      0.77      2834\n",
      "          21       0.59      0.77      0.67      1281\n",
      "          22       0.79      0.87      0.83     10748\n",
      "          23       0.79      0.81      0.80      2077\n",
      "          24       0.57      0.80      0.66       839\n",
      "          25       0.73      0.61      0.66       717\n",
      "          26       0.84      0.74      0.79      1610\n",
      "          27       0.90      0.86      0.88      3641\n",
      "          28       0.67      0.79      0.72       689\n",
      "          29       0.64      0.61      0.62       666\n",
      "          30       0.86      0.84      0.85      3245\n",
      "          31       0.85      0.81      0.83      1183\n",
      "          32       0.45      0.64      0.53       881\n",
      "          33       0.79      0.91      0.84      5845\n",
      "          34       0.57      0.45      0.50      1109\n",
      "          35       0.83      0.63      0.71      2774\n",
      "\n",
      "    accuracy                           0.75     65547\n",
      "   macro avg       0.70      0.68      0.68     65547\n",
      "weighted avg       0.76      0.75      0.75     65547\n",
      "\n",
      "[[ 901   17    8 ...   14   11    8]\n",
      " [  12  823   12 ...   32    8    2]\n",
      " [   1   15 1136 ...   74   22   15]\n",
      " ...\n",
      " [   3    3   20 ... 5299    2    4]\n",
      " [   3   21   31 ...   10  495    3]\n",
      " [   8   15   29 ...    4    8 1742]]\n"
     ]
    }
   ],
   "source": [
    "p2 = model2.predict(X_test, verbose=0)\n",
    "print(metrics.classification_report(np.argmax(y_test, axis=1), np.argmax(p2, axis=1)))\n",
    "print(metrics.confusion_matrix(np.argmax(y_test, axis=1), np.argmax(p2, axis=1)))"
   ]
  },
  {
   "cell_type": "markdown",
   "metadata": {},
   "source": [
    "Ovi modeli nisu u potpunosti samostalno implementirani, delovi koda su korisceni iz literature. Pokusali smo da nadjemo model koji ce biti relativno dobar i sa dobrim rezultatima."
   ]
  }
 ],
 "metadata": {
  "colab": {
   "collapsed_sections": [],
   "name": "06_news_nn.ipynb",
   "provenance": [],
   "toc_visible": true
  },
  "kernelspec": {
   "display_name": "Python 3",
   "language": "python",
   "name": "python3"
  },
  "language_info": {
   "codemirror_mode": {
    "name": "ipython",
    "version": 3
   },
   "file_extension": ".py",
   "mimetype": "text/x-python",
   "name": "python",
   "nbconvert_exporter": "python",
   "pygments_lexer": "ipython3",
   "version": "3.8.5"
  }
 },
 "nbformat": 4,
 "nbformat_minor": 1
}
