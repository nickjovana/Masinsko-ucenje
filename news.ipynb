{
 "cells": [
  {
   "cell_type": "code",
   "execution_count": 67,
   "metadata": {},
   "outputs": [],
   "source": [
    "import numpy as np\n",
    "import pandas as pd\n",
    "import nltk\n",
    "from nltk.tokenize import sent_tokenize, word_tokenize\n",
    "from nltk.stem import PorterStemmer\n",
    "import re\n",
    "import pickle\n",
    "from sklearn.feature_extraction.text import TfidfVectorizer\n",
    "from sklearn.model_selection import train_test_split\n",
    "from matplotlib import pyplot as plt\n",
    "from string import punctuation\n",
    "from nltk import pos_tag\n",
    "from nltk.corpus import stopwords, wordnet\n",
    "from nltk.stem import WordNetLemmatizer\n",
    "\n"
   ]
  },
  {
   "cell_type": "code",
   "execution_count": 68,
   "metadata": {},
   "outputs": [
    {
     "name": "stderr",
     "output_type": "stream",
     "text": [
      "[nltk_data] Downloading package stopwords to /home/jovana/nltk_data...\n",
      "[nltk_data]   Package stopwords is already up-to-date!\n",
      "[nltk_data] Downloading package punkt to /home/jovana/nltk_data...\n",
      "[nltk_data]   Package punkt is already up-to-date!\n",
      "[nltk_data] Downloading package averaged_perceptron_tagger to\n",
      "[nltk_data]     /home/jovana/nltk_data...\n",
      "[nltk_data]   Package averaged_perceptron_tagger is already up-to-\n",
      "[nltk_data]       date!\n",
      "[nltk_data] Downloading package wordnet to /home/jovana/nltk_data...\n",
      "[nltk_data]   Package wordnet is already up-to-date!\n"
     ]
    },
    {
     "data": {
      "text/plain": [
       "True"
      ]
     },
     "execution_count": 68,
     "metadata": {},
     "output_type": "execute_result"
    }
   ],
   "source": [
    "nltk.download('stopwords')\n",
    "nltk.download('punkt')\n",
    "nltk.download('averaged_perceptron_tagger')\n",
    "nltk.download('wordnet')"
   ]
  },
  {
   "cell_type": "code",
   "execution_count": 69,
   "metadata": {},
   "outputs": [],
   "source": [
    "#ucitavanje podataka\n",
    "vesti = pd.read_json(\"News_Category_Dataset_v2.json\", lines = True)"
   ]
  },
  {
   "cell_type": "code",
   "execution_count": 70,
   "metadata": {},
   "outputs": [
    {
     "name": "stdout",
     "output_type": "stream",
     "text": [
      "<class 'pandas.core.frame.DataFrame'>\n",
      "RangeIndex: 200853 entries, 0 to 200852\n",
      "Data columns (total 6 columns):\n",
      " #   Column             Non-Null Count   Dtype         \n",
      "---  ------             --------------   -----         \n",
      " 0   category           200853 non-null  object        \n",
      " 1   headline           200853 non-null  object        \n",
      " 2   authors            200853 non-null  object        \n",
      " 3   link               200853 non-null  object        \n",
      " 4   short_description  200853 non-null  object        \n",
      " 5   date               200853 non-null  datetime64[ns]\n",
      "dtypes: datetime64[ns](1), object(5)\n",
      "memory usage: 9.2+ MB\n"
     ]
    }
   ],
   "source": [
    "vesti.info()"
   ]
  },
  {
   "cell_type": "code",
   "execution_count": 71,
   "metadata": {},
   "outputs": [
    {
     "name": "stdout",
     "output_type": "stream",
     "text": [
      "Broj autora :  27993\n"
     ]
    }
   ],
   "source": [
    "print(\"Broj autora : \", vesti[\"authors\"].nunique())\n"
   ]
  },
  {
   "cell_type": "code",
   "execution_count": 72,
   "metadata": {},
   "outputs": [
    {
     "data": {
      "text/html": [
       "<div>\n",
       "<style scoped>\n",
       "    .dataframe tbody tr th:only-of-type {\n",
       "        vertical-align: middle;\n",
       "    }\n",
       "\n",
       "    .dataframe tbody tr th {\n",
       "        vertical-align: top;\n",
       "    }\n",
       "\n",
       "    .dataframe thead th {\n",
       "        text-align: right;\n",
       "    }\n",
       "</style>\n",
       "<table border=\"1\" class=\"dataframe\">\n",
       "  <thead>\n",
       "    <tr style=\"text-align: right;\">\n",
       "      <th></th>\n",
       "      <th>category</th>\n",
       "      <th>headline</th>\n",
       "      <th>authors</th>\n",
       "      <th>link</th>\n",
       "      <th>short_description</th>\n",
       "      <th>date</th>\n",
       "    </tr>\n",
       "  </thead>\n",
       "  <tbody>\n",
       "    <tr>\n",
       "      <th>0</th>\n",
       "      <td>CRIME</td>\n",
       "      <td>There Were 2 Mass Shootings In Texas Last Week...</td>\n",
       "      <td>Melissa Jeltsen</td>\n",
       "      <td>https://www.huffingtonpost.com/entry/texas-ama...</td>\n",
       "      <td>She left her husband. He killed their children...</td>\n",
       "      <td>2018-05-26</td>\n",
       "    </tr>\n",
       "    <tr>\n",
       "      <th>1</th>\n",
       "      <td>ENTERTAINMENT</td>\n",
       "      <td>Will Smith Joins Diplo And Nicky Jam For The 2...</td>\n",
       "      <td>Andy McDonald</td>\n",
       "      <td>https://www.huffingtonpost.com/entry/will-smit...</td>\n",
       "      <td>Of course it has a song.</td>\n",
       "      <td>2018-05-26</td>\n",
       "    </tr>\n",
       "    <tr>\n",
       "      <th>2</th>\n",
       "      <td>ENTERTAINMENT</td>\n",
       "      <td>Hugh Grant Marries For The First Time At Age 57</td>\n",
       "      <td>Ron Dicker</td>\n",
       "      <td>https://www.huffingtonpost.com/entry/hugh-gran...</td>\n",
       "      <td>The actor and his longtime girlfriend Anna Ebe...</td>\n",
       "      <td>2018-05-26</td>\n",
       "    </tr>\n",
       "    <tr>\n",
       "      <th>3</th>\n",
       "      <td>ENTERTAINMENT</td>\n",
       "      <td>Jim Carrey Blasts 'Castrato' Adam Schiff And D...</td>\n",
       "      <td>Ron Dicker</td>\n",
       "      <td>https://www.huffingtonpost.com/entry/jim-carre...</td>\n",
       "      <td>The actor gives Dems an ass-kicking for not fi...</td>\n",
       "      <td>2018-05-26</td>\n",
       "    </tr>\n",
       "    <tr>\n",
       "      <th>4</th>\n",
       "      <td>ENTERTAINMENT</td>\n",
       "      <td>Julianna Margulies Uses Donald Trump Poop Bags...</td>\n",
       "      <td>Ron Dicker</td>\n",
       "      <td>https://www.huffingtonpost.com/entry/julianna-...</td>\n",
       "      <td>The \"Dietland\" actress said using the bags is ...</td>\n",
       "      <td>2018-05-26</td>\n",
       "    </tr>\n",
       "  </tbody>\n",
       "</table>\n",
       "</div>"
      ],
      "text/plain": [
       "        category                                           headline  \\\n",
       "0          CRIME  There Were 2 Mass Shootings In Texas Last Week...   \n",
       "1  ENTERTAINMENT  Will Smith Joins Diplo And Nicky Jam For The 2...   \n",
       "2  ENTERTAINMENT    Hugh Grant Marries For The First Time At Age 57   \n",
       "3  ENTERTAINMENT  Jim Carrey Blasts 'Castrato' Adam Schiff And D...   \n",
       "4  ENTERTAINMENT  Julianna Margulies Uses Donald Trump Poop Bags...   \n",
       "\n",
       "           authors                                               link  \\\n",
       "0  Melissa Jeltsen  https://www.huffingtonpost.com/entry/texas-ama...   \n",
       "1    Andy McDonald  https://www.huffingtonpost.com/entry/will-smit...   \n",
       "2       Ron Dicker  https://www.huffingtonpost.com/entry/hugh-gran...   \n",
       "3       Ron Dicker  https://www.huffingtonpost.com/entry/jim-carre...   \n",
       "4       Ron Dicker  https://www.huffingtonpost.com/entry/julianna-...   \n",
       "\n",
       "                                   short_description       date  \n",
       "0  She left her husband. He killed their children... 2018-05-26  \n",
       "1                           Of course it has a song. 2018-05-26  \n",
       "2  The actor and his longtime girlfriend Anna Ebe... 2018-05-26  \n",
       "3  The actor gives Dems an ass-kicking for not fi... 2018-05-26  \n",
       "4  The \"Dietland\" actress said using the bags is ... 2018-05-26  "
      ]
     },
     "execution_count": 72,
     "metadata": {},
     "output_type": "execute_result"
    }
   ],
   "source": [
    "vesti.head()\n"
   ]
  },
  {
   "cell_type": "code",
   "execution_count": null,
   "metadata": {},
   "outputs": [],
   "source": []
  },
  {
   "cell_type": "code",
   "execution_count": 73,
   "metadata": {},
   "outputs": [
    {
     "name": "stdout",
     "output_type": "stream",
     "text": [
      "UKUPAN BROJ RALICITIH KATEGORIJA 41\n",
      "category\n",
      "ARTS               1509\n",
      "ARTS & CULTURE     1339\n",
      "BLACK VOICES       4528\n",
      "BUSINESS           5937\n",
      "COLLEGE            1144\n",
      "COMEDY             5175\n",
      "CRIME              3405\n",
      "CULTURE & ARTS     1030\n",
      "DIVORCE            3426\n",
      "EDUCATION          1004\n",
      "ENTERTAINMENT     16058\n",
      "ENVIRONMENT        1323\n",
      "FIFTY              1401\n",
      "FOOD & DRINK       6226\n",
      "GOOD NEWS          1398\n",
      "GREEN              2622\n",
      "HEALTHY LIVING     6694\n",
      "HOME & LIVING      4195\n",
      "IMPACT             3459\n",
      "LATINO VOICES      1129\n",
      "MEDIA              2815\n",
      "MONEY              1707\n",
      "PARENTING          8677\n",
      "PARENTS            3955\n",
      "POLITICS          32739\n",
      "QUEER VOICES       6314\n",
      "RELIGION           2556\n",
      "SCIENCE            2178\n",
      "SPORTS             4884\n",
      "STYLE              2254\n",
      "STYLE & BEAUTY     9649\n",
      "TASTE              2096\n",
      "TECH               2082\n",
      "THE WORLDPOST      3664\n",
      "TRAVEL             9887\n",
      "WEDDINGS           3651\n",
      "WEIRD NEWS         2670\n",
      "WELLNESS          17827\n",
      "WOMEN              3490\n",
      "WORLD NEWS         2177\n",
      "WORLDPOST          2579\n",
      "dtype: int64\n"
     ]
    }
   ],
   "source": [
    "kategorije = vesti.groupby('category')\n",
    "print(\"UKUPAN BROJ RALICITIH KATEGORIJA\", kategorije.ngroups)\n",
    "print( kategorije.size())\n"
   ]
  },
  {
   "cell_type": "code",
   "execution_count": 74,
   "metadata": {},
   "outputs": [],
   "source": [
    "#neke kategorije sadrze isti tip vesti a kategorija nosi slican naziv pa vrsimo spajanje\n",
    "vesti.category = vesti.category.map(lambda x: \"WORLDPOST\" if x == \"THE WORLDPOST\" else x)\n",
    "vesti.category = vesti.category.map(lambda x: \"WORLD NEWS\" if x == \"WORLDPOST\" else x)\n",
    "vesti.category = vesti.category.map(lambda x: \"STYLE AND BEAUTY\" if x == \"STYLE\" else x)\n",
    "vesti.category = vesti.category.map(lambda x: \"PARENT\" if x == \"PARENTING\" else x)\n",
    "vesti.category = vesti.category.map(lambda x: \"ARTS & CULTURE\" if x == \"ARTS\" else x)\n",
    "vesti.category = vesti.category.map(lambda x: \"ARTS & CULTURE\" if x == \"CULTURE & ARTS\" else x)"
   ]
  },
  {
   "cell_type": "code",
   "execution_count": 75,
   "metadata": {},
   "outputs": [
    {
     "name": "stdout",
     "output_type": "stream",
     "text": [
      "UKUPAN BROJ RAZLICITIH KATEGORIJA NAKON SPAJANJA 37\n",
      "category\n",
      "ARTS & CULTURE       3878\n",
      "BLACK VOICES         4528\n",
      "BUSINESS             5937\n",
      "COLLEGE              1144\n",
      "COMEDY               5175\n",
      "CRIME                3405\n",
      "DIVORCE              3426\n",
      "EDUCATION            1004\n",
      "ENTERTAINMENT       16058\n",
      "ENVIRONMENT          1323\n",
      "FIFTY                1401\n",
      "FOOD & DRINK         6226\n",
      "GOOD NEWS            1398\n",
      "GREEN                2622\n",
      "HEALTHY LIVING       6694\n",
      "HOME & LIVING        4195\n",
      "IMPACT               3459\n",
      "LATINO VOICES        1129\n",
      "MEDIA                2815\n",
      "MONEY                1707\n",
      "PARENT               8677\n",
      "PARENTS              3955\n",
      "POLITICS            32739\n",
      "QUEER VOICES         6314\n",
      "RELIGION             2556\n",
      "SCIENCE              2178\n",
      "SPORTS               4884\n",
      "STYLE & BEAUTY       9649\n",
      "STYLE AND BEAUTY     2254\n",
      "TASTE                2096\n",
      "TECH                 2082\n",
      "TRAVEL               9887\n",
      "WEDDINGS             3651\n",
      "WEIRD NEWS           2670\n",
      "WELLNESS            17827\n",
      "WOMEN                3490\n",
      "WORLD NEWS           8420\n",
      "dtype: int64\n"
     ]
    }
   ],
   "source": [
    "kategorije_nakon_spajanja = vesti.groupby('category')\n",
    "print(\"UKUPAN BROJ RAZLICITIH KATEGORIJA NAKON SPAJANJA\", kategorije_nakon_spajanja.ngroups)\n",
    "print( kategorije_nakon_spajanja.size())"
   ]
  },
  {
   "cell_type": "code",
   "execution_count": 76,
   "metadata": {},
   "outputs": [
    {
     "name": "stdout",
     "output_type": "stream",
     "text": [
      "broj clanaka:  200853\n",
      "Broj clanaka nakon brisanja:  167360\n"
     ]
    }
   ],
   "source": [
    "#BRISANJE CLANAKA SA KRATKIM NASLOVOM\n",
    "print(\"broj clanaka: \",vesti.shape[0])\n",
    "vesti = vesti[vesti['headline'].apply(lambda x: len(x.split())>6)]\n",
    "print(\"Broj clanaka nakon brisanja: \", vesti.shape[0])"
   ]
  },
  {
   "cell_type": "code",
   "execution_count": 77,
   "metadata": {},
   "outputs": [
    {
     "name": "stderr",
     "output_type": "stream",
     "text": [
      "/home/jovana/anaconda3/lib/python3.7/site-packages/ipykernel_launcher.py:2: SettingWithCopyWarning: \n",
      "A value is trying to be set on a copy of a slice from a DataFrame\n",
      "\n",
      "See the caveats in the documentation: https://pandas.pydata.org/pandas-docs/stable/user_guide/indexing.html#returning-a-view-versus-a-copy\n",
      "  \n"
     ]
    },
    {
     "name": "stdout",
     "output_type": "stream",
     "text": [
      "Broj clanaka nakon brisanja:  165699\n"
     ]
    }
   ],
   "source": [
    "#BRISANJE DUPLIKATA\n",
    "vesti.sort_values('headline',inplace=True, ascending=False)\n",
    "duplikati = vesti.duplicated('headline', keep = False)\n",
    "vesti = vesti[~duplikati]\n",
    "print(\"Broj clanaka nakon brisanja: \", vesti.shape[0])"
   ]
  },
  {
   "cell_type": "code",
   "execution_count": 78,
   "metadata": {},
   "outputs": [
    {
     "data": {
      "text/html": [
       "<div>\n",
       "<style scoped>\n",
       "    .dataframe tbody tr th:only-of-type {\n",
       "        vertical-align: middle;\n",
       "    }\n",
       "\n",
       "    .dataframe tbody tr th {\n",
       "        vertical-align: top;\n",
       "    }\n",
       "\n",
       "    .dataframe thead th {\n",
       "        text-align: right;\n",
       "    }\n",
       "</style>\n",
       "<table border=\"1\" class=\"dataframe\">\n",
       "  <thead>\n",
       "    <tr style=\"text-align: right;\">\n",
       "      <th></th>\n",
       "      <th>category</th>\n",
       "      <th>headline</th>\n",
       "      <th>authors</th>\n",
       "      <th>link</th>\n",
       "      <th>short_description</th>\n",
       "      <th>date</th>\n",
       "    </tr>\n",
       "  </thead>\n",
       "  <tbody>\n",
       "    <tr>\n",
       "      <th>36290</th>\n",
       "      <td>WOMEN</td>\n",
       "      <td>“We Shall Overcomb!” Say The 100,000 Marching ...</td>\n",
       "      <td>Darin Graham, ContributorJournalist</td>\n",
       "      <td>https://www.huffingtonpost.com/entry/we-shall-...</td>\n",
       "      <td>Thousands of activists descended on London to ...</td>\n",
       "      <td>2017-01-25</td>\n",
       "    </tr>\n",
       "    <tr>\n",
       "      <th>21194</th>\n",
       "      <td>HEALTHY LIVING</td>\n",
       "      <td>“To The Bone” Didn’t Teach Me Glamour. It Taug...</td>\n",
       "      <td>Mycah Hazel, Contributorblogger, equal opportu...</td>\n",
       "      <td>https://www.huffingtonpost.com/entry/to-the-bo...</td>\n",
       "      <td>Oftentimes, films or TV shows about eating dis...</td>\n",
       "      <td>2017-07-18</td>\n",
       "    </tr>\n",
       "    <tr>\n",
       "      <th>29672</th>\n",
       "      <td>BUSINESS</td>\n",
       "      <td>“I’m Sorry\"--The Two Tragically Forgotten Word...</td>\n",
       "      <td>Dana Brownlee, ContributorPresident of Profess...</td>\n",
       "      <td>https://www.huffingtonpost.com/entry/im-sorryt...</td>\n",
       "      <td>Unfortunately, I was one of those frustrated p...</td>\n",
       "      <td>2017-04-10</td>\n",
       "    </tr>\n",
       "    <tr>\n",
       "      <th>199048</th>\n",
       "      <td>DIVORCE</td>\n",
       "      <td>‘Your Divorce Ruined My Life' What To Do When ...</td>\n",
       "      <td></td>\n",
       "      <td>https://www.huffingtonpost.comhttp://www.thegl...</td>\n",
       "      <td>It was Sunday night and Lucas’s mother had had...</td>\n",
       "      <td>2012-02-16</td>\n",
       "    </tr>\n",
       "    <tr>\n",
       "      <th>193783</th>\n",
       "      <td>DIVORCE</td>\n",
       "      <td>‘You Better Sit Down,' By The Civilians, At Fl...</td>\n",
       "      <td></td>\n",
       "      <td>https://www.huffingtonpost.comhttp://theater.n...</td>\n",
       "      <td>The Civilians, the enterprising troupe special...</td>\n",
       "      <td>2012-04-13</td>\n",
       "    </tr>\n",
       "  </tbody>\n",
       "</table>\n",
       "</div>"
      ],
      "text/plain": [
       "              category                                           headline  \\\n",
       "36290            WOMEN  “We Shall Overcomb!” Say The 100,000 Marching ...   \n",
       "21194   HEALTHY LIVING  “To The Bone” Didn’t Teach Me Glamour. It Taug...   \n",
       "29672         BUSINESS  “I’m Sorry\"--The Two Tragically Forgotten Word...   \n",
       "199048         DIVORCE  ‘Your Divorce Ruined My Life' What To Do When ...   \n",
       "193783         DIVORCE  ‘You Better Sit Down,' By The Civilians, At Fl...   \n",
       "\n",
       "                                                  authors  \\\n",
       "36290                 Darin Graham, ContributorJournalist   \n",
       "21194   Mycah Hazel, Contributorblogger, equal opportu...   \n",
       "29672   Dana Brownlee, ContributorPresident of Profess...   \n",
       "199048                                                      \n",
       "193783                                                      \n",
       "\n",
       "                                                     link  \\\n",
       "36290   https://www.huffingtonpost.com/entry/we-shall-...   \n",
       "21194   https://www.huffingtonpost.com/entry/to-the-bo...   \n",
       "29672   https://www.huffingtonpost.com/entry/im-sorryt...   \n",
       "199048  https://www.huffingtonpost.comhttp://www.thegl...   \n",
       "193783  https://www.huffingtonpost.comhttp://theater.n...   \n",
       "\n",
       "                                        short_description       date  \n",
       "36290   Thousands of activists descended on London to ... 2017-01-25  \n",
       "21194   Oftentimes, films or TV shows about eating dis... 2017-07-18  \n",
       "29672   Unfortunately, I was one of those frustrated p... 2017-04-10  \n",
       "199048  It was Sunday night and Lucas’s mother had had... 2012-02-16  \n",
       "193783  The Civilians, the enterprising troupe special... 2012-04-13  "
      ]
     },
     "execution_count": 78,
     "metadata": {},
     "output_type": "execute_result"
    },
    {
     "data": {
      "image/png": "[encoded data removed]",
      "text/plain": [
       "<Figure size 1080x720 with 1 Axes>"
      ]
     },
     "metadata": {
      "needs_background": "light"
     },
     "output_type": "display_data"
    }
   ],
   "source": [
    "vesti['category'].value_counts().plot(kind='barh', figsize=(15,10))\n",
    "plt.xlabel(\"Ukupno\")\n",
    "plt.ylabel(\"Kategorija\")\n",
    "plt.title(\"Raspored vesti po kategorijama\",\n",
    "          fontweight=\"bold\", size=12);\n",
    "vesti.head(5)"
   ]
  },
  {
   "cell_type": "code",
   "execution_count": 79,
   "metadata": {},
   "outputs": [
    {
     "data": {
      "text/html": [
       "<div>\n",
       "<style scoped>\n",
       "    .dataframe tbody tr th:only-of-type {\n",
       "        vertical-align: middle;\n",
       "    }\n",
       "\n",
       "    .dataframe tbody tr th {\n",
       "        vertical-align: top;\n",
       "    }\n",
       "\n",
       "    .dataframe thead th {\n",
       "        text-align: right;\n",
       "    }\n",
       "</style>\n",
       "<table border=\"1\" class=\"dataframe\">\n",
       "  <thead>\n",
       "    <tr style=\"text-align: right;\">\n",
       "      <th></th>\n",
       "      <th>tekst</th>\n",
       "      <th>kategorija</th>\n",
       "    </tr>\n",
       "  </thead>\n",
       "  <tbody>\n",
       "    <tr>\n",
       "      <th>36290</th>\n",
       "      <td>“We Shall Overcomb!” Say The 100,000 Marching ...</td>\n",
       "      <td>WOMEN</td>\n",
       "    </tr>\n",
       "    <tr>\n",
       "      <th>21194</th>\n",
       "      <td>“To The Bone” Didn’t Teach Me Glamour. It Taug...</td>\n",
       "      <td>HEALTHY LIVING</td>\n",
       "    </tr>\n",
       "    <tr>\n",
       "      <th>29672</th>\n",
       "      <td>“I’m Sorry\"--The Two Tragically Forgotten Word...</td>\n",
       "      <td>BUSINESS</td>\n",
       "    </tr>\n",
       "    <tr>\n",
       "      <th>199048</th>\n",
       "      <td>‘Your Divorce Ruined My Life' What To Do When ...</td>\n",
       "      <td>DIVORCE</td>\n",
       "    </tr>\n",
       "    <tr>\n",
       "      <th>193783</th>\n",
       "      <td>‘You Better Sit Down,' By The Civilians, At Fl...</td>\n",
       "      <td>DIVORCE</td>\n",
       "    </tr>\n",
       "    <tr>\n",
       "      <th>112446</th>\n",
       "      <td>‘Yes' Is Better Than ‘No' When It Comes To Con...</td>\n",
       "      <td>WOMEN</td>\n",
       "    </tr>\n",
       "    <tr>\n",
       "      <th>2932</th>\n",
       "      <td>‘Will &amp; Grace’ Creator To Donate Gay Bunny Boo...</td>\n",
       "      <td>QUEER VOICES</td>\n",
       "    </tr>\n",
       "    <tr>\n",
       "      <th>67601</th>\n",
       "      <td>‘Wild Boar Curling’ Rescues Stranded Wild Boar...</td>\n",
       "      <td>WEIRD NEWS</td>\n",
       "    </tr>\n",
       "    <tr>\n",
       "      <th>85380</th>\n",
       "      <td>‘We’re Never Gonna Forget’: Eric Garner’s Fami...</td>\n",
       "      <td>BLACK VOICES</td>\n",
       "    </tr>\n",
       "    <tr>\n",
       "      <th>25186</th>\n",
       "      <td>‘We Are the Same Blood’: The Invisible Lives O...</td>\n",
       "      <td>WORLD NEWS</td>\n",
       "    </tr>\n",
       "  </tbody>\n",
       "</table>\n",
       "</div>"
      ],
      "text/plain": [
       "                                                    tekst      kategorija\n",
       "36290   “We Shall Overcomb!” Say The 100,000 Marching ...           WOMEN\n",
       "21194   “To The Bone” Didn’t Teach Me Glamour. It Taug...  HEALTHY LIVING\n",
       "29672   “I’m Sorry\"--The Two Tragically Forgotten Word...        BUSINESS\n",
       "199048  ‘Your Divorce Ruined My Life' What To Do When ...         DIVORCE\n",
       "193783  ‘You Better Sit Down,' By The Civilians, At Fl...         DIVORCE\n",
       "112446  ‘Yes' Is Better Than ‘No' When It Comes To Con...           WOMEN\n",
       "2932    ‘Will & Grace’ Creator To Donate Gay Bunny Boo...    QUEER VOICES\n",
       "67601   ‘Wild Boar Curling’ Rescues Stranded Wild Boar...      WEIRD NEWS\n",
       "85380   ‘We’re Never Gonna Forget’: Eric Garner’s Fami...    BLACK VOICES\n",
       "25186   ‘We Are the Same Blood’: The Invisible Lives O...      WORLD NEWS"
      ]
     },
     "execution_count": 79,
     "metadata": {},
     "output_type": "execute_result"
    }
   ],
   "source": [
    "#pravljenje tabele koja ce imati kolone tekst i kategorija\n",
    "vesti['tekst'] = vesti['headline'] + vesti['short_description'] + vesti['authors']\n",
    "vesti['kategorija'] = vesti['category']\n",
    "del vesti['headline']\n",
    "del vesti['short_description']\n",
    "del vesti['date']\n",
    "del vesti['authors']\n",
    "del vesti['link']\n",
    "del vesti['category']\n",
    "vesti.head(10)"
   ]
  },
  {
   "cell_type": "code",
   "execution_count": 80,
   "metadata": {},
   "outputs": [],
   "source": [
    "def get_simple_pos(tag):\n",
    "    if tag.startswith('J'):\n",
    "        return wordnet.ADJ\n",
    "    elif tag.startswith('V'):\n",
    "        return wordnet.VERB\n",
    "    elif tag.startswith('N'):\n",
    "        return wordnet.NOUN\n",
    "    elif tag.startswith('R'):\n",
    "        return wordnet.ADV\n",
    "    else:\n",
    "        return wordnet.NOUN"
   ]
  },
  {
   "cell_type": "code",
   "execution_count": 81,
   "metadata": {},
   "outputs": [],
   "source": [
    "STOPWORDS = set(stopwords.words('english'))\n",
    "punctuation = list(punctuation)\n",
    "STOPWORDS.update(punctuation)\n",
    "\n",
    "lemmatizer = WordNetLemmatizer()\n",
    "\n",
    "def predprocesiranje(text):\n",
    "    text = text.lower()\n",
    "    text = re.compile('[/(){}\\[\\]\\|@,;]').sub('', text) \n",
    "    text =re.compile('[^0-9a-z #+_]').sub('', text)\n",
    "    \n",
    "    clean_text = []\n",
    "    for w in word_tokenize(text):\n",
    "        if w.lower() not in STOPWORDS:\n",
    "            pos = pos_tag([w])\n",
    "            new_w = lemmatizer.lemmatize(w, pos=get_simple_pos(pos[0][1]))\n",
    "            clean_text.append(new_w)\n",
    "    text = \" \".join(clean_text)\n",
    "    \n",
    "    return text"
   ]
  },
  {
   "cell_type": "code",
   "execution_count": null,
   "metadata": {},
   "outputs": [],
   "source": [
    "vesti['tekst'] = vesti['tekst'].apply(predprocesiranje)"
   ]
  },
  {
   "cell_type": "code",
   "execution_count": null,
   "metadata": {},
   "outputs": [],
   "source": [
    " vesti.to_csv('vesti.csv', columns=['tekst', 'kategorija'])"
   ]
  },
  {
   "cell_type": "code",
   "execution_count": null,
   "metadata": {},
   "outputs": [],
   "source": [
    "vesti = pd.read_csv('vesti.csv')"
   ]
  },
  {
   "cell_type": "code",
   "execution_count": null,
   "metadata": {},
   "outputs": [],
   "source": []
  }
 ],
 "metadata": {
  "kernelspec": {
   "display_name": "Python 3",
   "language": "python",
   "name": "python3"
  },
  "language_info": {
   "codemirror_mode": {
    "name": "ipython",
    "version": 3
   },
   "file_extension": ".py",
   "mimetype": "text/x-python",
   "name": "python",
   "nbconvert_exporter": "python",
   "pygments_lexer": "ipython3",
   "version": "3.7.6"
  }
 },
 "nbformat": 4,
 "nbformat_minor": 4
}
