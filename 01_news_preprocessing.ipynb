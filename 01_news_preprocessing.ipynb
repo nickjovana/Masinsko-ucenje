{
 "cells": [
  {
   "cell_type": "code",
   "execution_count": 1,
   "metadata": {},
   "outputs": [],
   "source": [
    "import numpy as np\n",
    "import pandas as pd\n",
    "import nltk\n",
    "from nltk.tokenize import sent_tokenize, word_tokenize\n",
    "from nltk.stem import PorterStemmer\n",
    "import re\n",
    "import pickle\n",
    "from sklearn.feature_extraction.text import TfidfVectorizer\n",
    "from sklearn.model_selection import train_test_split\n",
    "from matplotlib import pyplot as plt\n",
    "from string import punctuation\n",
    "from nltk import pos_tag\n",
    "from nltk.corpus import stopwords, wordnet\n",
    "from nltk.stem import WordNetLemmatizer\n",
    "from sklearn import metrics\n",
    "from sklearn import preprocessing\n",
    "from sklearn import feature_extraction\n",
    "from sklearn import linear_model\n",
    "from sklearn import svm\n",
    "from sklearn import neighbors"
   ]
  },
  {
   "cell_type": "code",
   "execution_count": 2,
   "metadata": {},
   "outputs": [
    {
     "data": {
      "text/plain": [
       "True"
      ]
     },
     "execution_count": 2,
     "metadata": {},
     "output_type": "execute_result"
    }
   ],
   "source": [
    "nltk.download('stopwords', quiet=True)\n",
    "nltk.download('punkt', quiet=True)\n",
    "nltk.download('averaged_perceptron_tagger', quiet=True)\n",
    "nltk.download('wordnet', quiet=True)"
   ]
  },
  {
   "cell_type": "markdown",
   "metadata": {},
   "source": [
    "Kolekcija podataka koja se nalazi u datoteci \"News_Category_Dataset_v2.json\" sadrži podatke o novinskim člancima koji su sakupljeni tokom perioda od 2012 do 2018 sa sajta www.huffpost.com. Podaci koji će biti korišćeni mogu se naći na sledećem linku: https://www.kaggle.com/rmisra/news-category-dataset."
   ]
  },
  {
   "cell_type": "code",
   "execution_count": 3,
   "metadata": {},
   "outputs": [],
   "source": [
    "data = pd.read_json(\"data/News_Category_Dataset_v2.json\", lines = True)"
   ]
  },
  {
   "cell_type": "code",
   "execution_count": 4,
   "metadata": {
    "scrolled": true
   },
   "outputs": [
    {
     "name": "stdout",
     "output_type": "stream",
     "text": [
      "<class 'pandas.core.frame.DataFrame'>\n",
      "RangeIndex: 200853 entries, 0 to 200852\n",
      "Data columns (total 6 columns):\n",
      " #   Column             Non-Null Count   Dtype         \n",
      "---  ------             --------------   -----         \n",
      " 0   category           200853 non-null  object        \n",
      " 1   headline           200853 non-null  object        \n",
      " 2   authors            200853 non-null  object        \n",
      " 3   link               200853 non-null  object        \n",
      " 4   short_description  200853 non-null  object        \n",
      " 5   date               200853 non-null  datetime64[ns]\n",
      "dtypes: datetime64[ns](1), object(5)\n",
      "memory usage: 9.2+ MB\n"
     ]
    }
   ],
   "source": [
    "data.info()"
   ]
  },
  {
   "cell_type": "code",
   "execution_count": 5,
   "metadata": {},
   "outputs": [
    {
     "data": {
      "text/html": [
       "<div>\n",
       "<style scoped>\n",
       "    .dataframe tbody tr th:only-of-type {\n",
       "        vertical-align: middle;\n",
       "    }\n",
       "\n",
       "    .dataframe tbody tr th {\n",
       "        vertical-align: top;\n",
       "    }\n",
       "\n",
       "    .dataframe thead th {\n",
       "        text-align: right;\n",
       "    }\n",
       "</style>\n",
       "<table border=\"1\" class=\"dataframe\">\n",
       "  <thead>\n",
       "    <tr style=\"text-align: right;\">\n",
       "      <th></th>\n",
       "      <th>category</th>\n",
       "      <th>headline</th>\n",
       "      <th>authors</th>\n",
       "      <th>link</th>\n",
       "      <th>short_description</th>\n",
       "      <th>date</th>\n",
       "    </tr>\n",
       "  </thead>\n",
       "  <tbody>\n",
       "    <tr>\n",
       "      <th>0</th>\n",
       "      <td>CRIME</td>\n",
       "      <td>There Were 2 Mass Shootings In Texas Last Week...</td>\n",
       "      <td>Melissa Jeltsen</td>\n",
       "      <td>https://www.huffingtonpost.com/entry/texas-ama...</td>\n",
       "      <td>She left her husband. He killed their children...</td>\n",
       "      <td>2018-05-26</td>\n",
       "    </tr>\n",
       "    <tr>\n",
       "      <th>1</th>\n",
       "      <td>ENTERTAINMENT</td>\n",
       "      <td>Will Smith Joins Diplo And Nicky Jam For The 2...</td>\n",
       "      <td>Andy McDonald</td>\n",
       "      <td>https://www.huffingtonpost.com/entry/will-smit...</td>\n",
       "      <td>Of course it has a song.</td>\n",
       "      <td>2018-05-26</td>\n",
       "    </tr>\n",
       "    <tr>\n",
       "      <th>2</th>\n",
       "      <td>ENTERTAINMENT</td>\n",
       "      <td>Hugh Grant Marries For The First Time At Age 57</td>\n",
       "      <td>Ron Dicker</td>\n",
       "      <td>https://www.huffingtonpost.com/entry/hugh-gran...</td>\n",
       "      <td>The actor and his longtime girlfriend Anna Ebe...</td>\n",
       "      <td>2018-05-26</td>\n",
       "    </tr>\n",
       "    <tr>\n",
       "      <th>3</th>\n",
       "      <td>ENTERTAINMENT</td>\n",
       "      <td>Jim Carrey Blasts 'Castrato' Adam Schiff And D...</td>\n",
       "      <td>Ron Dicker</td>\n",
       "      <td>https://www.huffingtonpost.com/entry/jim-carre...</td>\n",
       "      <td>The actor gives Dems an ass-kicking for not fi...</td>\n",
       "      <td>2018-05-26</td>\n",
       "    </tr>\n",
       "    <tr>\n",
       "      <th>4</th>\n",
       "      <td>ENTERTAINMENT</td>\n",
       "      <td>Julianna Margulies Uses Donald Trump Poop Bags...</td>\n",
       "      <td>Ron Dicker</td>\n",
       "      <td>https://www.huffingtonpost.com/entry/julianna-...</td>\n",
       "      <td>The \"Dietland\" actress said using the bags is ...</td>\n",
       "      <td>2018-05-26</td>\n",
       "    </tr>\n",
       "    <tr>\n",
       "      <th>5</th>\n",
       "      <td>ENTERTAINMENT</td>\n",
       "      <td>Morgan Freeman 'Devastated' That Sexual Harass...</td>\n",
       "      <td>Ron Dicker</td>\n",
       "      <td>https://www.huffingtonpost.com/entry/morgan-fr...</td>\n",
       "      <td>\"It is not right to equate horrific incidents ...</td>\n",
       "      <td>2018-05-26</td>\n",
       "    </tr>\n",
       "    <tr>\n",
       "      <th>6</th>\n",
       "      <td>ENTERTAINMENT</td>\n",
       "      <td>Donald Trump Is Lovin' New McDonald's Jingle I...</td>\n",
       "      <td>Ron Dicker</td>\n",
       "      <td>https://www.huffingtonpost.com/entry/donald-tr...</td>\n",
       "      <td>It's catchy, all right.</td>\n",
       "      <td>2018-05-26</td>\n",
       "    </tr>\n",
       "    <tr>\n",
       "      <th>7</th>\n",
       "      <td>ENTERTAINMENT</td>\n",
       "      <td>What To Watch On Amazon Prime That’s New This ...</td>\n",
       "      <td>Todd Van Luling</td>\n",
       "      <td>https://www.huffingtonpost.com/entry/amazon-pr...</td>\n",
       "      <td>There's a great mini-series joining this week.</td>\n",
       "      <td>2018-05-26</td>\n",
       "    </tr>\n",
       "    <tr>\n",
       "      <th>8</th>\n",
       "      <td>ENTERTAINMENT</td>\n",
       "      <td>Mike Myers Reveals He'd 'Like To' Do A Fourth ...</td>\n",
       "      <td>Andy McDonald</td>\n",
       "      <td>https://www.huffingtonpost.com/entry/mike-myer...</td>\n",
       "      <td>Myer's kids may be pushing for a new \"Powers\" ...</td>\n",
       "      <td>2018-05-26</td>\n",
       "    </tr>\n",
       "    <tr>\n",
       "      <th>9</th>\n",
       "      <td>ENTERTAINMENT</td>\n",
       "      <td>What To Watch On Hulu That’s New This Week</td>\n",
       "      <td>Todd Van Luling</td>\n",
       "      <td>https://www.huffingtonpost.com/entry/hulu-what...</td>\n",
       "      <td>You're getting a recent Academy Award-winning ...</td>\n",
       "      <td>2018-05-26</td>\n",
       "    </tr>\n",
       "  </tbody>\n",
       "</table>\n",
       "</div>"
      ],
      "text/plain": [
       "        category                                           headline  \\\n",
       "0          CRIME  There Were 2 Mass Shootings In Texas Last Week...   \n",
       "1  ENTERTAINMENT  Will Smith Joins Diplo And Nicky Jam For The 2...   \n",
       "2  ENTERTAINMENT    Hugh Grant Marries For The First Time At Age 57   \n",
       "3  ENTERTAINMENT  Jim Carrey Blasts 'Castrato' Adam Schiff And D...   \n",
       "4  ENTERTAINMENT  Julianna Margulies Uses Donald Trump Poop Bags...   \n",
       "5  ENTERTAINMENT  Morgan Freeman 'Devastated' That Sexual Harass...   \n",
       "6  ENTERTAINMENT  Donald Trump Is Lovin' New McDonald's Jingle I...   \n",
       "7  ENTERTAINMENT  What To Watch On Amazon Prime That’s New This ...   \n",
       "8  ENTERTAINMENT  Mike Myers Reveals He'd 'Like To' Do A Fourth ...   \n",
       "9  ENTERTAINMENT         What To Watch On Hulu That’s New This Week   \n",
       "\n",
       "           authors                                               link  \\\n",
       "0  Melissa Jeltsen  https://www.huffingtonpost.com/entry/texas-ama...   \n",
       "1    Andy McDonald  https://www.huffingtonpost.com/entry/will-smit...   \n",
       "2       Ron Dicker  https://www.huffingtonpost.com/entry/hugh-gran...   \n",
       "3       Ron Dicker  https://www.huffingtonpost.com/entry/jim-carre...   \n",
       "4       Ron Dicker  https://www.huffingtonpost.com/entry/julianna-...   \n",
       "5       Ron Dicker  https://www.huffingtonpost.com/entry/morgan-fr...   \n",
       "6       Ron Dicker  https://www.huffingtonpost.com/entry/donald-tr...   \n",
       "7  Todd Van Luling  https://www.huffingtonpost.com/entry/amazon-pr...   \n",
       "8    Andy McDonald  https://www.huffingtonpost.com/entry/mike-myer...   \n",
       "9  Todd Van Luling  https://www.huffingtonpost.com/entry/hulu-what...   \n",
       "\n",
       "                                   short_description       date  \n",
       "0  She left her husband. He killed their children... 2018-05-26  \n",
       "1                           Of course it has a song. 2018-05-26  \n",
       "2  The actor and his longtime girlfriend Anna Ebe... 2018-05-26  \n",
       "3  The actor gives Dems an ass-kicking for not fi... 2018-05-26  \n",
       "4  The \"Dietland\" actress said using the bags is ... 2018-05-26  \n",
       "5  \"It is not right to equate horrific incidents ... 2018-05-26  \n",
       "6                            It's catchy, all right. 2018-05-26  \n",
       "7     There's a great mini-series joining this week. 2018-05-26  \n",
       "8  Myer's kids may be pushing for a new \"Powers\" ... 2018-05-26  \n",
       "9  You're getting a recent Academy Award-winning ... 2018-05-26  "
      ]
     },
     "execution_count": 5,
     "metadata": {},
     "output_type": "execute_result"
    }
   ],
   "source": [
    "data.head(10)"
   ]
  },
  {
   "cell_type": "code",
   "execution_count": 6,
   "metadata": {},
   "outputs": [
    {
     "name": "stdout",
     "output_type": "stream",
     "text": [
      "Broj razlicitih autora :  27993\n"
     ]
    }
   ],
   "source": [
    "print(\"Broj razlicitih autora : \", data[\"authors\"].nunique())"
   ]
  },
  {
   "cell_type": "code",
   "execution_count": 7,
   "metadata": {},
   "outputs": [
    {
     "name": "stdout",
     "output_type": "stream",
     "text": [
      "UKUPAN BROJ RAZLIČITIH KATEGORIJA:  41\n",
      "category\n",
      "ARTS               1509\n",
      "ARTS & CULTURE     1339\n",
      "BLACK VOICES       4528\n",
      "BUSINESS           5937\n",
      "COLLEGE            1144\n",
      "COMEDY             5175\n",
      "CRIME              3405\n",
      "CULTURE & ARTS     1030\n",
      "DIVORCE            3426\n",
      "EDUCATION          1004\n",
      "ENTERTAINMENT     16058\n",
      "ENVIRONMENT        1323\n",
      "FIFTY              1401\n",
      "FOOD & DRINK       6226\n",
      "GOOD NEWS          1398\n",
      "GREEN              2622\n",
      "HEALTHY LIVING     6694\n",
      "HOME & LIVING      4195\n",
      "IMPACT             3459\n",
      "LATINO VOICES      1129\n",
      "MEDIA              2815\n",
      "MONEY              1707\n",
      "PARENTING          8677\n",
      "PARENTS            3955\n",
      "POLITICS          32739\n",
      "QUEER VOICES       6314\n",
      "RELIGION           2556\n",
      "SCIENCE            2178\n",
      "SPORTS             4884\n",
      "STYLE              2254\n",
      "STYLE & BEAUTY     9649\n",
      "TASTE              2096\n",
      "TECH               2082\n",
      "THE WORLDPOST      3664\n",
      "TRAVEL             9887\n",
      "WEDDINGS           3651\n",
      "WEIRD NEWS         2670\n",
      "WELLNESS          17827\n",
      "WOMEN              3490\n",
      "WORLD NEWS         2177\n",
      "WORLDPOST          2579\n",
      "dtype: int64\n"
     ]
    }
   ],
   "source": [
    "categories = data.groupby('category')\n",
    "print(\"UKUPAN BROJ RAZLIČITIH KATEGORIJA: \", categories.ngroups)\n",
    "print(categories.size())"
   ]
  },
  {
   "cell_type": "markdown",
   "metadata": {},
   "source": [
    "Neke kategorije sadrže isti tip vesti a kategorija nosi sličan naziv, pa čemo izvršiti spajanje:"
   ]
  },
  {
   "cell_type": "code",
   "execution_count": 8,
   "metadata": {},
   "outputs": [],
   "source": [
    "data.category = data.category.map(lambda x: \"WORLDPOST\" if x == \"THE WORLDPOST\" else x)\n",
    "data.category = data.category.map(lambda x: \"WORLD NEWS\" if x == \"WORLDPOST\" else x)\n",
    "data.category = data.category.map(lambda x: \"STYLE AND BEAUTY\" if x == \"STYLE\" else x)\n",
    "data.category = data.category.map(lambda x: \"STYLE AND BEAUTY\" if x == \"STYLE & BEAUTY\" else x)\n",
    "data.category = data.category.map(lambda x: \"PARENT\" if x == \"PARENTING\" else x)\n",
    "data.category = data.category.map(lambda x: \"ARTS & CULTURE\" if x == \"ARTS\" else x)\n",
    "data.category = data.category.map(lambda x: \"ARTS & CULTURE\" if x == \"CULTURE & ARTS\" else x)"
   ]
  },
  {
   "cell_type": "code",
   "execution_count": 9,
   "metadata": {},
   "outputs": [
    {
     "name": "stdout",
     "output_type": "stream",
     "text": [
      "UKUPAN BROJ RAZLIČITIH KATEGORIJA NAKON SPAJANJA:  36\n",
      "category\n",
      "ARTS & CULTURE       3878\n",
      "BLACK VOICES         4528\n",
      "BUSINESS             5937\n",
      "COLLEGE              1144\n",
      "COMEDY               5175\n",
      "CRIME                3405\n",
      "DIVORCE              3426\n",
      "EDUCATION            1004\n",
      "ENTERTAINMENT       16058\n",
      "ENVIRONMENT          1323\n",
      "FIFTY                1401\n",
      "FOOD & DRINK         6226\n",
      "GOOD NEWS            1398\n",
      "GREEN                2622\n",
      "HEALTHY LIVING       6694\n",
      "HOME & LIVING        4195\n",
      "IMPACT               3459\n",
      "LATINO VOICES        1129\n",
      "MEDIA                2815\n",
      "MONEY                1707\n",
      "PARENT               8677\n",
      "PARENTS              3955\n",
      "POLITICS            32739\n",
      "QUEER VOICES         6314\n",
      "RELIGION             2556\n",
      "SCIENCE              2178\n",
      "SPORTS               4884\n",
      "STYLE AND BEAUTY    11903\n",
      "TASTE                2096\n",
      "TECH                 2082\n",
      "TRAVEL               9887\n",
      "WEDDINGS             3651\n",
      "WEIRD NEWS           2670\n",
      "WELLNESS            17827\n",
      "WOMEN                3490\n",
      "WORLD NEWS           8420\n",
      "dtype: int64\n"
     ]
    }
   ],
   "source": [
    "categories_after_grouping = data.groupby('category')\n",
    "print(\"UKUPAN BROJ RAZLIČITIH KATEGORIJA NAKON SPAJANJA: \", categories_after_grouping.ngroups)\n",
    "print(categories_after_grouping.size())"
   ]
  },
  {
   "cell_type": "markdown",
   "metadata": {},
   "source": [
    "Izvšićemo brisanje članaka koji su duplirani:"
   ]
  },
  {
   "cell_type": "code",
   "execution_count": 10,
   "metadata": {},
   "outputs": [
    {
     "name": "stdout",
     "output_type": "stream",
     "text": [
      "Broj clanaka pre brisanja:  200853\n",
      "Broj clanaka nakon brisanja:  198627\n"
     ]
    }
   ],
   "source": [
    "print(\"Broj clanaka pre brisanja: \", data.shape[0])\n",
    "data.sort_values('headline', inplace=True, ascending=False)\n",
    "duplicates = data.duplicated('headline', keep = False)\n",
    "data = data[~duplicates]\n",
    "print(\"Broj clanaka nakon brisanja: \", data.shape[0])"
   ]
  },
  {
   "cell_type": "code",
   "execution_count": 11,
   "metadata": {},
   "outputs": [
    {
     "data": {
      "image/png": "[encoded data removed]",
      "text/plain": [
       "<Figure size 1080x720 with 1 Axes>"
      ]
     },
     "metadata": {
      "needs_background": "light"
     },
     "output_type": "display_data"
    }
   ],
   "source": [
    "data['category'].value_counts().plot(kind='barh', figsize=(15,10))\n",
    "plt.xlabel(\"Ukupno\")\n",
    "plt.ylabel(\"Kategorija\")\n",
    "plt.title(\"Raspored vesti po kategorijama\", fontweight=\"bold\", size=12);\n",
    "plt.show()"
   ]
  },
  {
   "cell_type": "markdown",
   "metadata": {},
   "source": [
    "Podelićemo podatke na X i y skupove, gde će y sadžati kolonu <i>category</i> i X sve ostale kolone koje ćemo obraditi:"
   ]
  },
  {
   "cell_type": "code",
   "execution_count": 12,
   "metadata": {},
   "outputs": [
    {
     "data": {
      "text/plain": [
       "36290              WOMEN\n",
       "21194     HEALTHY LIVING\n",
       "29672           BUSINESS\n",
       "199048           DIVORCE\n",
       "193783           DIVORCE\n",
       "112446             WOMEN\n",
       "123546        WEIRD NEWS\n",
       "2932        QUEER VOICES\n",
       "67601         WEIRD NEWS\n",
       "85380       BLACK VOICES\n",
       "Name: category, dtype: object"
      ]
     },
     "execution_count": 12,
     "metadata": {},
     "output_type": "execute_result"
    }
   ],
   "source": [
    "y = data['category']\n",
    "y.head(10)"
   ]
  },
  {
   "cell_type": "code",
   "execution_count": 13,
   "metadata": {},
   "outputs": [
    {
     "data": {
      "text/html": [
       "<div>\n",
       "<style scoped>\n",
       "    .dataframe tbody tr th:only-of-type {\n",
       "        vertical-align: middle;\n",
       "    }\n",
       "\n",
       "    .dataframe tbody tr th {\n",
       "        vertical-align: top;\n",
       "    }\n",
       "\n",
       "    .dataframe thead th {\n",
       "        text-align: right;\n",
       "    }\n",
       "</style>\n",
       "<table border=\"1\" class=\"dataframe\">\n",
       "  <thead>\n",
       "    <tr style=\"text-align: right;\">\n",
       "      <th></th>\n",
       "      <th>headline</th>\n",
       "      <th>authors</th>\n",
       "      <th>link</th>\n",
       "      <th>short_description</th>\n",
       "      <th>date</th>\n",
       "    </tr>\n",
       "  </thead>\n",
       "  <tbody>\n",
       "    <tr>\n",
       "      <th>36290</th>\n",
       "      <td>“We Shall Overcomb!” Say The 100,000 Marching ...</td>\n",
       "      <td>Darin Graham, ContributorJournalist</td>\n",
       "      <td>https://www.huffingtonpost.com/entry/we-shall-...</td>\n",
       "      <td>Thousands of activists descended on London to ...</td>\n",
       "      <td>2017-01-25</td>\n",
       "    </tr>\n",
       "    <tr>\n",
       "      <th>21194</th>\n",
       "      <td>“To The Bone” Didn’t Teach Me Glamour. It Taug...</td>\n",
       "      <td>Mycah Hazel, Contributorblogger, equal opportu...</td>\n",
       "      <td>https://www.huffingtonpost.com/entry/to-the-bo...</td>\n",
       "      <td>Oftentimes, films or TV shows about eating dis...</td>\n",
       "      <td>2017-07-18</td>\n",
       "    </tr>\n",
       "    <tr>\n",
       "      <th>29672</th>\n",
       "      <td>“I’m Sorry\"--The Two Tragically Forgotten Word...</td>\n",
       "      <td>Dana Brownlee, ContributorPresident of Profess...</td>\n",
       "      <td>https://www.huffingtonpost.com/entry/im-sorryt...</td>\n",
       "      <td>Unfortunately, I was one of those frustrated p...</td>\n",
       "      <td>2017-04-10</td>\n",
       "    </tr>\n",
       "    <tr>\n",
       "      <th>199048</th>\n",
       "      <td>‘Your Divorce Ruined My Life' What To Do When ...</td>\n",
       "      <td></td>\n",
       "      <td>https://www.huffingtonpost.comhttp://www.thegl...</td>\n",
       "      <td>It was Sunday night and Lucas’s mother had had...</td>\n",
       "      <td>2012-02-16</td>\n",
       "    </tr>\n",
       "    <tr>\n",
       "      <th>193783</th>\n",
       "      <td>‘You Better Sit Down,' By The Civilians, At Fl...</td>\n",
       "      <td></td>\n",
       "      <td>https://www.huffingtonpost.comhttp://theater.n...</td>\n",
       "      <td>The Civilians, the enterprising troupe special...</td>\n",
       "      <td>2012-04-13</td>\n",
       "    </tr>\n",
       "  </tbody>\n",
       "</table>\n",
       "</div>"
      ],
      "text/plain": [
       "                                                 headline  \\\n",
       "36290   “We Shall Overcomb!” Say The 100,000 Marching ...   \n",
       "21194   “To The Bone” Didn’t Teach Me Glamour. It Taug...   \n",
       "29672   “I’m Sorry\"--The Two Tragically Forgotten Word...   \n",
       "199048  ‘Your Divorce Ruined My Life' What To Do When ...   \n",
       "193783  ‘You Better Sit Down,' By The Civilians, At Fl...   \n",
       "\n",
       "                                                  authors  \\\n",
       "36290                 Darin Graham, ContributorJournalist   \n",
       "21194   Mycah Hazel, Contributorblogger, equal opportu...   \n",
       "29672   Dana Brownlee, ContributorPresident of Profess...   \n",
       "199048                                                      \n",
       "193783                                                      \n",
       "\n",
       "                                                     link  \\\n",
       "36290   https://www.huffingtonpost.com/entry/we-shall-...   \n",
       "21194   https://www.huffingtonpost.com/entry/to-the-bo...   \n",
       "29672   https://www.huffingtonpost.com/entry/im-sorryt...   \n",
       "199048  https://www.huffingtonpost.comhttp://www.thegl...   \n",
       "193783  https://www.huffingtonpost.comhttp://theater.n...   \n",
       "\n",
       "                                        short_description       date  \n",
       "36290   Thousands of activists descended on London to ... 2017-01-25  \n",
       "21194   Oftentimes, films or TV shows about eating dis... 2017-07-18  \n",
       "29672   Unfortunately, I was one of those frustrated p... 2017-04-10  \n",
       "199048  It was Sunday night and Lucas’s mother had had... 2012-02-16  \n",
       "193783  The Civilians, the enterprising troupe special... 2012-04-13  "
      ]
     },
     "execution_count": 13,
     "metadata": {},
     "output_type": "execute_result"
    }
   ],
   "source": [
    "X = data.drop(columns = ['category'], axis = 1)\n",
    "X.head()"
   ]
  },
  {
   "cell_type": "code",
   "execution_count": 14,
   "metadata": {},
   "outputs": [],
   "source": [
    "def get_simple_pos(tag):\n",
    "    if tag.startswith('J'):\n",
    "        return wordnet.ADJ\n",
    "    elif tag.startswith('V'):\n",
    "        return wordnet.VERB\n",
    "    elif tag.startswith('N'):\n",
    "        return wordnet.NOUN\n",
    "    elif tag.startswith('R'):\n",
    "        return wordnet.ADV\n",
    "    else:\n",
    "        return wordnet.NOUN"
   ]
  },
  {
   "cell_type": "code",
   "execution_count": 15,
   "metadata": {},
   "outputs": [],
   "source": [
    "STOPWORDS = set(stopwords.words('english'))\n",
    "punctuation = list(punctuation)\n",
    "STOPWORDS.update(punctuation)\n",
    "\n",
    "lemmatizer = WordNetLemmatizer()\n",
    "\n",
    "def preprocessing_text(text):\n",
    "    text = text.lower()\n",
    "    text = re.compile('[/(){}\\[\\]\\|@,;]').sub('', text) \n",
    "    text = re.compile('[^a-z #+_]').sub('', text)\n",
    "    \n",
    "    clean_text = []\n",
    "    for w in word_tokenize(text):\n",
    "        if w.lower() not in STOPWORDS:\n",
    "            pos = pos_tag([w])\n",
    "            new_w = lemmatizer.lemmatize(w, pos = get_simple_pos(pos[0][1]))\n",
    "            clean_text.append(new_w)\n",
    "    text = \" \".join(clean_text)\n",
    "    \n",
    "    return text"
   ]
  },
  {
   "cell_type": "markdown",
   "metadata": {},
   "source": [
    "Izvršićemo čišćenje teksta pomoću funkcije <i>preprocessing_text</i> i to nad kolonama <i>headline</i>, <i>authors</i> i <i>short_description</i> za slučaj da je vrednost jedna od kolona prazna pa kako ne bismo dobili prazan red u X skupu. Ovom funkcijom ćemo ukloniti stop reči iz engleskog jezika(znakovi interpunkcije, česte reči kao što su a, an, the, I i slično) i brojeve. Takođe, očišćen tekst ćemo sačuvati u novoj koloni <i>text</i> skupa X."
   ]
  },
  {
   "cell_type": "code",
   "execution_count": 16,
   "metadata": {},
   "outputs": [],
   "source": [
    "X['text'] = X['headline'] + \" \" + X['short_description'] + \" \" + X['authors']"
   ]
  },
  {
   "cell_type": "code",
   "execution_count": null,
   "metadata": {},
   "outputs": [],
   "source": [
    "X['text'] = X['text'].apply(preprocessing_text)"
   ]
  },
  {
   "cell_type": "code",
   "execution_count": null,
   "metadata": {},
   "outputs": [],
   "source": [
    "X.head()"
   ]
  },
  {
   "cell_type": "markdown",
   "metadata": {},
   "source": [
    "Kada smo prečistili tekst obrisaćemo kolone koje smo spojili prethodno i kolone <i>link</i> i <i>date</i> koje nam neće biti potrebne:"
   ]
  },
  {
   "cell_type": "code",
   "execution_count": null,
   "metadata": {},
   "outputs": [],
   "source": [
    "X = X.drop(columns = ['headline', 'authors', 'short_description', 'link', 'date'])"
   ]
  },
  {
   "cell_type": "code",
   "execution_count": null,
   "metadata": {},
   "outputs": [],
   "source": [
    "X.head()"
   ]
  },
  {
   "cell_type": "markdown",
   "metadata": {},
   "source": [
    "Novodobijene podatke ćemo dodati u prvobitni skup <i>data</i> u kolonu <i>text</i>, a kolone koje nam nisu potrebne ćemo obrisati:"
   ]
  },
  {
   "cell_type": "code",
   "execution_count": null,
   "metadata": {},
   "outputs": [],
   "source": [
    "data = data.drop(columns = ['headline', 'authors', 'short_description', 'link', 'date'])"
   ]
  },
  {
   "cell_type": "code",
   "execution_count": null,
   "metadata": {},
   "outputs": [],
   "source": [
    "data['text'] = X['text']"
   ]
  },
  {
   "cell_type": "code",
   "execution_count": null,
   "metadata": {},
   "outputs": [],
   "source": [
    "data.head()"
   ]
  },
  {
   "cell_type": "markdown",
   "metadata": {},
   "source": [
    "Očišćene podatke ćemo sačuvati u datoteci <i>vesti.csv</i> kako bismo olakšali učitvanje podataka u kasnijem radu."
   ]
  },
  {
   "cell_type": "code",
   "execution_count": null,
   "metadata": {},
   "outputs": [],
   "source": [
    "data.to_csv('data/vesti.csv', columns=['text', 'category'])"
   ]
  },
  {
   "cell_type": "code",
   "execution_count": null,
   "metadata": {},
   "outputs": [],
   "source": []
  },
  {
   "cell_type": "code",
   "execution_count": null,
   "metadata": {},
   "outputs": [],
   "source": []
  },
  {
   "cell_type": "code",
   "execution_count": null,
   "metadata": {},
   "outputs": [],
   "source": []
  }
 ],
 "metadata": {
  "kernelspec": {
   "display_name": "Python 3",
   "language": "python",
   "name": "python3"
  },
  "language_info": {
   "codemirror_mode": {
    "name": "ipython",
    "version": 3
   },
   "file_extension": ".py",
   "mimetype": "text/x-python",
   "name": "python",
   "nbconvert_exporter": "python",
   "pygments_lexer": "ipython3",
   "version": "3.7.6"
  }
 },
 "nbformat": 4,
 "nbformat_minor": 4
}
