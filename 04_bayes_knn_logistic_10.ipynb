{
 "cells": [
  {
   "cell_type": "code",
   "execution_count": 1,
   "metadata": {},
   "outputs": [],
   "source": [
    "import numpy as np\n",
    "import pandas as pd\n",
    "from sklearn import model_selection\n",
    "from sklearn import metrics\n",
    "from sklearn import preprocessing\n",
    "from sklearn import feature_extraction\n",
    "from sklearn import linear_model\n",
    "from sklearn import multiclass\n",
    "from sklearn import svm\n",
    "from sklearn import neighbors\n",
    "from sklearn import naive_bayes\n",
    "from sklearn.naive_bayes import MultinomialNB\n",
    "from sklearn.metrics import classification_report\n",
    "from sklearn.metrics import accuracy_score ,confusion_matrix\n",
    "import matplotlib.pyplot as plt"
   ]
  },
  {
   "cell_type": "markdown",
   "metadata": {},
   "source": [
    "Učitavanje predprocesiranih podataka"
   ]
  },
  {
   "cell_type": "code",
   "execution_count": 2,
   "metadata": {},
   "outputs": [
    {
     "name": "stdout",
     "output_type": "stream",
     "text": [
      "<class 'pandas.core.frame.DataFrame'>\n",
      "RangeIndex: 198627 entries, 0 to 198626\n",
      "Data columns (total 3 columns):\n",
      " #   Column      Non-Null Count   Dtype \n",
      "---  ------      --------------   ----- \n",
      " 0   Unnamed: 0  198627 non-null  int64 \n",
      " 1   text        198626 non-null  object\n",
      " 2   category    198627 non-null  object\n",
      "dtypes: int64(1), object(2)\n",
      "memory usage: 4.5+ MB\n"
     ]
    },
    {
     "data": {
      "text/html": [
       "<div>\n",
       "<style scoped>\n",
       "    .dataframe tbody tr th:only-of-type {\n",
       "        vertical-align: middle;\n",
       "    }\n",
       "\n",
       "    .dataframe tbody tr th {\n",
       "        vertical-align: top;\n",
       "    }\n",
       "\n",
       "    .dataframe thead th {\n",
       "        text-align: right;\n",
       "    }\n",
       "</style>\n",
       "<table border=\"1\" class=\"dataframe\">\n",
       "  <thead>\n",
       "    <tr style=\"text-align: right;\">\n",
       "      <th></th>\n",
       "      <th>Unnamed: 0</th>\n",
       "      <th>text</th>\n",
       "      <th>category</th>\n",
       "    </tr>\n",
       "  </thead>\n",
       "  <tbody>\n",
       "    <tr>\n",
       "      <th>0</th>\n",
       "      <td>36290</td>\n",
       "      <td>shall overcomb say march trump london thousand...</td>\n",
       "      <td>WOMEN</td>\n",
       "    </tr>\n",
       "    <tr>\n",
       "      <th>1</th>\n",
       "      <td>21194</td>\n",
       "      <td>bone didnt teach glamour taught respect oftent...</td>\n",
       "      <td>HEALTHY LIVING</td>\n",
       "    </tr>\n",
       "    <tr>\n",
       "      <th>2</th>\n",
       "      <td>29672</td>\n",
       "      <td>im sorrythe two tragically forgotten word cust...</td>\n",
       "      <td>BUSINESS</td>\n",
       "    </tr>\n",
       "    <tr>\n",
       "      <th>3</th>\n",
       "      <td>199048</td>\n",
       "      <td>divorce ruin life child blame sunday night luc...</td>\n",
       "      <td>DIVORCE</td>\n",
       "    </tr>\n",
       "    <tr>\n",
       "      <th>4</th>\n",
       "      <td>193783</td>\n",
       "      <td>well sit civilian flea theater civilian enterp...</td>\n",
       "      <td>DIVORCE</td>\n",
       "    </tr>\n",
       "  </tbody>\n",
       "</table>\n",
       "</div>"
      ],
      "text/plain": [
       "   Unnamed: 0                                               text  \\\n",
       "0       36290  shall overcomb say march trump london thousand...   \n",
       "1       21194  bone didnt teach glamour taught respect oftent...   \n",
       "2       29672  im sorrythe two tragically forgotten word cust...   \n",
       "3      199048  divorce ruin life child blame sunday night luc...   \n",
       "4      193783  well sit civilian flea theater civilian enterp...   \n",
       "\n",
       "         category  \n",
       "0           WOMEN  \n",
       "1  HEALTHY LIVING  \n",
       "2        BUSINESS  \n",
       "3         DIVORCE  \n",
       "4         DIVORCE  "
      ]
     },
     "execution_count": 2,
     "metadata": {},
     "output_type": "execute_result"
    }
   ],
   "source": [
    "news = pd.read_csv('data/vesti.csv')\n",
    "news.info()\n",
    "news.head()"
   ]
  },
  {
   "cell_type": "markdown",
   "metadata": {},
   "source": [
    "Zbog lošijeg modela, u pokušaju bolje klasifikacije izdvajamo 10 klasa koje su se pokazale najbolje na modelu sa 36 klasa."
   ]
  },
  {
   "cell_type": "code",
   "execution_count": 3,
   "metadata": {},
   "outputs": [],
   "source": [
    "categories = ['DIVORCE', 'WEDDINGS', 'STYLE AND BEAUTY', 'QUEER VOICES', 'POLITICS', 'HOME & LIVING', 'TRAVEL', 'WORLD NEWS', 'SPORTS', 'ENTERTAINMENT']\n",
    "news = news[news.category.isin(categories)]\n",
    "\n"
   ]
  },
  {
   "cell_type": "code",
   "execution_count": 4,
   "metadata": {},
   "outputs": [
    {
     "name": "stdout",
     "output_type": "stream",
     "text": [
      "<class 'pandas.core.frame.DataFrame'>\n",
      "Int64Index: 100100 entries, 3 to 198626\n",
      "Data columns (total 3 columns):\n",
      " #   Column      Non-Null Count   Dtype \n",
      "---  ------      --------------   ----- \n",
      " 0   Unnamed: 0  100100 non-null  int64 \n",
      " 1   text        100100 non-null  object\n",
      " 2   category    100100 non-null  object\n",
      "dtypes: int64(1), object(2)\n",
      "memory usage: 3.1+ MB\n",
      "UKUPAN BROJ RAZLIČITIH KATEGORIJA:  10\n"
     ]
    }
   ],
   "source": [
    "\n",
    "news.info()\n",
    "categories = news.groupby('category')\n",
    "print(\"UKUPAN BROJ RAZLIČITIH KATEGORIJA: \", categories.ngroups)"
   ]
  },
  {
   "cell_type": "markdown",
   "metadata": {},
   "source": [
    "Podela podataka i vektorizacija."
   ]
  },
  {
   "cell_type": "code",
   "execution_count": 5,
   "metadata": {},
   "outputs": [],
   "source": [
    "X = news['text']\n",
    "y = news['category']"
   ]
  },
  {
   "cell_type": "code",
   "execution_count": 6,
   "metadata": {},
   "outputs": [],
   "source": [
    "X_train, X_test, y_train, y_test = model_selection.\\\n",
    "    train_test_split(X, y, test_size = 0.33, stratify = y, random_state = 4)"
   ]
  },
  {
   "cell_type": "code",
   "execution_count": 7,
   "metadata": {},
   "outputs": [
    {
     "data": {
      "text/plain": [
       "TfidfVectorizer(analyzer='word', binary=False, decode_error='strict',\n",
       "                dtype=<class 'numpy.float64'>, encoding='utf-8',\n",
       "                input='content', lowercase=True, max_df=1.0, max_features=None,\n",
       "                min_df=1, ngram_range=(1, 1), norm='l2', preprocessor=None,\n",
       "                smooth_idf=True, stop_words=None, strip_accents=None,\n",
       "                sublinear_tf=False, token_pattern='(?u)\\\\b\\\\w\\\\w+\\\\b',\n",
       "                tokenizer=None, use_idf=True, vocabulary=None)"
      ]
     },
     "execution_count": 7,
     "metadata": {},
     "output_type": "execute_result"
    }
   ],
   "source": [
    "tfidf_vectorizer = feature_extraction.text.TfidfVectorizer()\n",
    "tfidf_vectorizer.fit(X_train.values.astype('U'))"
   ]
  },
  {
   "cell_type": "code",
   "execution_count": 8,
   "metadata": {},
   "outputs": [],
   "source": [
    "X_train = tfidf_vectorizer.transform(X_train.values.astype('U'))\n",
    "X_test = tfidf_vectorizer.transform(X_test.values.astype('U'))\n",
    "y_train = y_train.astype('category')\n",
    "y_test = y_test.astype('category')\n"
   ]
  },
  {
   "cell_type": "markdown",
   "metadata": {},
   "source": [
    "Kodiranje kategoričkih klasa."
   ]
  },
  {
   "cell_type": "code",
   "execution_count": 9,
   "metadata": {},
   "outputs": [
    {
     "name": "stdout",
     "output_type": "stream",
     "text": [
      "{0: 'DIVORCE', 1: 'ENTERTAINMENT', 2: 'HOME & LIVING', 3: 'POLITICS', 4: 'QUEER VOICES', 5: 'SPORTS', 6: 'STYLE AND BEAUTY', 7: 'TRAVEL', 8: 'WEDDINGS', 9: 'WORLD NEWS'}\n"
     ]
    }
   ],
   "source": [
    "classes = dict(enumerate(y_train.cat.categories))\n",
    "y_train = y_train.cat.codes\n",
    "y_test = y_test.cat.codes\n",
    "print(classes)"
   ]
  },
  {
   "cell_type": "markdown",
   "metadata": {},
   "source": [
    "Multinomijalna Bajes klasifikacija je urađena sa više razlicitih paramaetara Alfa. Primećeno je da manji parametri daju bolje rezeltate. Na kraju je izdvojen najbolji parametar i njegov najbolji rezultat."
   ]
  },
  {
   "cell_type": "code",
   "execution_count": 26,
   "metadata": {},
   "outputs": [
    {
     "name": "stdout",
     "output_type": "stream",
     "text": [
      "Najbolja preciznost na test skupu je:  0.8712802349165986\n",
      "Najbolji alfa parametar modela su:  0.04\n"
     ]
    }
   ],
   "source": [
    "alphas=[0.005,0.006,0.007,0.01,0.02,0.03,0.04,0.05,0.1,0.2,0.3,0.4,0.5,0.6,0.7,0.8,0.9,1]\n",
    "best_acc=0\n",
    "best_alpha=None\n",
    "bayesArray=[]\n",
    "for alpha in alphas:\n",
    "    model = MultinomialNB(alpha=alpha)\n",
    "    model.fit(X_train, y_train)\n",
    "    y_predict = model.predict(X_test)\n",
    "    accuracy = accuracy_score(y_test,y_predict)\n",
    "    bayesArray.append(accuracy)\n",
    "    if accuracy> best_acc:\n",
    "        best_acc = accuracy\n",
    "        best_alpha = alpha\n",
    "print('Najbolja preciznost na test skupu je: ', best_acc)\n",
    "print('Najbolji alfa parametar modela su: ', best_alpha)\n"
   ]
  },
  {
   "cell_type": "markdown",
   "metadata": {},
   "source": [
    "Grafički prikaz zavisnosti rezultata klasifikacije od parametra."
   ]
  },
  {
   "cell_type": "code",
   "execution_count": 27,
   "metadata": {},
   "outputs": [
    {
     "data": {
      "image/png": "[encoded data removed]",
      "text/plain": [
       "<Figure size 432x288 with 1 Axes>"
      ]
     },
     "metadata": {
      "needs_background": "light"
     },
     "output_type": "display_data"
    }
   ],
   "source": [
    "plt.plot(alphas,bayesArray)\n",
    "plt.xticks(alphas)\n",
    "plt.show()\n"
   ]
  },
  {
   "cell_type": "code",
   "execution_count": 29,
   "metadata": {},
   "outputs": [
    {
     "data": {
      "image/png": "[encoded data removed]",
      "text/plain": [
       "<Figure size 432x288 with 1 Axes>"
      ]
     },
     "metadata": {
      "needs_background": "light"
     },
     "output_type": "display_data"
    }
   ],
   "source": [
    "plt.plot(alphas[0:10],bayesArray[0:10])\n",
    "plt.xticks(alphas[0:10])\n",
    "plt.show()"
   ]
  },
  {
   "cell_type": "code",
   "execution_count": 35,
   "metadata": {},
   "outputs": [
    {
     "name": "stdout",
     "output_type": "stream",
     "text": [
      "[[  904    55     8    56     8     5    21    17    47     5]\n",
      " [   21  4777     5   263    30    39    78    41    11    22]\n",
      " [    0    23  1134    37     3     1    77    61     3     3]\n",
      " [    1   114     4 10227    55    30    14    34     4   265]\n",
      " [   18   116     1   214  1628    18    13    21    15    33]\n",
      " [    3   121     1   140    11  1275     9    14     1    35]\n",
      " [   10   149    21    77     7     6  3292    56    15     8]\n",
      " [    1    55    10    79     1     9    56  2985    10    39]\n",
      " [   48    46     9    26    12     5    49    24   961     3]\n",
      " [    2    49     4   500     9    12     5    54     2  2137]]\n"
     ]
    }
   ],
   "source": [
    "model = MultinomialNB(alpha=alpha)\n",
    "model.fit(X_train, y_train)\n",
    "y_predict = model.predict(X_test)\n",
    "matrix=metrics.confusion_matrix(y_test, y_test_predicted)\n",
    "print(matrix)"
   ]
  },
  {
   "cell_type": "markdown",
   "metadata": {},
   "source": [
    "Iz matrice konfuzije primećujemo da su neka izraženija odtupanja kod klase World news, koja se pogrešno klasifikuje u oblast Politics."
   ]
  },
  {
   "cell_type": "markdown",
   "metadata": {},
   "source": [
    "U nastavku je data klasifikacija pomoću knn metode. Sa porastom broja najbližih suseda raste i preciznost modela i u našem slučaju najbolji model dobijamo za 15 suseda."
   ]
  },
  {
   "cell_type": "code",
   "execution_count": 30,
   "metadata": {},
   "outputs": [
    {
     "name": "stdout",
     "output_type": "stream",
     "text": [
      "Najbolji rezultat na test skupu je:  0.8451851179123906\n",
      "Najbolji parametri modela su:  19\n"
     ]
    }
   ],
   "source": [
    "n_neighbors_list=list(range(1, 21))\n",
    "best_acc_test=0\n",
    "best_acc_train=0\n",
    "best_n=None\n",
    "knnArray=[]\n",
    "for n_neighbors in n_neighbors_list:\n",
    "    knn_model = neighbors.KNeighborsClassifier(n_neighbors=n_neighbors)\n",
    "    knn_model.fit(X_train, y_train)\n",
    "    y_predict = knn_model.predict(X_test)\n",
    "    accuracy_test = accuracy_score(y_test,y_predict)\n",
    "    knnArray.append(accuracy_test)\n",
    "  #  accuracy_train = knn_model.score(X_train, y_train)\n",
    "    if accuracy_test> best_acc_test:\n",
    "        best_acc_test = accuracy_test\n",
    "   #     best_acc_train=accuracy_train\n",
    "        best_n = n_neighbors\n",
    "print('Najbolji rezultat na test skupu je: ',best_acc_test)\n",
    "print('Najbolji parametri modela su: ', best_n)"
   ]
  },
  {
   "cell_type": "code",
   "execution_count": 31,
   "metadata": {},
   "outputs": [
    {
     "data": {
      "image/png": "[encoded data removed]",
      "text/plain": [
       "<Figure size 432x288 with 1 Axes>"
      ]
     },
     "metadata": {
      "needs_background": "light"
     },
     "output_type": "display_data"
    }
   ],
   "source": [
    "plt.plot(n_neighbors_list,knnArray)\n",
    "plt.xticks(n_neighbors_list)\n",
    "plt.show()\n"
   ]
  },
  {
   "cell_type": "code",
   "execution_count": 38,
   "metadata": {},
   "outputs": [
    {
     "name": "stdout",
     "output_type": "stream",
     "text": [
      "[[  889    71    12    60     9     4    30    12    38     1]\n",
      " [   29  4607    11   344    37    47   143    41     9    19]\n",
      " [    6    45  1104    52     3     5    73    44     6     4]\n",
      " [   10   138     9 10197    43    38    19    55     3   236]\n",
      " [   24   183     8   320  1402    23    29    31    23    34]\n",
      " [    7   121     2   215    17  1183     8    20     4    33]\n",
      " [   23   302    36   110    12    11  3052    69    17     9]\n",
      " [   11   102    43   172    14    21    79  2727    16    60]\n",
      " [   63    75    21    61    15     5    37    37   865     4]\n",
      " [    4    65    15   685    19    12    20    60     1  1893]]\n"
     ]
    }
   ],
   "source": [
    "knn_model = neighbors.KNeighborsClassifier(n_neighbors=best_n)\n",
    "knn_model.fit(X_train, y_train)\n",
    "y_predict = knn_model.predict(X_test)\n",
    "matrix=metrics.confusion_matrix(y_test, y_predict)\n",
    "print(matrix)"
   ]
  },
  {
   "cell_type": "markdown",
   "metadata": {},
   "source": [
    "Može se primetiti da se slične zamene klasa dešavaju kao u slučaju NB klsifikacije."
   ]
  },
  {
   "cell_type": "markdown",
   "metadata": {},
   "source": [
    "U nastavku su data dva modela, gde se gleda razlika jedne klase u odnosu na ostale i razlika izmedju dve klase. Rezultati su približno isti."
   ]
  },
  {
   "cell_type": "code",
   "execution_count": 11,
   "metadata": {},
   "outputs": [
    {
     "name": "stdout",
     "output_type": "stream",
     "text": [
      "              precision    recall  f1-score   support\n",
      "\n",
      "           0       0.90      0.85      0.88      1126\n",
      "           1       0.89      0.90      0.90      5287\n",
      "           2       0.94      0.90      0.92      1342\n",
      "           3       0.91      0.94      0.93     10748\n",
      "           4       0.91      0.84      0.87      2077\n",
      "           5       0.90      0.85      0.87      1610\n",
      "           6       0.92      0.92      0.92      3641\n",
      "           7       0.91      0.93      0.92      3245\n",
      "           8       0.89      0.85      0.87      1183\n",
      "           9       0.83      0.81      0.82      2774\n",
      "\n",
      "    accuracy                           0.90     33033\n",
      "   macro avg       0.90      0.88      0.89     33033\n",
      "weighted avg       0.90      0.90      0.90     33033\n",
      "\n",
      "[[  962    33     9    21    10     3    16    16    51     5]\n",
      " [   23  4767     9   212    47    57    87    42    14    29]\n",
      " [    2    13  1202    19     2     1    50    46     4     3]\n",
      " [    4   113     5 10147    64    41    14    44     4   312]\n",
      " [   13    89     1   124  1748    16    18    21    21    26]\n",
      " [    4    83     0    84    15  1362    12    14     1    35]\n",
      " [   12   110    29    46    13     7  3352    48    17     7]\n",
      " [    1    41    14    54     5    16    52  3011     9    42]\n",
      " [   47    34     8    15     9     4    31    19  1009     7]\n",
      " [    4    45     7   384    10    14     7    61     4  2238]]\n"
     ]
    }
   ],
   "source": [
    "ovr = multiclass.OneVsRestClassifier(svm.LinearSVC())\n",
    "ovr.fit(X_train, y_train)\n",
    "y_predicted_ovr = ovr.predict(X_test)\n",
    "print(metrics.classification_report(y_test, y_predicted_ovr))\n",
    "print(metrics.confusion_matrix(y_test, y_predicted_ovr))"
   ]
  },
  {
   "cell_type": "code",
   "execution_count": 47,
   "metadata": {},
   "outputs": [
    {
     "name": "stdout",
     "output_type": "stream",
     "text": [
      "              precision    recall  f1-score   support\n",
      "\n",
      "           0       0.89      0.83      0.86      1126\n",
      "           1       0.88      0.90      0.89      5287\n",
      "           2       0.94      0.87      0.91      1342\n",
      "           3       0.90      0.94      0.92     10748\n",
      "           4       0.92      0.82      0.87      2077\n",
      "           5       0.90      0.82      0.86      1610\n",
      "           6       0.91      0.91      0.91      3641\n",
      "           7       0.91      0.92      0.92      3245\n",
      "           8       0.88      0.84      0.86      1183\n",
      "           9       0.83      0.80      0.82      2774\n",
      "\n",
      "    accuracy                           0.90     33033\n",
      "   macro avg       0.90      0.87      0.88     33033\n",
      "weighted avg       0.90      0.90      0.90     33033\n",
      "\n",
      "[[  940    52     7    30     7     2    17    15    54     2]\n",
      " [   22  4775     8   226    34    55    85    43    16    23]\n",
      " [    1    16  1174    28     2     1    67    47     3     3]\n",
      " [    4   132     2 10139    67    40    14    39     5   306]\n",
      " [   22    95     0   156  1710    18    11    17    23    25]\n",
      " [    3   101     1   103    11  1328     8    10     1    44]\n",
      " [   10   131    27    54     8     5  3330    48    22     6]\n",
      " [    2    54    13    62     4    15    61  2985    14    35]\n",
      " [   51    37     8    11    11     4    44    20   995     2]\n",
      " [    3    39     5   427    12    13     3    46     3  2223]]\n"
     ]
    }
   ],
   "source": [
    "ovo = multiclass.OneVsOneClassifier(svm.LinearSVC())\n",
    "ovo.fit(X_train, y_train)\n",
    "y_predicted_ovo = ovo.predict(X_test)\n",
    "print(metrics.classification_report(y_test, y_predicted_ovo))\n",
    "print(metrics.confusion_matrix(y_test, y_predicted_ovo))"
   ]
  },
  {
   "cell_type": "markdown",
   "metadata": {},
   "source": [
    "Od isprobanih modela nešto lošije se pokazao KNN algoritam, dok su nešto bolji bili poslednja dva. Takođe poslednja dva modela smanjuju problem između problematičnih kategorija u odnosu na KNN i Bayes."
   ]
  },
  {
   "cell_type": "code",
   "execution_count": null,
   "metadata": {},
   "outputs": [],
   "source": [
    "\n",
    "\n"
   ]
  },
  {
   "cell_type": "code",
   "execution_count": null,
   "metadata": {},
   "outputs": [],
   "source": [
    "\n"
   ]
  },
  {
   "cell_type": "code",
   "execution_count": null,
   "metadata": {},
   "outputs": [],
   "source": []
  }
 ],
 "metadata": {
  "kernelspec": {
   "display_name": "Python 3",
   "language": "python",
   "name": "python3"
  },
  "language_info": {
   "codemirror_mode": {
    "name": "ipython",
    "version": 3
   },
   "file_extension": ".py",
   "mimetype": "text/x-python",
   "name": "python",
   "nbconvert_exporter": "python",
   "pygments_lexer": "ipython3",
   "version": "3.8.5"
  }
 },
 "nbformat": 4,
 "nbformat_minor": 4
}
