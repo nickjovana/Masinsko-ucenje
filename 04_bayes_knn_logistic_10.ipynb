{
 "cells": [
  {
   "cell_type": "code",
   "execution_count": 3,
   "metadata": {},
   "outputs": [],
   "source": [
    "import numpy as np\n",
    "import pandas as pd\n",
    "from sklearn import model_selection\n",
    "from sklearn import metrics\n",
    "from sklearn import preprocessing\n",
    "from sklearn import feature_extraction\n",
    "from sklearn import linear_model\n",
    "from sklearn import multiclass\n",
    "from sklearn import svm\n",
    "from sklearn import neighbors\n",
    "from sklearn import naive_bayes\n",
    "from sklearn.naive_bayes import MultinomialNB\n",
    "from sklearn.metrics import classification_report\n",
    "from sklearn.metrics import accuracy_score ,confusion_matrix\n",
    "import matplotlib.pyplot as plt"
   ]
  },
  {
   "cell_type": "markdown",
   "metadata": {},
   "source": [
    "Učitavanje predprocesiranih podataka"
   ]
  },
  {
   "cell_type": "code",
   "execution_count": 2,
   "metadata": {},
   "outputs": [
    {
     "name": "stdout",
     "output_type": "stream",
     "text": [
      "<class 'pandas.core.frame.DataFrame'>\n",
      "RangeIndex: 198627 entries, 0 to 198626\n",
      "Data columns (total 3 columns):\n",
      " #   Column      Non-Null Count   Dtype \n",
      "---  ------      --------------   ----- \n",
      " 0   Unnamed: 0  198627 non-null  int64 \n",
      " 1   text        198626 non-null  object\n",
      " 2   category    198627 non-null  object\n",
      "dtypes: int64(1), object(2)\n",
      "memory usage: 4.5+ MB\n"
     ]
    },
    {
     "data": {
      "text/html": [
       "<div>\n",
       "<style scoped>\n",
       "    .dataframe tbody tr th:only-of-type {\n",
       "        vertical-align: middle;\n",
       "    }\n",
       "\n",
       "    .dataframe tbody tr th {\n",
       "        vertical-align: top;\n",
       "    }\n",
       "\n",
       "    .dataframe thead th {\n",
       "        text-align: right;\n",
       "    }\n",
       "</style>\n",
       "<table border=\"1\" class=\"dataframe\">\n",
       "  <thead>\n",
       "    <tr style=\"text-align: right;\">\n",
       "      <th></th>\n",
       "      <th>Unnamed: 0</th>\n",
       "      <th>text</th>\n",
       "      <th>category</th>\n",
       "    </tr>\n",
       "  </thead>\n",
       "  <tbody>\n",
       "    <tr>\n",
       "      <th>0</th>\n",
       "      <td>36290</td>\n",
       "      <td>shall overcomb say march trump london thousand...</td>\n",
       "      <td>WOMEN</td>\n",
       "    </tr>\n",
       "    <tr>\n",
       "      <th>1</th>\n",
       "      <td>21194</td>\n",
       "      <td>bone didnt teach glamour taught respect oftent...</td>\n",
       "      <td>HEALTHY LIVING</td>\n",
       "    </tr>\n",
       "    <tr>\n",
       "      <th>2</th>\n",
       "      <td>29672</td>\n",
       "      <td>im sorrythe two tragically forgotten word cust...</td>\n",
       "      <td>BUSINESS</td>\n",
       "    </tr>\n",
       "    <tr>\n",
       "      <th>3</th>\n",
       "      <td>199048</td>\n",
       "      <td>divorce ruin life child blame sunday night luc...</td>\n",
       "      <td>DIVORCE</td>\n",
       "    </tr>\n",
       "    <tr>\n",
       "      <th>4</th>\n",
       "      <td>193783</td>\n",
       "      <td>well sit civilian flea theater civilian enterp...</td>\n",
       "      <td>DIVORCE</td>\n",
       "    </tr>\n",
       "  </tbody>\n",
       "</table>\n",
       "</div>"
      ],
      "text/plain": [
       "   Unnamed: 0                                               text  \\\n",
       "0       36290  shall overcomb say march trump london thousand...   \n",
       "1       21194  bone didnt teach glamour taught respect oftent...   \n",
       "2       29672  im sorrythe two tragically forgotten word cust...   \n",
       "3      199048  divorce ruin life child blame sunday night luc...   \n",
       "4      193783  well sit civilian flea theater civilian enterp...   \n",
       "\n",
       "         category  \n",
       "0           WOMEN  \n",
       "1  HEALTHY LIVING  \n",
       "2        BUSINESS  \n",
       "3         DIVORCE  \n",
       "4         DIVORCE  "
      ]
     },
     "execution_count": 2,
     "metadata": {},
     "output_type": "execute_result"
    }
   ],
   "source": [
    "news = pd.read_csv('data/vesti.csv')\n",
    "news.info()\n",
    "news.head()"
   ]
  },
  {
   "cell_type": "markdown",
   "metadata": {},
   "source": [
    "Zbog lošijeg modela, u pokušaju bolje klasifikacije izdvajamo 10 klasa koje su se pokazale najbolje na modelu sa 36 klasa."
   ]
  },
  {
   "cell_type": "code",
   "execution_count": 3,
   "metadata": {},
   "outputs": [],
   "source": [
    "categories = ['DIVORCE', 'WEDDINGS', 'STYLE AND BEAUTY', 'QUEER VOICES', 'POLITICS', 'HOME & LIVING', 'TRAVEL', 'WORLD NEWS', 'SPORTS', 'ENTERTAINMENT']\n",
    "news = news[news.category.isin(categories)]\n",
    "\n"
   ]
  },
  {
   "cell_type": "code",
   "execution_count": 4,
   "metadata": {},
   "outputs": [
    {
     "name": "stdout",
     "output_type": "stream",
     "text": [
      "<class 'pandas.core.frame.DataFrame'>\n",
      "Int64Index: 100100 entries, 3 to 198626\n",
      "Data columns (total 3 columns):\n",
      " #   Column      Non-Null Count   Dtype \n",
      "---  ------      --------------   ----- \n",
      " 0   Unnamed: 0  100100 non-null  int64 \n",
      " 1   text        100100 non-null  object\n",
      " 2   category    100100 non-null  object\n",
      "dtypes: int64(1), object(2)\n",
      "memory usage: 3.1+ MB\n",
      "UKUPAN BROJ RAZLIČITIH KATEGORIJA:  10\n"
     ]
    }
   ],
   "source": [
    "\n",
    "news.info()\n",
    "categories = news.groupby('category')\n",
    "print(\"UKUPAN BROJ RAZLIČITIH KATEGORIJA: \", categories.ngroups)"
   ]
  },
  {
   "cell_type": "markdown",
   "metadata": {},
   "source": [
    "Podela podataka i vektorizacija."
   ]
  },
  {
   "cell_type": "code",
   "execution_count": 5,
   "metadata": {},
   "outputs": [],
   "source": [
    "X = news['text']\n",
    "y = news['category']"
   ]
  },
  {
   "cell_type": "code",
   "execution_count": 6,
   "metadata": {},
   "outputs": [],
   "source": [
    "X_train_and_validation, X_test, y_train_and_validation, y_test = model_selection.\\\n",
    "    train_test_split(X, y, test_size = 0.33, stratify = y, random_state = 4)"
   ]
  },
  {
   "cell_type": "code",
   "execution_count": 7,
   "metadata": {},
   "outputs": [
    {
     "data": {
      "text/plain": [
       "TfidfVectorizer(analyzer='word', binary=False, decode_error='strict',\n",
       "                dtype=<class 'numpy.float64'>, encoding='utf-8',\n",
       "                input='content', lowercase=True, max_df=1.0, max_features=None,\n",
       "                min_df=1, ngram_range=(1, 1), norm='l2', preprocessor=None,\n",
       "                smooth_idf=True, stop_words=None, strip_accents=None,\n",
       "                sublinear_tf=False, token_pattern='(?u)\\\\b\\\\w\\\\w+\\\\b',\n",
       "                tokenizer=None, use_idf=True, vocabulary=None)"
      ]
     },
     "execution_count": 7,
     "metadata": {},
     "output_type": "execute_result"
    }
   ],
   "source": [
    "tfidf_vectorizer = feature_extraction.text.TfidfVectorizer()\n",
    "tfidf_vectorizer.fit(X_train_and_validation.values.astype('U'))"
   ]
  },
  {
   "cell_type": "code",
   "execution_count": 8,
   "metadata": {},
   "outputs": [],
   "source": [
    "X_train_and_validation = tfidf_vectorizer.transform(X_train_and_validation.values.astype('U'))\n",
    "X_test = tfidf_vectorizer.transform(X_test.values.astype('U'))\n",
    "y_train_and_validation = y_train_and_validation.astype('category')\n",
    "y_test = y_test.astype('category')\n",
    "X_train, X_validation, y_train, y_validation = model_selection.train_test_split(X_train_and_validation,\\\n",
    "y_train_and_validation, train_size = 0.8, random_state = 4, stratify = y_train_and_validation )\n"
   ]
  },
  {
   "cell_type": "markdown",
   "metadata": {},
   "source": [
    "Kodiranje kategoričkih klasa."
   ]
  },
  {
   "cell_type": "code",
   "execution_count": 9,
   "metadata": {},
   "outputs": [
    {
     "name": "stdout",
     "output_type": "stream",
     "text": [
      "{0: 'DIVORCE', 1: 'ENTERTAINMENT', 2: 'HOME & LIVING', 3: 'POLITICS', 4: 'QUEER VOICES', 5: 'SPORTS', 6: 'STYLE AND BEAUTY', 7: 'TRAVEL', 8: 'WEDDINGS', 9: 'WORLD NEWS'}\n"
     ]
    }
   ],
   "source": [
    "classes = dict(enumerate(y_train.cat.categories))\n",
    "y_validation= y_validation.cat.codes\n",
    "y_train = y_train.cat.codes\n",
    "y_test = y_test.cat.codes\n",
    "print(classes)"
   ]
  },
  {
   "cell_type": "markdown",
   "metadata": {},
   "source": [
    "Multinomijalna Bajes klasifikacija je urađena sa više razlicitih paramaetara Alfa. Primećeno je da manji parametri daju bolje rezeltate. Na kraju je izdvojen najbolji parametar i njegov najbolji rezultat."
   ]
  },
  {
   "cell_type": "code",
   "execution_count": 11,
   "metadata": {},
   "outputs": [
    {
     "name": "stdout",
     "output_type": "stream",
     "text": [
      "Najbolja preciznost na test skupu je:  0.8690174444610109\n",
      "Najbolji alfa parametar modela su:  0.05\n"
     ]
    }
   ],
   "source": [
    "alphas=[0.005,0.006,0.007,0.01,0.02,0.03,0.04,0.05,0.1,0.2,0.3,0.4,0.5,0.6,0.7,0.8,0.9,1]\n",
    "best_acc=0\n",
    "best_alpha=None\n",
    "bayesArray=[]\n",
    "for alpha in alphas:\n",
    "    model = MultinomialNB(alpha=alpha)\n",
    "    model.fit(X_train, y_train)\n",
    "    y_predict = model.predict(X_validation)\n",
    "    accuracy = accuracy_score(y_validation,y_predict)\n",
    "    bayesArray.append(accuracy)\n",
    "    if accuracy> best_acc:\n",
    "        best_acc = accuracy\n",
    "        best_alpha = alpha\n",
    "print('Najbolja preciznost na test skupu je: ', best_acc)\n",
    "print('Najbolji alfa parametar modela su: ', best_alpha)\n"
   ]
  },
  {
   "cell_type": "markdown",
   "metadata": {},
   "source": [
    "Grafički prikaz zavisnosti rezultata klasifikacije od parametra."
   ]
  },
  {
   "cell_type": "code",
   "execution_count": 12,
   "metadata": {},
   "outputs": [
    {
     "data": {
      "image/png": "[encoded data removed]",
      "text/plain": [
       "<Figure size 432x288 with 1 Axes>"
      ]
     },
     "metadata": {
      "needs_background": "light"
     },
     "output_type": "display_data"
    }
   ],
   "source": [
    "plt.plot(alphas,bayesArray)\n",
    "plt.xticks(alphas)\n",
    "plt.show()\n"
   ]
  },
  {
   "cell_type": "code",
   "execution_count": 13,
   "metadata": {},
   "outputs": [
    {
     "data": {
      "image/png": "[encoded data removed]",
      "text/plain": [
       "<Figure size 432x288 with 1 Axes>"
      ]
     },
     "metadata": {
      "needs_background": "light"
     },
     "output_type": "display_data"
    }
   ],
   "source": [
    "plt.plot(alphas[0:10],bayesArray[0:10])\n",
    "plt.xticks(alphas[0:10])\n",
    "plt.show()"
   ]
  },
  {
   "cell_type": "code",
   "execution_count": 14,
   "metadata": {},
   "outputs": [
    {
     "name": "stdout",
     "output_type": "stream",
     "text": [
      "0.6925801471256017\n",
      "[[   96   196     0   804     0     0    20     9     1     0]\n",
      " [    0  4408     0   822     0     0    45     9     1     2]\n",
      " [    0    62   480   436     0     0   263   101     0     0]\n",
      " [    0    25     0 10711     0     0     2     1     0     9]\n",
      " [    0   292     0  1221   540     4     7    11     1     1]\n",
      " [    0   295     0  1003     0   286     9     6     0    11]\n",
      " [    0   214     0   384     0     0  3010    33     0     0]\n",
      " [    0    87     0   646     1     0    39  2468     1     3]\n",
      " [    2   197     2   557     1     0   184    28   212     0]\n",
      " [    0    25     0  2055     1     0     4    22     0   667]]\n"
     ]
    }
   ],
   "source": [
    "model = MultinomialNB(alpha=alpha)\n",
    "model.fit(X_train, y_train)\n",
    "y_predict = model.predict(X_test)\n",
    "matrix=metrics.confusion_matrix(y_test, y_predict)\n",
    "print(accuracy_score(y_test, y_predict))\n",
    "\n",
    "print(matrix)"
   ]
  },
  {
   "cell_type": "markdown",
   "metadata": {},
   "source": [
    "Iz matrice konfuzije primećujemo da su neka izraženija odtupanja kod klase World news, koja se pogrešno klasifikuje u oblast Politics."
   ]
  },
  {
   "cell_type": "markdown",
   "metadata": {},
   "source": [
    "U nastavku je data klasifikacija pomoću knn metode. Sa porastom broja najbližih suseda raste i preciznost modela i u našem slučaju najbolji model dobijamo za 16 suseda."
   ]
  },
  {
   "cell_type": "code",
   "execution_count": 16,
   "metadata": {},
   "outputs": [
    {
     "name": "stdout",
     "output_type": "stream",
     "text": [
      "Najbolji rezultat na test skupu je:  0.8373341285224393\n",
      "Najbolji parametri modela su:  16\n"
     ]
    }
   ],
   "source": [
    "n_neighbors_list=list(range(1, 21))\n",
    "best_acc_test=0\n",
    "best_acc_train=0\n",
    "best_n=None\n",
    "knnArray=[]\n",
    "for n_neighbors in n_neighbors_list:\n",
    "    knn_model = neighbors.KNeighborsClassifier(n_neighbors=n_neighbors)\n",
    "    knn_model.fit(X_train, y_train)\n",
    "    y_predict = knn_model.predict(X_validation)\n",
    "    accuracy_test = accuracy_score(y_validation,y_predict)\n",
    "    knnArray.append(accuracy_test)\n",
    "  #  accuracy_train = knn_model.score(X_train, y_train)\n",
    "    if accuracy_test> best_acc_test:\n",
    "        best_acc_test = accuracy_test\n",
    "   #     best_acc_train=accuracy_train\n",
    "        best_n = n_neighbors\n",
    "print('Najbolji rezultat na test skupu je: ',best_acc_test)\n",
    "print('Najbolji parametri modela su: ', best_n)"
   ]
  },
  {
   "cell_type": "code",
   "execution_count": 17,
   "metadata": {},
   "outputs": [
    {
     "data": {
      "image/png": "[encoded data removed]",
      "text/plain": [
       "<Figure size 432x288 with 1 Axes>"
      ]
     },
     "metadata": {
      "needs_background": "light"
     },
     "output_type": "display_data"
    }
   ],
   "source": [
    "plt.plot(n_neighbors_list,knnArray)\n",
    "plt.xticks(n_neighbors_list)\n",
    "plt.show()\n"
   ]
  },
  {
   "cell_type": "code",
   "execution_count": 18,
   "metadata": {},
   "outputs": [
    {
     "name": "stdout",
     "output_type": "stream",
     "text": [
      "0.8409469318560228\n",
      "[[  875    70    17    72    10     3    24    14    39     2]\n",
      " [   33  4609    11   348    37    46   135    40    11    17]\n",
      " [   10    40  1097    61     4     6    65    42    11     6]\n",
      " [    7   140     6 10189    49    39    20    51     1   246]\n",
      " [   24   190    10   325  1378    23    28    34    24    41]\n",
      " [    6   131     3   221    21  1167     7    15     3    36]\n",
      " [   20   291    39   125    12    12  3048    69    17     8]\n",
      " [   10   104    45   187    15    21    82  2704    18    59]\n",
      " [   68    73    22    59    14     9    46    31   857     4]\n",
      " [    6    65    11   725    19    16    15    60     2  1855]]\n"
     ]
    }
   ],
   "source": [
    "knn_model = neighbors.KNeighborsClassifier(n_neighbors=best_n)\n",
    "knn_model.fit(X_train, y_train)\n",
    "y_predict = knn_model.predict(X_test)\n",
    "matrix=metrics.confusion_matrix(y_test, y_predict)\n",
    "print(accuracy_score(y_test, y_predict))\n",
    "print(matrix)"
   ]
  },
  {
   "cell_type": "markdown",
   "metadata": {},
   "source": [
    "Može se primetiti da se slične zamene klasa dešavaju kao u slučaju NB klsifikacije."
   ]
  },
  {
   "cell_type": "markdown",
   "metadata": {},
   "source": [
    "U nastavku su data dva modela, gde se gleda razlika jedne klase u odnosu na ostale i razlika izmedju dve klase. Rezultati su približno isti."
   ]
  },
  {
   "cell_type": "code",
   "execution_count": 19,
   "metadata": {},
   "outputs": [
    {
     "name": "stdout",
     "output_type": "stream",
     "text": [
      "              precision    recall  f1-score   support\n",
      "\n",
      "           0       0.89      0.84      0.87      1126\n",
      "           1       0.89      0.90      0.89      5287\n",
      "           2       0.94      0.89      0.91      1342\n",
      "           3       0.91      0.94      0.93     10748\n",
      "           4       0.91      0.83      0.87      2077\n",
      "           5       0.89      0.84      0.86      1610\n",
      "           6       0.92      0.92      0.92      3641\n",
      "           7       0.90      0.93      0.91      3245\n",
      "           8       0.89      0.85      0.87      1183\n",
      "           9       0.82      0.80      0.81      2774\n",
      "\n",
      "    accuracy                           0.90     33033\n",
      "   macro avg       0.90      0.87      0.88     33033\n",
      "weighted avg       0.90      0.90      0.90     33033\n",
      "\n",
      "[[  951    34     8    26     8     3    14    19    58     5]\n",
      " [   23  4761     8   218    41    55    84    47    16    34]\n",
      " [    2    16  1194    23     1     1    49    47     4     5]\n",
      " [    4   128     5 10134    63    43    10    44     3   314]\n",
      " [   15    94     2   143  1727    22    18    15    18    23]\n",
      " [    4    85     2    95    13  1351    15     9     1    35]\n",
      " [   14   115    26    49     8     8  3335    59    15    12]\n",
      " [    2    41    15    56     5    13    51  3007    10    45]\n",
      " [   45    38     4    14    12     4    37    19  1003     7]\n",
      " [    5    48     6   404    13    16     8    63     2  2209]]\n"
     ]
    }
   ],
   "source": [
    "ovr = multiclass.OneVsRestClassifier(svm.LinearSVC())\n",
    "ovr.fit(X_train, y_train)\n",
    "y_predicted_ovr = ovr.predict(X_test)\n",
    "print(metrics.classification_report(y_test, y_predicted_ovr))\n",
    "print(metrics.confusion_matrix(y_test, y_predicted_ovr))"
   ]
  },
  {
   "cell_type": "code",
   "execution_count": 47,
   "metadata": {},
   "outputs": [
    {
     "name": "stdout",
     "output_type": "stream",
     "text": [
      "              precision    recall  f1-score   support\n",
      "\n",
      "           0       0.89      0.83      0.86      1126\n",
      "           1       0.88      0.90      0.89      5287\n",
      "           2       0.94      0.87      0.91      1342\n",
      "           3       0.90      0.94      0.92     10748\n",
      "           4       0.92      0.82      0.87      2077\n",
      "           5       0.90      0.82      0.86      1610\n",
      "           6       0.91      0.91      0.91      3641\n",
      "           7       0.91      0.92      0.92      3245\n",
      "           8       0.88      0.84      0.86      1183\n",
      "           9       0.83      0.80      0.82      2774\n",
      "\n",
      "    accuracy                           0.90     33033\n",
      "   macro avg       0.90      0.87      0.88     33033\n",
      "weighted avg       0.90      0.90      0.90     33033\n",
      "\n",
      "[[  940    52     7    30     7     2    17    15    54     2]\n",
      " [   22  4775     8   226    34    55    85    43    16    23]\n",
      " [    1    16  1174    28     2     1    67    47     3     3]\n",
      " [    4   132     2 10139    67    40    14    39     5   306]\n",
      " [   22    95     0   156  1710    18    11    17    23    25]\n",
      " [    3   101     1   103    11  1328     8    10     1    44]\n",
      " [   10   131    27    54     8     5  3330    48    22     6]\n",
      " [    2    54    13    62     4    15    61  2985    14    35]\n",
      " [   51    37     8    11    11     4    44    20   995     2]\n",
      " [    3    39     5   427    12    13     3    46     3  2223]]\n"
     ]
    }
   ],
   "source": [
    "ovo = multiclass.OneVsOneClassifier(svm.LinearSVC())\n",
    "ovo.fit(X_train, y_train)\n",
    "y_predicted_ovo = ovo.predict(X_test)\n",
    "print(metrics.classification_report(y_test, y_predicted_ovo))\n",
    "print(metrics.confusion_matrix(y_test, y_predicted_ovo))"
   ]
  },
  {
   "cell_type": "markdown",
   "metadata": {},
   "source": [
    "Od isprobanih modela nešto lošije se pokazao KNN algoritam, dok su nešto bolji bili poslednja dva. Takođe poslednja dva modela smanjuju problem između problematičnih kategorija u odnosu na KNN i Bayes."
   ]
  },
  {
   "cell_type": "markdown",
   "metadata": {},
   "source": [
    "Model za 10 kategorija je pokazao najlošiju moć klasifikacije za kategoriju WorldNews. To ima smisla jer te vesti mogu biti dosta različite jer dolaze iz celog sveta. Prikazujemo neke od njih.\n",
    "\n"
   ]
  },
  {
   "cell_type": "code",
   "execution_count": 5,
   "metadata": {},
   "outputs": [
    {
     "name": "stdout",
     "output_type": "stream",
     "text": [
      "11    South Korean President Meets North Korea's Kim...\n",
      "23    North Korea Still Open To Talks After Trump Ca...\n",
      "24    2 Men Detonate Bomb Inside Indian Restaurant N...\n",
      "25    Thousands Travel Home To Ireland To Vote On Ab...\n",
      "26    Irish Voters Set To Liberalize Abortion Laws I...\n",
      "Name: headline, dtype: object\n"
     ]
    }
   ],
   "source": [
    "news = pd.read_json(\"data/News_Category_Dataset_v2.json\", lines = True)\n",
    "news1 = news[news.category.isin(['WORLD NEWS'])].headline\n",
    "pd.set_option('display.max_rows', None)\n",
    "pd.set_option('display.max_columns', None)\n",
    "pd.set_option('display.width', None)\n",
    "print(news1.head())\n"
   ]
  },
  {
   "cell_type": "code",
   "execution_count": null,
   "metadata": {},
   "outputs": [],
   "source": []
  }
 ],
 "metadata": {
  "kernelspec": {
   "display_name": "Python 3",
   "language": "python",
   "name": "python3"
  },
  "language_info": {
   "codemirror_mode": {
    "name": "ipython",
    "version": 3
   },
   "file_extension": ".py",
   "mimetype": "text/x-python",
   "name": "python",
   "nbconvert_exporter": "python",
   "pygments_lexer": "ipython3",
   "version": "3.7.6"
  }
 },
 "nbformat": 4,
 "nbformat_minor": 4
}
