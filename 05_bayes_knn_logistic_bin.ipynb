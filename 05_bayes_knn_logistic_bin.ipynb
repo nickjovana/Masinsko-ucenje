{
 "cells": [
  {
   "cell_type": "code",
   "execution_count": 1,
   "metadata": {},
   "outputs": [],
   "source": [
    "import numpy as np\n",
    "import pandas as pd\n",
    "from sklearn import model_selection\n",
    "from sklearn import metrics\n",
    "from sklearn import preprocessing\n",
    "from sklearn import feature_extraction\n",
    "from sklearn import linear_model\n",
    "from sklearn import multiclass\n",
    "from sklearn import svm\n",
    "from sklearn import neighbors\n",
    "from sklearn import naive_bayes\n",
    "from sklearn.naive_bayes import MultinomialNB\n",
    "from sklearn.metrics import classification_report\n",
    "from sklearn.metrics import accuracy_score ,confusion_matrix\n",
    "import matplotlib.pyplot as plt\n",
    "\n",
    "\n"
   ]
  },
  {
   "cell_type": "markdown",
   "metadata": {},
   "source": [
    "Učitavanje predprocesiranih podataka."
   ]
  },
  {
   "cell_type": "code",
   "execution_count": 2,
   "metadata": {},
   "outputs": [
    {
     "name": "stdout",
     "output_type": "stream",
     "text": [
      "<class 'pandas.core.frame.DataFrame'>\n",
      "RangeIndex: 198627 entries, 0 to 198626\n",
      "Data columns (total 3 columns):\n",
      " #   Column      Non-Null Count   Dtype \n",
      "---  ------      --------------   ----- \n",
      " 0   Unnamed: 0  198627 non-null  int64 \n",
      " 1   text        198626 non-null  object\n",
      " 2   category    198627 non-null  object\n",
      "dtypes: int64(1), object(2)\n",
      "memory usage: 4.5+ MB\n"
     ]
    },
    {
     "data": {
      "text/html": [
       "<div>\n",
       "<style scoped>\n",
       "    .dataframe tbody tr th:only-of-type {\n",
       "        vertical-align: middle;\n",
       "    }\n",
       "\n",
       "    .dataframe tbody tr th {\n",
       "        vertical-align: top;\n",
       "    }\n",
       "\n",
       "    .dataframe thead th {\n",
       "        text-align: right;\n",
       "    }\n",
       "</style>\n",
       "<table border=\"1\" class=\"dataframe\">\n",
       "  <thead>\n",
       "    <tr style=\"text-align: right;\">\n",
       "      <th></th>\n",
       "      <th>Unnamed: 0</th>\n",
       "      <th>text</th>\n",
       "      <th>category</th>\n",
       "    </tr>\n",
       "  </thead>\n",
       "  <tbody>\n",
       "    <tr>\n",
       "      <th>0</th>\n",
       "      <td>36290</td>\n",
       "      <td>shall overcomb say march trump london thousand...</td>\n",
       "      <td>WOMEN</td>\n",
       "    </tr>\n",
       "    <tr>\n",
       "      <th>1</th>\n",
       "      <td>21194</td>\n",
       "      <td>bone didnt teach glamour taught respect oftent...</td>\n",
       "      <td>HEALTHY LIVING</td>\n",
       "    </tr>\n",
       "    <tr>\n",
       "      <th>2</th>\n",
       "      <td>29672</td>\n",
       "      <td>im sorrythe two tragically forgotten word cust...</td>\n",
       "      <td>BUSINESS</td>\n",
       "    </tr>\n",
       "    <tr>\n",
       "      <th>3</th>\n",
       "      <td>199048</td>\n",
       "      <td>divorce ruin life child blame sunday night luc...</td>\n",
       "      <td>DIVORCE</td>\n",
       "    </tr>\n",
       "    <tr>\n",
       "      <th>4</th>\n",
       "      <td>193783</td>\n",
       "      <td>well sit civilian flea theater civilian enterp...</td>\n",
       "      <td>DIVORCE</td>\n",
       "    </tr>\n",
       "  </tbody>\n",
       "</table>\n",
       "</div>"
      ],
      "text/plain": [
       "   Unnamed: 0                                               text  \\\n",
       "0       36290  shall overcomb say march trump london thousand...   \n",
       "1       21194  bone didnt teach glamour taught respect oftent...   \n",
       "2       29672  im sorrythe two tragically forgotten word cust...   \n",
       "3      199048  divorce ruin life child blame sunday night luc...   \n",
       "4      193783  well sit civilian flea theater civilian enterp...   \n",
       "\n",
       "         category  \n",
       "0           WOMEN  \n",
       "1  HEALTHY LIVING  \n",
       "2        BUSINESS  \n",
       "3         DIVORCE  \n",
       "4         DIVORCE  "
      ]
     },
     "execution_count": 2,
     "metadata": {},
     "output_type": "execute_result"
    }
   ],
   "source": [
    "news = pd.read_csv('data/vesti.csv')\n",
    "news.info()\n",
    "news.head()"
   ]
  },
  {
   "cell_type": "markdown",
   "metadata": {},
   "source": [
    "Binarnu klasifikaciju izvodimo nad dve najbrojnije kategorije."
   ]
  },
  {
   "cell_type": "code",
   "execution_count": 3,
   "metadata": {},
   "outputs": [],
   "source": [
    "category = ['POLITICS' , 'WELLNESS']\n",
    "news = news[news.category.isin(category)]"
   ]
  },
  {
   "cell_type": "code",
   "execution_count": 4,
   "metadata": {},
   "outputs": [
    {
     "name": "stdout",
     "output_type": "stream",
     "text": [
      "<class 'pandas.core.frame.DataFrame'>\n",
      "Int64Index: 50281 entries, 11 to 198618\n",
      "Data columns (total 3 columns):\n",
      " #   Column      Non-Null Count  Dtype \n",
      "---  ------      --------------  ----- \n",
      " 0   Unnamed: 0  50281 non-null  int64 \n",
      " 1   text        50281 non-null  object\n",
      " 2   category    50281 non-null  object\n",
      "dtypes: int64(1), object(2)\n",
      "memory usage: 1.5+ MB\n"
     ]
    }
   ],
   "source": [
    "\n",
    "news.info()\n"
   ]
  },
  {
   "cell_type": "code",
   "execution_count": 5,
   "metadata": {},
   "outputs": [],
   "source": [
    "X = news['text']\n",
    "y = news['category']\n"
   ]
  },
  {
   "cell_type": "code",
   "execution_count": 6,
   "metadata": {},
   "outputs": [],
   "source": [
    "X_train_and_validation, X_test, y_train_and_validation, y_test = model_selection.\\\n",
    "    train_test_split(X, y, test_size = 0.33, stratify = y, random_state = 4)"
   ]
  },
  {
   "cell_type": "code",
   "execution_count": 7,
   "metadata": {},
   "outputs": [
    {
     "data": {
      "text/plain": [
       "TfidfVectorizer()"
      ]
     },
     "execution_count": 7,
     "metadata": {},
     "output_type": "execute_result"
    }
   ],
   "source": [
    "tfidf_vectorizer = feature_extraction.text.TfidfVectorizer()\n",
    "tfidf_vectorizer.fit(X_train_and_validation.values.astype('U'))"
   ]
  },
  {
   "cell_type": "code",
   "execution_count": 8,
   "metadata": {},
   "outputs": [],
   "source": [
    "X_train_and_validation = tfidf_vectorizer.transform(X_train_and_validation.values.astype('U'))\n",
    "X_test = tfidf_vectorizer.transform(X_test.values.astype('U'))\n",
    "y_train_and_validation = y_train_and_validation.astype('category')\n",
    "y_test = y_test.astype('category')\n",
    "X_train, X_validation, y_train, y_validation = model_selection.train_test_split(X_train_and_validation,\\\n",
    "y_train_and_validation, train_size = 0.8, random_state = 4, stratify = y_train_and_validation )"
   ]
  },
  {
   "cell_type": "code",
   "execution_count": 9,
   "metadata": {},
   "outputs": [],
   "source": [
    "classes = dict(enumerate(y_train.cat.categories))\n",
    "y_validation = y_validation.cat.codes\n",
    "y_train = y_train.cat.codes\n",
    "y_test = y_test.cat.codes"
   ]
  },
  {
   "cell_type": "markdown",
   "metadata": {},
   "source": [
    "Logistička regresija je testirana sa dva rešavača gde prvi koristi l2 a drugi l1 normu. Nešto bolji rezultati ostvaruju se u prvom slučaju."
   ]
  },
  {
   "cell_type": "code",
   "execution_count": 10,
   "metadata": {},
   "outputs": [],
   "source": [
    "model = linear_model.LogisticRegression(solver='lbfgs', max_iter=1000)\n",
    "model.fit(X_train, y_train)\n",
    "y_test_predicted = model.predict(X_test)"
   ]
  },
  {
   "cell_type": "code",
   "execution_count": 11,
   "metadata": {},
   "outputs": [
    {
     "name": "stdout",
     "output_type": "stream",
     "text": [
      "Najbolji rezultat na test skupu je:  0.9785451696498524\n",
      "Matrica konfuzije:\n",
      "  [[10597   151]\n",
      " [  205  5640]]\n",
      "F1  0.9694052939154348\n"
     ]
    }
   ],
   "source": [
    "acc=metrics.accuracy_score(y_test, y_test_predicted)\n",
    "f1=metrics.f1_score(y_test, y_test_predicted)\n",
    "matrix=metrics.confusion_matrix(y_test, y_test_predicted)\n",
    "\n",
    "print('Najbolji rezultat na test skupu je: ',acc)\n",
    "print('Matrica konfuzije:\\n ', matrix)\n",
    "print('F1 ', f1)\n"
   ]
  },
  {
   "cell_type": "code",
   "execution_count": 12,
   "metadata": {},
   "outputs": [],
   "source": [
    "model = linear_model.LogisticRegression(solver='saga', max_iter=1000, penalty='l1')\n",
    "model.fit(X_train, y_train)\n",
    "y_test_predicted = model.predict(X_test)"
   ]
  },
  {
   "cell_type": "code",
   "execution_count": 13,
   "metadata": {},
   "outputs": [
    {
     "name": "stdout",
     "output_type": "stream",
     "text": [
      "Najbolji rezultat na test skupu je:  0.9687217501355994\n",
      "Matrica konfuzije:\n",
      "  [[10490   258]\n",
      " [  261  5584]]\n",
      "F1  0.9555916830666551\n"
     ]
    }
   ],
   "source": [
    "acc=metrics.accuracy_score(y_test, y_test_predicted)\n",
    "f1=metrics.f1_score(y_test, y_test_predicted)\n",
    "matrix=metrics.confusion_matrix(y_test, y_test_predicted)\n",
    "\n",
    "print('Najbolji rezultat na test skupu je: ',acc)\n",
    "print('Matrica konfuzije:\\n ', matrix)\n",
    "print('F1 ', f1)\n"
   ]
  },
  {
   "cell_type": "markdown",
   "metadata": {},
   "source": [
    "Bajesov model daje najbolje rezultate za parametar 0.2 i predstavlja najbolji model od svih testiranih modela."
   ]
  },
  {
   "cell_type": "code",
   "execution_count": 14,
   "metadata": {},
   "outputs": [
    {
     "name": "stdout",
     "output_type": "stream",
     "text": [
      "Najbolja preciznost na test skupu je:  0.9826357969723953\n",
      "Najbolji alfa parametar modela su:  0.2\n"
     ]
    }
   ],
   "source": [
    "alphas=[0.005,0.006,0.007,0.01,0.02,0.05,0.1,0.2,0.3,0.4,0.5,0.6,0.7,0.8,0.9,1]\n",
    "best_acc=0\n",
    "best_alpha=None\n",
    "bayesArray=[]\n",
    "for alpha in alphas:\n",
    "    model = MultinomialNB(alpha=alpha)\n",
    "    model.fit(X_train, y_train)\n",
    "    y_predict = model.predict(X_validation)\n",
    "    accuracy = accuracy_score(y_validation,y_predict)\n",
    "    bayesArray.append(accuracy)\n",
    "    if accuracy> best_acc:\n",
    "        best_acc = accuracy\n",
    "        best_alpha = alpha\n",
    "print('Najbolja preciznost na test skupu je: ', best_acc)\n",
    "print('Najbolji alfa parametar modela su: ', best_alpha)"
   ]
  },
  {
   "cell_type": "code",
   "execution_count": 15,
   "metadata": {},
   "outputs": [
    {
     "data": {
      "image/png": "[encoded data removed]",
      "text/plain": [
       "<Figure size 432x288 with 1 Axes>"
      ]
     },
     "metadata": {
      "needs_background": "light"
     },
     "output_type": "display_data"
    }
   ],
   "source": [
    "plt.plot(alphas,bayesArray)\n",
    "plt.xticks(alphas)\n",
    "plt.show()"
   ]
  },
  {
   "cell_type": "markdown",
   "metadata": {},
   "source": [
    "U slučaju binarne klasifikacije najbolji parametar je 11. Na ovom modelu primećujemo da neparan broj suseda vrši bolju klasifikaciju nego paran. "
   ]
  },
  {
   "cell_type": "code",
   "execution_count": 16,
   "metadata": {},
   "outputs": [
    {
     "name": "stdout",
     "output_type": "stream",
     "text": [
      "Najbolji rezultat na test skupu je:  0.9639358860195903\n",
      "Najbolji parametri modela su:  11\n"
     ]
    }
   ],
   "source": [
    "n_neighbors_list=list(range(1, 21))\n",
    "best_acc_test=0\n",
    "best_acc_train=0\n",
    "best_n=None\n",
    "knnArray=[]\n",
    "for n_neighbors in n_neighbors_list:\n",
    "    knn_model = neighbors.KNeighborsClassifier(n_neighbors=n_neighbors)\n",
    "    knn_model.fit(X_train, y_train)\n",
    "    y_predict = knn_model.predict(X_validation)\n",
    "    accuracy_test = accuracy_score(y_validation,y_predict)\n",
    "    knnArray.append(accuracy_test)\n",
    "  #  accuracy_train = knn_model.score(X_train, y_train)\n",
    "    if accuracy_test> best_acc_test:\n",
    "        best_acc_test = accuracy_test\n",
    "   #     best_acc_train=accuracy_train\n",
    "        best_n = n_neighbors\n",
    "print('Najbolji rezultat na test skupu je: ',best_acc_test)\n",
    "print('Najbolji parametri modela su: ', best_n)"
   ]
  },
  {
   "cell_type": "code",
   "execution_count": 17,
   "metadata": {},
   "outputs": [
    {
     "data": {
      "image/png": "[encoded data removed]",
      "text/plain": [
       "<Figure size 432x288 with 1 Axes>"
      ]
     },
     "metadata": {
      "needs_background": "light"
     },
     "output_type": "display_data"
    }
   ],
   "source": [
    "plt.plot(n_neighbors_list,knnArray)\n",
    "plt.xticks(n_neighbors_list)\n",
    "plt.show()\n"
   ]
  },
  {
   "cell_type": "code",
   "execution_count": 18,
   "metadata": {},
   "outputs": [
    {
     "name": "stdout",
     "output_type": "stream",
     "text": [
      "Najbolji rezultat na test skupu je:  0.9669740251913458\n",
      "Matrica konfuzije:\n",
      "  [[10608   140]\n",
      " [  408  5437]]\n",
      "F1  0.9520224128874103\n"
     ]
    }
   ],
   "source": [
    "knn_model = neighbors.KNeighborsClassifier(n_neighbors=best_n)\n",
    "knn_model.fit(X_train, y_train)\n",
    "y_predict = knn_model.predict(X_test)\n",
    "\n",
    "acc=metrics.accuracy_score(y_test, y_predict)\n",
    "f1=metrics.f1_score(y_test, y_predict)\n",
    "matrix=metrics.confusion_matrix(y_test, y_predict)\n",
    "\n",
    "print('Najbolji rezultat na test skupu je: ',acc)\n",
    "print('Matrica konfuzije:\\n ', matrix)\n",
    "print('F1 ', f1)"
   ]
  },
  {
   "cell_type": "code",
   "execution_count": null,
   "metadata": {},
   "outputs": [],
   "source": []
  }
 ],
 "metadata": {
  "kernelspec": {
   "display_name": "Python 3",
   "language": "python",
   "name": "python3"
  },
  "language_info": {
   "codemirror_mode": {
    "name": "ipython",
    "version": 3
   },
   "file_extension": ".py",
   "mimetype": "text/x-python",
   "name": "python",
   "nbconvert_exporter": "python",
   "pygments_lexer": "ipython3",
   "version": "3.8.5"
  }
 },
 "nbformat": 4,
 "nbformat_minor": 4
}
